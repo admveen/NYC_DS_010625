{
 "cells": [
  {
   "cell_type": "markdown",
   "metadata": {
    "cell_style": "center",
    "slideshow": {
     "slide_type": "slide"
    }
   },
   "source": [
    "<div style=\"color:white;\n",
    "           display:fill;\n",
    "           border-radius:5px;\n",
    "           background-color:#5642C5;\n",
    "           font-size:200%;\n",
    "           font-family:Arial;letter-spacing:0.5px\">\n",
    "\n",
    "<p width = 20%, style=\"padding: 10px;\n",
    "              color:white;\">\n",
    "Z-tests (Part 2)\n",
    "              \n",
    "</p>\n",
    "</div>\n",
    "\n",
    "Data Science Cohort Live NYC Aug 2024\n",
    "<p>Phase 2: Topic 13</p>\n",
    "<br>\n",
    "<br>\n",
    "\n",
    "<div align = \"right\">\n",
    "<img src=\"Images/flatiron-school-logo.png\" align = \"right\" width=\"200\"/>\n",
    "</div>\n",
    "    \n",
    "    "
   ]
  },
  {
   "cell_type": "markdown",
   "metadata": {
    "cell_style": "center",
    "slideshow": {
     "slide_type": "slide"
    }
   },
   "source": [
    "#### Three classes of Z-tests:\n",
    "\n",
    "- **Right-tailed**\n",
    "- Left-tailed\n",
    "- Double-sided"
   ]
  },
  {
   "cell_type": "markdown",
   "metadata": {
    "slideshow": {
     "slide_type": "slide"
    }
   },
   "source": [
    "We did this in previous lecture. \n",
    "\n",
    "- Believe that our sample derived from a population with unknown mean **greater** than null population mean:\n",
    "\n",
    "$$ \\mu_1  >  \\mu_0 $$\n",
    "\n"
   ]
  },
  {
   "cell_type": "markdown",
   "metadata": {
    "slideshow": {
     "slide_type": "slide"
    }
   },
   "source": [
    "Significance level at $\\alpha = 0.05$:\n",
    "- 0.95 fraction of sampled means under the null hypothesis would lie below this point.\n",
    "- Only 0.05 fraction of sample means under the null hypothesis lie **greater** than this point."
   ]
  },
  {
   "cell_type": "code",
   "execution_count": 1,
   "metadata": {
    "slideshow": {
     "slide_type": "skip"
    }
   },
   "outputs": [],
   "source": [
    "import numpy as np\n",
    "import pandas as pd\n",
    "import matplotlib.pyplot as plt\n",
    "\n",
    "from scipy.stats import norm\n",
    "from scipy.stats import poisson"
   ]
  },
  {
   "cell_type": "code",
   "execution_count": 2,
   "metadata": {
    "slideshow": {
     "slide_type": "skip"
    }
   },
   "outputs": [],
   "source": [
    "%%capture right_tail_alpha\n",
    "\n",
    "\n",
    "x_scaled = np.linspace(-5,5,200)\n",
    "Y_scaled = norm.pdf(x_scaled, loc = 0, scale = 1)\n",
    "\n",
    "fig, ax = plt.subplots(1,2, figsize = (12,4))\n",
    "\n",
    "ax[0].plot(x_scaled, Y_scaled, c ='r', linewidth = 3)\n",
    "ax[0].axvline(1.645, c = 'b')\n",
    "ax[0].fill_between(x_scaled, Y_scaled, where = (x_scaled > 1.645 ), alpha = 0.5, color='b')\n",
    "ax[0].annotate(r'$\\alpha$ = 0.05', xytext = (2.5,.1), xy = (2.2,.01), fontsize=16, arrowprops=dict(facecolor='b', shrink=0.05), c ='b' )\n",
    "ax[0].set_xlabel('Z')\n",
    "ax[0].set_ylabel('PDF')\n",
    "ax[0].set_title('Right-Tailed Test')\n",
    "\n",
    "ax[1].plot(x_scaled, Y_scaled, c ='r', linewidth = 3)\n",
    "ax[1].axvline(1.645, c = 'b')\n",
    "ax[1].fill_between(x_scaled, Y_scaled, where = (x_scaled < 1.645 ), alpha = 0.5, color='r')\n",
    "ax[1].annotate('c = 0.95', xytext = (-5.0,.25), xy = (-.5,.20), fontsize=16, arrowprops=dict(facecolor='r', shrink=0.05), c ='r' )\n",
    "ax[1].set_xlabel('Z')\n",
    "ax[1].set_ylabel('PDF')\n",
    "ax[1].set_title('Right-Tailed Test')\n",
    "plt.show()"
   ]
  },
  {
   "cell_type": "code",
   "execution_count": 3,
   "metadata": {
    "scrolled": false,
    "slideshow": {
     "slide_type": "subslide"
    }
   },
   "outputs": [
    {
     "data": {
      "image/png": "[encoded data removed]",
      "text/plain": [
       "<Figure size 864x288 with 2 Axes>"
      ]
     },
     "metadata": {
      "needs_background": "light"
     },
     "output_type": "display_data"
    }
   ],
   "source": [
    "right_tail_alpha()"
   ]
  },
  {
   "cell_type": "markdown",
   "metadata": {
    "slideshow": {
     "slide_type": "fragment"
    }
   },
   "source": [
    "**Corresponds** to $Z_{crit} = 1.645$"
   ]
  },
  {
   "cell_type": "markdown",
   "metadata": {
    "cell_style": "split",
    "slideshow": {
     "slide_type": "slide"
    }
   },
   "source": [
    "Recall our population:\n",
    "- for site A\n",
    "\n",
    "**Use for null**"
   ]
  },
  {
   "cell_type": "code",
   "execution_count": 4,
   "metadata": {
    "cell_style": "split",
    "slideshow": {
     "slide_type": "fragment"
    }
   },
   "outputs": [],
   "source": [
    "population_with_site_A = poisson.rvs(\n",
    "    mu = 2, size = 500000)"
   ]
  },
  {
   "cell_type": "code",
   "execution_count": 5,
   "metadata": {
    "cell_style": "center",
    "slideshow": {
     "slide_type": "fragment"
    }
   },
   "outputs": [
    {
     "data": {
      "text/plain": [
       "1.999162"
      ]
     },
     "execution_count": 5,
     "metadata": {},
     "output_type": "execute_result"
    }
   ],
   "source": [
    "mu_0 = population_with_site_A.mean()\n",
    "mu_0"
   ]
  },
  {
   "cell_type": "code",
   "execution_count": 6,
   "metadata": {
    "slideshow": {
     "slide_type": "fragment"
    }
   },
   "outputs": [
    {
     "data": {
      "text/plain": [
       "1.4152403674839127"
      ]
     },
     "execution_count": 6,
     "metadata": {},
     "output_type": "execute_result"
    }
   ],
   "source": [
    "sigma_0 = population_with_site_A.std()\n",
    "sigma_0"
   ]
  },
  {
   "cell_type": "markdown",
   "metadata": {
    "cell_style": "center",
    "slideshow": {
     "slide_type": "slide"
    }
   },
   "source": [
    "Soundcloud UX/UI rolls out variant website B.\n",
    "\n",
    "- Observe a sample mean of visits per day per user of 2.25.\n",
    "- Sample size N = 200."
   ]
  },
  {
   "cell_type": "code",
   "execution_count": 7,
   "metadata": {
    "slideshow": {
     "slide_type": "fragment"
    }
   },
   "outputs": [
    {
     "data": {
      "text/plain": [
       "visits/day    2.12\n",
       "dtype: float64"
      ]
     },
     "execution_count": 7,
     "metadata": {},
     "output_type": "execute_result"
    }
   ],
   "source": [
    "populationB_visits_per_day = poisson.rvs(mu = 2.2, size = 200)\n",
    "popB = pd.DataFrame({'visits/day': populationB_visits_per_day })\n",
    "popB.mean()"
   ]
  },
  {
   "cell_type": "markdown",
   "metadata": {
    "cell_style": "center",
    "slideshow": {
     "slide_type": "slide"
    }
   },
   "source": [
    "**Construct z-statistic for our sample**\n",
    "\n",
    "Use population mean and std:"
   ]
  },
  {
   "cell_type": "code",
   "execution_count": 8,
   "metadata": {
    "slideshow": {
     "slide_type": "fragment"
    }
   },
   "outputs": [
    {
     "data": {
      "text/plain": [
       "2.506560084837141"
      ]
     },
     "execution_count": 8,
     "metadata": {},
     "output_type": "execute_result"
    }
   ],
   "source": [
    "#  Calculate Z-statistic\n",
    "Xbar = 2.25  # Sample mean (observed average from the sample)\n",
    "N = 200  # Sample size (number of observations in the sample)\n",
    "Z = (Xbar - mu_0)/((sigma_0)/np.sqrt(N))  # Z-score (standardized test statistic for hypothesis testing)\n",
    "Z  \n"
   ]
  },
  {
   "cell_type": "markdown",
   "metadata": {
    "slideshow": {
     "slide_type": "slide"
    }
   },
   "source": [
    "#### Scipy:\n",
    "\n",
    "- to calculate p-value for right-tailed test"
   ]
  },
  {
   "cell_type": "code",
   "execution_count": 9,
   "metadata": {
    "slideshow": {
     "slide_type": "fragment"
    }
   },
   "outputs": [
    {
     "data": {
      "text/plain": [
       "0.006095616775313333"
      ]
     },
     "execution_count": 9,
     "metadata": {},
     "output_type": "execute_result"
    }
   ],
   "source": [
    "p_rightsided = norm.sf(Z)\n",
    "p_rightsided"
   ]
  },
  {
   "cell_type": "markdown",
   "metadata": {
    "slideshow": {
     "slide_type": "subslide"
    }
   },
   "source": [
    "**Reject the null**"
   ]
  },
  {
   "cell_type": "markdown",
   "metadata": {
    "cell_style": "center",
    "slideshow": {
     "slide_type": "slide"
    }
   },
   "source": [
    "#### Three classes of Z-tests:\n",
    "- **Left-tailed**\n",
    "- Right-tailed\n",
    "- Double-sided"
   ]
  },
  {
   "cell_type": "markdown",
   "metadata": {
    "cell_style": "split",
    "slideshow": {
     "slide_type": "slide"
    }
   },
   "source": [
    "Management also wants to try a new layout for a website (Site C) without consulting the Quality Analysis (QA) Team.\n",
    "\n",
    "We believe that the new web site sucks.\n",
    "\n",
    "So far, we have a finite sample of daily site visits per user per day with site C.\n",
    "\n",
    "\n",
    "*What might our hypothesis be?*"
   ]
  },
  {
   "cell_type": "markdown",
   "metadata": {
    "cell_style": "split",
    "slideshow": {
     "slide_type": "fragment"
    }
   },
   "source": [
    "- **Hypothesis**: mean of this finite sample $\\bar{X_1}$ comes from a population whose (unknown) mean $\\mu_1$:\n",
    "\n",
    "- Less than population mean $\\mu_0$. \n",
    "\n",
    "$$ \\mu_1 < \\mu_0 $$"
   ]
  },
  {
   "cell_type": "markdown",
   "metadata": {
    "cell_style": "center",
    "slideshow": {
     "slide_type": "slide"
    }
   },
   "source": [
    "Test $\\bar{X_1}$ against distribution of mean of samples drawn from the population (site A data):\n",
    "\n",
    "Set significance level $\\alpha$ = 0.05:\n",
    "\n",
    "- threshold: probability of value or **less** <= 0.05 of getting $\\bar{X_1}$ or less under the null."
   ]
  },
  {
   "cell_type": "markdown",
   "metadata": {
    "slideshow": {
     "slide_type": "fragment"
    }
   },
   "source": [
    "Equivalently: \n",
    "- \\>= 0.95 of $\\bar{X}$ of samples drawn from original population are greater than $\\bar{X}_1$.\n"
   ]
  },
  {
   "cell_type": "markdown",
   "metadata": {
    "slideshow": {
     "slide_type": "slide"
    }
   },
   "source": [
    "#### Left-Tailed Test"
   ]
  },
  {
   "cell_type": "code",
   "execution_count": 10,
   "metadata": {
    "slideshow": {
     "slide_type": "skip"
    }
   },
   "outputs": [],
   "source": [
    "%%capture left_tail_alpha\n",
    "x_scaled = np.linspace(-5,5,200)\n",
    "Y_scaled = norm.pdf(x_scaled, loc = 0, scale = 1)\n",
    "\n",
    "fig, ax = plt.subplots(1,2, figsize = (12,4))\n",
    "\n",
    "ax[0].plot(x_scaled, Y_scaled, c ='r', linewidth = 3)\n",
    "ax[0].axvline(-1.645, c = 'b')\n",
    "ax[0].fill_between(x_scaled, Y_scaled, where = (x_scaled < -1.645 ), alpha = 0.5, color='b')\n",
    "ax[0].annotate(r'$\\alpha$ = 0.05', xytext = (-5,.1), xy = (-2.2,.01), fontsize=16, arrowprops=dict(facecolor='b', shrink=0.05), c ='b' )\n",
    "ax[0].set_xlabel('Z')\n",
    "ax[0].set_ylabel('PDF')\n",
    "ax[0].set_title('Left-Tailed Test')\n",
    "\n",
    "ax[1].plot(x_scaled, Y_scaled, c ='r', linewidth = 3)\n",
    "ax[1].axvline(-1.645, c = 'b')\n",
    "ax[1].fill_between(x_scaled, Y_scaled, where = (x_scaled > -1.645 ), alpha = 0.5, color='r')\n",
    "ax[1].annotate('c = 0.95', xytext = (2.0,.25), xy = (.5,.20), fontsize=16, arrowprops=dict(facecolor='r', shrink=0.05), c ='r' )\n",
    "ax[1].set_xlabel('Z')\n",
    "ax[1].set_ylabel('PDF')\n",
    "ax[1].set_title('Left-Tailed Test')\n",
    "plt.show()"
   ]
  },
  {
   "cell_type": "code",
   "execution_count": 11,
   "metadata": {
    "scrolled": true,
    "slideshow": {
     "slide_type": "fragment"
    }
   },
   "outputs": [
    {
     "data": {
      "image/png": "[encoded data removed]",
      "text/plain": [
       "<Figure size 864x288 with 2 Axes>"
      ]
     },
     "metadata": {
      "needs_background": "light"
     },
     "output_type": "display_data"
    }
   ],
   "source": [
    "left_tail_alpha()"
   ]
  },
  {
   "cell_type": "markdown",
   "metadata": {
    "slideshow": {
     "slide_type": "fragment"
    }
   },
   "source": [
    "**Corresponds** to $Z_{crit} = -1.645$\n",
    "- Note that  $Z_{crit}$ in a left-tailed test is negative!"
   ]
  },
  {
   "cell_type": "markdown",
   "metadata": {
    "slideshow": {
     "slide_type": "slide"
    }
   },
   "source": [
    "Sample of user engagement with site C:\n",
    "- N = 200 samples"
   ]
  },
  {
   "cell_type": "code",
   "execution_count": 12,
   "metadata": {
    "slideshow": {
     "slide_type": "skip"
    }
   },
   "outputs": [],
   "source": [
    "N = 200\n",
    "sample_with_site_C = poisson.rvs(mu = 1.65, size = N )"
   ]
  },
  {
   "cell_type": "code",
   "execution_count": 13,
   "metadata": {
    "slideshow": {
     "slide_type": "fragment"
    }
   },
   "outputs": [
    {
     "data": {
      "text/plain": [
       "array([2, 1, 0, 1, 1, 2, 2, 0, 2, 2, 1, 1, 2, 2, 1, 0, 3, 1, 4, 3, 5, 1,\n",
       "       0, 0, 2, 1, 1, 1, 4, 0, 2, 0, 0, 0, 1, 2, 2, 0, 3, 1, 1, 1, 1, 3,\n",
       "       0, 1, 4, 3, 3, 3, 2, 3, 1, 1, 0, 3, 3, 2, 1, 2, 0, 1, 3, 2, 3, 0,\n",
       "       2, 7, 2, 0, 2, 1, 1, 0, 3, 1, 2, 1, 1, 0, 3, 3, 3, 4, 1, 2, 3, 1,\n",
       "       1, 3, 3, 2, 4, 0, 4, 1, 3, 2, 2, 2, 2, 1, 5, 0, 1, 3, 1, 1, 2, 2,\n",
       "       2, 1, 2, 2, 2, 1, 1, 1, 1, 2, 0, 2, 1, 2, 1, 1, 0, 1, 2, 2, 1, 5,\n",
       "       0, 1, 1, 1, 2, 0, 0, 1, 3, 2, 1, 0, 1, 0, 2, 3, 0, 2, 3, 3, 1, 1,\n",
       "       3, 3, 2, 2, 0, 2, 1, 2, 0, 1, 2, 1, 3, 4, 3, 3, 2, 1, 2, 0, 0, 2,\n",
       "       0, 1, 1, 0, 1, 3, 4, 0, 1, 3, 2, 2, 2, 3, 2, 3, 3, 2, 0, 0, 0, 1,\n",
       "       2, 1])"
      ]
     },
     "execution_count": 13,
     "metadata": {},
     "output_type": "execute_result"
    }
   ],
   "source": [
    "sample_with_site_C"
   ]
  },
  {
   "cell_type": "markdown",
   "metadata": {
    "slideshow": {
     "slide_type": "slide"
    }
   },
   "source": [
    "The mean of sample from site C."
   ]
  },
  {
   "cell_type": "code",
   "execution_count": 14,
   "metadata": {
    "slideshow": {
     "slide_type": "fragment"
    }
   },
   "outputs": [
    {
     "data": {
      "text/plain": [
       "1.645"
      ]
     },
     "execution_count": 14,
     "metadata": {},
     "output_type": "execute_result"
    }
   ],
   "source": [
    "sampleC_mean = sample_with_site_C.mean()\n",
    "sampleC_mean"
   ]
  },
  {
   "cell_type": "markdown",
   "metadata": {
    "slideshow": {
     "slide_type": "slide"
    }
   },
   "source": [
    "**Construct Z-statistic for sample C mean under the null hypothesis:**"
   ]
  },
  {
   "cell_type": "code",
   "execution_count": 15,
   "metadata": {
    "slideshow": {
     "slide_type": "fragment"
    }
   },
   "outputs": [
    {
     "data": {
      "text/plain": [
       "-3.5390504340095683"
      ]
     },
     "execution_count": 15,
     "metadata": {},
     "output_type": "execute_result"
    }
   ],
   "source": [
    "Z_stat = (sampleC_mean - mu_0) / (sigma_0/np.sqrt(N))\n",
    "Z_stat"
   ]
  },
  {
   "cell_type": "markdown",
   "metadata": {
    "slideshow": {
     "slide_type": "fragment"
    }
   },
   "source": [
    "Notice that Z is negative, as it should be."
   ]
  },
  {
   "cell_type": "markdown",
   "metadata": {
    "cell_style": "center",
    "slideshow": {
     "slide_type": "slide"
    }
   },
   "source": [
    "**Calculate p-value:**"
   ]
  },
  {
   "cell_type": "code",
   "execution_count": 16,
   "metadata": {
    "slideshow": {
     "slide_type": "skip"
    }
   },
   "outputs": [],
   "source": [
    "%%capture left_tailed_result\n",
    "fig, ax = plt.subplots()\n",
    "\n",
    "ax.plot(x_scaled, Y_scaled, c ='r', linewidth = 3)\n",
    "ax.axvline(-1.645, c = 'b', linestyle = '--')\n",
    "ax.axvline(Z_stat, c = 'g')\n",
    "ax.annotate(r'$\\alpha$ = 0.05', xytext = (-1.7,.3), xy = (-2.2,.01), fontsize=16, c ='b' )\n",
    "ax.annotate(\"$Z_{stat}$\" , xytext = (-3.8,.3), xy = (-2.2,.01), fontsize=16, c ='g' )\n",
    "\n",
    "ax.set_xlabel('Z')\n",
    "ax.set_ylabel('PDF')\n",
    "ax.set_title('Left-Tailed Test')\n",
    "plt.show()"
   ]
  },
  {
   "cell_type": "code",
   "execution_count": 17,
   "metadata": {
    "cell_style": "split",
    "slideshow": {
     "slide_type": "slide"
    }
   },
   "outputs": [
    {
     "data": {
      "image/png": "[encoded data removed]",
      "text/plain": [
       "<Figure size 432x288 with 1 Axes>"
      ]
     },
     "metadata": {
      "needs_background": "light"
     },
     "output_type": "display_data"
    }
   ],
   "source": [
    "left_tailed_result()"
   ]
  },
  {
   "cell_type": "markdown",
   "metadata": {
    "cell_style": "split",
    "slideshow": {
     "slide_type": "fragment"
    }
   },
   "source": [
    "Here we use the cdf!\n",
    "\n",
    "$$p = P(Z \\leq Z_{stat}) $$"
   ]
  },
  {
   "cell_type": "code",
   "execution_count": 18,
   "metadata": {
    "cell_style": "split",
    "slideshow": {
     "slide_type": "fragment"
    }
   },
   "outputs": [
    {
     "data": {
      "text/plain": [
       "0.0002007845619283556"
      ]
     },
     "execution_count": 18,
     "metadata": {},
     "output_type": "execute_result"
    }
   ],
   "source": [
    "p_value = norm.cdf(Z_stat)\n",
    "p_value"
   ]
  },
  {
   "cell_type": "markdown",
   "metadata": {
    "cell_style": "split",
    "slideshow": {
     "slide_type": "fragment"
    }
   },
   "source": [
    "Reject that $H_0$!"
   ]
  },
  {
   "cell_type": "markdown",
   "metadata": {
    "cell_style": "split",
    "slideshow": {
     "slide_type": "fragment"
    }
   },
   "source": [
    "New website version probably sucks."
   ]
  },
  {
   "cell_type": "markdown",
   "metadata": {
    "slideshow": {
     "slide_type": "slide"
    }
   },
   "source": [
    "#### The two-tailed test"
   ]
  },
  {
   "cell_type": "markdown",
   "metadata": {
    "slideshow": {
     "slide_type": "slide"
    }
   },
   "source": [
    "I'm skeptical of all these website variants floating around. But still let's test the notion that a given variant is different.\n",
    "\n",
    "**Hypothesis**: New website design changes visit frequency per user per day from site A design. \n",
    "- Yes or no?"
   ]
  },
  {
   "cell_type": "markdown",
   "metadata": {
    "slideshow": {
     "slide_type": "slide"
    }
   },
   "source": [
    "After new site rollout:\n",
    "    \n",
    "- Take sample of N = 200 and get sample mean $\\bar{X}_1 = 2.3$"
   ]
  },
  {
   "cell_type": "markdown",
   "metadata": {
    "slideshow": {
     "slide_type": "subslide"
    }
   },
   "source": [
    "Test at Significance level of $\\alpha = 0.05$:\n",
    " - Reject null if:\n",
    "    - Our sample mean lies outside the 95% interval of means sampled from null population.\n",
    " - Else: \n",
    "     - Do not reject null."
   ]
  },
  {
   "cell_type": "code",
   "execution_count": 19,
   "metadata": {
    "slideshow": {
     "slide_type": "skip"
    }
   },
   "outputs": [],
   "source": [
    "%%capture two_tail_alpha\n",
    "x_scaled = np.linspace(-5,5,200)\n",
    "Y_scaled = norm.pdf(x_scaled, loc = 0, scale = 1)\n",
    "\n",
    "fig, ax = plt.subplots(1,2, figsize = (12,4))\n",
    "\n",
    "ax[0].plot(x_scaled, Y_scaled, c ='r', linewidth = 3)\n",
    "ax[0].axvline(-1.96, c = 'b')\n",
    "ax[0].axvline(1.96, c = 'b')\n",
    "ax[0].fill_between(x_scaled, Y_scaled, where = (x_scaled > 1.96), alpha = 0.5, color='b')\n",
    "ax[0].fill_between(x_scaled, Y_scaled, where = (x_scaled < -1.96 ), alpha = 0.5, color='b')\n",
    "\n",
    "ax[0].annotate(r'$\\frac{\\alpha}{2}$ = 0.025', xytext = (2.5,.1), xy = (2.2,.01), fontsize=16, arrowprops=dict(facecolor='b', shrink=0.05), c ='b' )\n",
    "ax[0].set_xlabel('Z')\n",
    "ax[0].set_ylabel('PDF')\n",
    "ax[0].set_title('Two-Tailed Test')\n",
    "\n",
    "ax[1].plot(x_scaled, Y_scaled, c ='r', linewidth = 3)\n",
    "ax[1].axvline(-1.96, c = 'b')\n",
    "ax[1].axvline(1.96, c = 'b')\n",
    "\n",
    "ax[1].fill_between(x_scaled, Y_scaled, where = (x_scaled > -1.96 )& (x_scaled < 1.96), alpha = 0.5, color='r')\n",
    "\n",
    "\n",
    "ax[1].annotate('c = 0.95', xytext = (-5.0,.25), xy = (-.5,.20), fontsize=16, arrowprops=dict(facecolor='r', shrink=0.05), c ='r' )\n",
    "ax[1].set_xlabel('Z')\n",
    "ax[1].set_ylabel('PDF')\n",
    "ax[1].set_title('Two-Tailed Test')\n",
    "plt.show()"
   ]
  },
  {
   "cell_type": "code",
   "execution_count": 20,
   "metadata": {
    "cell_style": "center",
    "slideshow": {
     "slide_type": "subslide"
    }
   },
   "outputs": [
    {
     "data": {
      "image/png": "[encoded data removed]",
      "text/plain": [
       "<Figure size 864x288 with 2 Axes>"
      ]
     },
     "metadata": {
      "needs_background": "light"
     },
     "output_type": "display_data"
    }
   ],
   "source": [
    "two_tail_alpha()"
   ]
  },
  {
   "cell_type": "markdown",
   "metadata": {
    "cell_style": "split",
    "slideshow": {
     "slide_type": "fragment"
    }
   },
   "source": [
    "**Corresponds** to $Z_{crit} = \\pm 1.96$\n",
    "\n",
    "- Notice that we now have critical Z-values lying symmetrically about zero.\n"
   ]
  },
  {
   "cell_type": "markdown",
   "metadata": {
    "cell_style": "split",
    "slideshow": {
     "slide_type": "fragment"
    }
   },
   "source": [
    "If $|Z| > 1.96$, reject the null."
   ]
  },
  {
   "cell_type": "code",
   "execution_count": 21,
   "metadata": {
    "cell_style": "split",
    "slideshow": {
     "slide_type": "fragment"
    }
   },
   "outputs": [
    {
     "data": {
      "text/plain": [
       "1.9599639845400545"
      ]
     },
     "execution_count": 21,
     "metadata": {},
     "output_type": "execute_result"
    }
   ],
   "source": [
    "alpha = 0.05\n",
    "\n",
    "Z_crit_twosided = norm.isf(alpha/2)\n",
    "Z_crit_twosided "
   ]
  },
  {
   "cell_type": "markdown",
   "metadata": {
    "cell_style": "center",
    "slideshow": {
     "slide_type": "slide"
    }
   },
   "source": [
    "Again:\n",
    "    \n",
    "- Took sample of N = 200 and get sample mean $\\bar{X}_1 = 2.3$\n",
    "- Test against null."
   ]
  },
  {
   "cell_type": "code",
   "execution_count": 22,
   "metadata": {
    "cell_style": "split",
    "slideshow": {
     "slide_type": "fragment"
    }
   },
   "outputs": [
    {
     "data": {
      "text/plain": [
       "1.999162"
      ]
     },
     "execution_count": 22,
     "metadata": {},
     "output_type": "execute_result"
    }
   ],
   "source": [
    "mu_0"
   ]
  },
  {
   "cell_type": "code",
   "execution_count": 23,
   "metadata": {
    "cell_style": "split",
    "slideshow": {
     "slide_type": "fragment"
    }
   },
   "outputs": [
    {
     "data": {
      "text/plain": [
       "1.4152403674839127"
      ]
     },
     "execution_count": 23,
     "metadata": {},
     "output_type": "execute_result"
    }
   ],
   "source": [
    "sigma_0"
   ]
  },
  {
   "cell_type": "code",
   "execution_count": 24,
   "metadata": {
    "slideshow": {
     "slide_type": "fragment"
    }
   },
   "outputs": [
    {
     "data": {
      "text/plain": [
       "3.0061973177996775"
      ]
     },
     "execution_count": 24,
     "metadata": {},
     "output_type": "execute_result"
    }
   ],
   "source": [
    "Z_stat = (2.3 - mu_0)/(sigma_0/np.sqrt(200))\n",
    "Z_stat"
   ]
  },
  {
   "cell_type": "markdown",
   "metadata": {
    "slideshow": {
     "slide_type": "subslide"
    }
   },
   "source": [
    "Outside of critical region?"
   ]
  },
  {
   "cell_type": "markdown",
   "metadata": {
    "slideshow": {
     "slide_type": "slide"
    }
   },
   "source": [
    "Calculating p-value of the two-sided test."
   ]
  },
  {
   "cell_type": "code",
   "execution_count": 25,
   "metadata": {
    "slideshow": {
     "slide_type": "skip"
    }
   },
   "outputs": [],
   "source": [
    "%%capture two_tail_alpha_withZ\n",
    "x_scaled = np.linspace(-5,5,200)\n",
    "Y_scaled = norm.pdf(x_scaled, loc = 0, scale = 1)\n",
    "\n",
    "fig, ax = plt.subplots()\n",
    "\n",
    "ax.plot(x_scaled, Y_scaled, c ='r', linewidth = 3)\n",
    "ax.axvline(- Z_crit_twosided, c = 'b', linestyle = '--')\n",
    "ax.axvline(Z_crit_twosided, c = 'b', linestyle = '--')\n",
    "\n",
    "ax.axvline(- Z_stat, c = 'lightgreen', linestyle = '--' )\n",
    "ax.axvline(+ Z_stat, c = 'g', linestyle = '--' )\n",
    "\n",
    "\n",
    "ax.fill_between(x_scaled, Y_scaled, where = (x_scaled > 1.96), alpha = 0.5, color='lightsteelblue')\n",
    "ax.fill_between(x_scaled, Y_scaled, where = (x_scaled < -1.96 ), alpha = 0.5, color='lightsteelblue')\n",
    "\n",
    "ax.fill_between(x_scaled, Y_scaled, where = (x_scaled > Z_stat), alpha = 0.5, color='g')\n",
    "ax.fill_between(x_scaled, Y_scaled, where = (x_scaled < -Z_stat ), alpha = 0.5, color='g')\n",
    "\n",
    "ax.annotate('+$Z_{stat}$', xy = (+3,.35), fontsize=16,  c ='g')\n",
    "ax.annotate('-$Z_{stat}$', xy = (-4.5,.35), fontsize=16, c ='lightgreen' )\n",
    "\n",
    "ax.annotate(r'$\\frac{\\alpha}{2}$ = 0.025', xytext = (2.5,.1), xy = (2.2,.01), fontsize=16, arrowprops=dict(facecolor='b', shrink=0.05), c ='b' )\n",
    "ax.set_xlabel('Z')\n",
    "ax.set_ylabel('PDF')\n",
    "ax.set_title('Two-Tailed Test')\n",
    "\n",
    "plt.show()"
   ]
  },
  {
   "cell_type": "code",
   "execution_count": 26,
   "metadata": {
    "cell_style": "split",
    "slideshow": {
     "slide_type": "slide"
    }
   },
   "outputs": [
    {
     "data": {
      "image/png": "[encoded data removed]",
      "text/plain": [
       "<Figure size 432x288 with 1 Axes>"
      ]
     },
     "metadata": {
      "needs_background": "light"
     },
     "output_type": "display_data"
    }
   ],
   "source": [
    "two_tail_alpha_withZ()"
   ]
  },
  {
   "cell_type": "markdown",
   "metadata": {
    "cell_style": "split"
   },
   "source": [
    "#### Green area is p-value for 2-sided Z test."
   ]
  },
  {
   "cell_type": "markdown",
   "metadata": {
    "slideshow": {
     "slide_type": "slide"
    }
   },
   "source": [
    "For p-value on double-sided:\n",
    "- calculate that we could have a fluctuation this large or more extreme\n",
    "- on either side of the distribution of sampling means"
   ]
  },
  {
   "cell_type": "markdown",
   "metadata": {
    "cell_style": "split",
    "slideshow": {
     "slide_type": "subslide"
    }
   },
   "source": [
    "Need both cdf and sf for double-sided:\n",
    "\n",
    "$$ P(Z <= - Z_{stat}) + P(Z >= Z_{stat}) $$"
   ]
  },
  {
   "cell_type": "code",
   "execution_count": 27,
   "metadata": {
    "cell_style": "split",
    "slideshow": {
     "slide_type": "-"
    }
   },
   "outputs": [
    {
     "data": {
      "image/png": "[encoded data removed]",
      "text/plain": [
       "<Figure size 432x288 with 1 Axes>"
      ]
     },
     "metadata": {
      "needs_background": "light"
     },
     "output_type": "display_data"
    }
   ],
   "source": [
    "two_tail_alpha_withZ()"
   ]
  },
  {
   "cell_type": "code",
   "execution_count": 28,
   "metadata": {
    "slideshow": {
     "slide_type": "fragment"
    }
   },
   "outputs": [
    {
     "data": {
      "text/plain": [
       "0.0026453727526336702"
      ]
     },
     "execution_count": 28,
     "metadata": {},
     "output_type": "execute_result"
    }
   ],
   "source": [
    "# evaluate p-value for the two sided test?\n",
    "p_val_two_sided = norm.cdf(-Z_stat) + norm.sf(+Z_stat)\n",
    "p_val_two_sided"
   ]
  },
  {
   "cell_type": "markdown",
   "metadata": {
    "cell_style": "center",
    "slideshow": {
     "slide_type": "slide"
    }
   },
   "source": [
    "#### Summary of hypotheses, tests, $Z_{crit}$ at $\\alpha = 0.05$:\n",
    "\n",
    "Is sample drawn from population with unknown $\\mu_1$ where:\n",
    "\n",
    "\n",
    "| Hypothesis | Test Type | $Z_{crit}$ |\n",
    "\n",
    "|$ \\mu_{1} <  \\mu_0$ ? | Left tailed | -1.645 |\n",
    "\n",
    "|$ \\mu_{1} >  \\mu_0$ ? | Right tailed | +1.645 |\n",
    "\n",
    "|$ \\mu_{1} \\neq  \\mu_0$ ? | Two tailed | $\\pm1.96$ |\n",
    "\n",
    "\n"
   ]
  },
  {
   "cell_type": "markdown",
   "metadata": {
    "cell_style": "split",
    "slideshow": {
     "slide_type": "slide"
    }
   },
   "source": [
    "Often face with a slightly different situation:\n",
    "- Have a sample and sample mean.\n",
    "- Want to evaluate whether different from a **known** population mean under the null.\n",
    "- But dont have the standard deviation of this population distribution.\n"
   ]
  },
  {
   "cell_type": "markdown",
   "metadata": {
    "cell_style": "split",
    "slideshow": {
     "slide_type": "fragment"
    }
   },
   "source": [
    "A common approach to deal with this:\n",
    "\n",
    "- assume null is given by distribution with given population $\\mu_0$\n",
    "- and that sample's standard deviation approximates null population standard deviation:\n",
    "$$ s \\approx \\sigma_0 $$\n"
   ]
  },
  {
   "cell_type": "markdown",
   "metadata": {
    "cell_style": "split",
    "slideshow": {
     "slide_type": "fragment"
    }
   },
   "source": [
    "This would be true, as we know, if our sample was drawn from the null distribution."
   ]
  },
  {
   "cell_type": "markdown",
   "metadata": {
    "slideshow": {
     "slide_type": "slide"
    }
   },
   "source": [
    "Take our sample from site B"
   ]
  },
  {
   "cell_type": "code",
   "execution_count": 29,
   "metadata": {
    "cell_style": "center",
    "scrolled": true,
    "slideshow": {
     "slide_type": "fragment"
    }
   },
   "outputs": [
    {
     "data": {
      "text/html": [
       "<div>\n",
       "<style scoped>\n",
       "    .dataframe tbody tr th:only-of-type {\n",
       "        vertical-align: middle;\n",
       "    }\n",
       "\n",
       "    .dataframe tbody tr th {\n",
       "        vertical-align: top;\n",
       "    }\n",
       "\n",
       "    .dataframe thead th {\n",
       "        text-align: right;\n",
       "    }\n",
       "</style>\n",
       "<table border=\"1\" class=\"dataframe\">\n",
       "  <thead>\n",
       "    <tr style=\"text-align: right;\">\n",
       "      <th></th>\n",
       "      <th>visits/day</th>\n",
       "    </tr>\n",
       "  </thead>\n",
       "  <tbody>\n",
       "    <tr>\n",
       "      <th>0</th>\n",
       "      <td>1</td>\n",
       "    </tr>\n",
       "    <tr>\n",
       "      <th>1</th>\n",
       "      <td>0</td>\n",
       "    </tr>\n",
       "    <tr>\n",
       "      <th>2</th>\n",
       "      <td>1</td>\n",
       "    </tr>\n",
       "    <tr>\n",
       "      <th>3</th>\n",
       "      <td>3</td>\n",
       "    </tr>\n",
       "    <tr>\n",
       "      <th>4</th>\n",
       "      <td>5</td>\n",
       "    </tr>\n",
       "    <tr>\n",
       "      <th>...</th>\n",
       "      <td>...</td>\n",
       "    </tr>\n",
       "    <tr>\n",
       "      <th>195</th>\n",
       "      <td>5</td>\n",
       "    </tr>\n",
       "    <tr>\n",
       "      <th>196</th>\n",
       "      <td>1</td>\n",
       "    </tr>\n",
       "    <tr>\n",
       "      <th>197</th>\n",
       "      <td>2</td>\n",
       "    </tr>\n",
       "    <tr>\n",
       "      <th>198</th>\n",
       "      <td>2</td>\n",
       "    </tr>\n",
       "    <tr>\n",
       "      <th>199</th>\n",
       "      <td>2</td>\n",
       "    </tr>\n",
       "  </tbody>\n",
       "</table>\n",
       "<p>200 rows × 1 columns</p>\n",
       "</div>"
      ],
      "text/plain": [
       "     visits/day\n",
       "0             1\n",
       "1             0\n",
       "2             1\n",
       "3             3\n",
       "4             5\n",
       "..          ...\n",
       "195           5\n",
       "196           1\n",
       "197           2\n",
       "198           2\n",
       "199           2\n",
       "\n",
       "[200 rows x 1 columns]"
      ]
     },
     "execution_count": 29,
     "metadata": {},
     "output_type": "execute_result"
    }
   ],
   "source": [
    "popB"
   ]
  },
  {
   "cell_type": "code",
   "execution_count": 30,
   "metadata": {
    "cell_style": "split"
   },
   "outputs": [
    {
     "data": {
      "text/plain": [
       "visits/day    2.12\n",
       "dtype: float64"
      ]
     },
     "execution_count": 30,
     "metadata": {},
     "output_type": "execute_result"
    }
   ],
   "source": [
    "popB.mean()"
   ]
  },
  {
   "cell_type": "markdown",
   "metadata": {
    "cell_style": "split",
    "slideshow": {
     "slide_type": "slide"
    }
   },
   "source": [
    "- Is our sample showing that the population mean is now different than 2?\n",
    "\n",
    "**Note: let's say we have no information on standard deviation**"
   ]
  },
  {
   "cell_type": "markdown",
   "metadata": {
    "slideshow": {
     "slide_type": "slide"
    }
   },
   "source": [
    "Z-test:\n",
    "- tests sample mean $X_1$ of sample with size N against probability:\n",
    "    - of drawing random sample means $\\bar{X}$ of size N from population with mean 2.\n",
    "    \n",
    "- $H_0$: $\\mu = 2$ <br>\n",
    "- $H_a$: $\\mu \\neq 2$\n"
   ]
  },
  {
   "cell_type": "markdown",
   "metadata": {
    "slideshow": {
     "slide_type": "slide"
    }
   },
   "source": [
    "This is a two-sided test:\n",
    "- in this form, we can use a nice package\n",
    "\n",
    "**Statsmodels**"
   ]
  },
  {
   "cell_type": "code",
   "execution_count": 31,
   "metadata": {
    "slideshow": {
     "slide_type": "fragment"
    }
   },
   "outputs": [],
   "source": [
    "# import the ztest module from statsmodels\n",
    "\n",
    "from statsmodels.stats.weightstats import ztest"
   ]
  },
  {
   "cell_type": "markdown",
   "metadata": {
    "cell_style": "center",
    "slideshow": {
     "slide_type": "slide"
    }
   },
   "source": [
    "My hypothesis for sample B is:\n",
    "\n",
    "- I believe this sample mean is drawn from a population mean not equal to 2. Yes or no?\n",
    "\n",
    "$H_0$ is $\\mu = 2$. <br>\n",
    "$H_a$ is $\\mu \\neq 2$."
   ]
  },
  {
   "cell_type": "markdown",
   "metadata": {
    "slideshow": {
     "slide_type": "slide"
    }
   },
   "source": [
    "#### Perform two sided test with statsmodels\n",
    "\n",
    "- can input sample list directly and population mean we are comparing to:\n",
    "\n",
    "ztest(sample, value = mean, alternative = __)"
   ]
  },
  {
   "cell_type": "code",
   "execution_count": 32,
   "metadata": {
    "cell_style": "center",
    "slideshow": {
     "slide_type": "fragment"
    }
   },
   "outputs": [
    {
     "name": "stdout",
     "output_type": "stream",
     "text": [
      "[1.12217302] [0.26178888]\n"
     ]
    }
   ],
   "source": [
    "Z_score, pval = ztest(popB, value = 2, alternative='two-sided')\n",
    "print(Z_score, pval)"
   ]
  },
  {
   "cell_type": "markdown",
   "metadata": {},
   "source": [
    "#### Perform right sided test with statsmodels\n",
    "\n",
    "My hypothesis for sample B is:\n",
    "\n",
    "- I believe this sample mean is drawn from a population mean greater than 2. Yes or no?\n",
    "\n",
    "$H_0$ is $\\mu = 2$. <br>\n",
    "$H_a$ is $\\mu > 2$."
   ]
  },
  {
   "cell_type": "code",
   "execution_count": 33,
   "metadata": {},
   "outputs": [
    {
     "name": "stdout",
     "output_type": "stream",
     "text": [
      "[1.12217302] [0.13089444]\n"
     ]
    }
   ],
   "source": [
    "Z_score, pval = ztest(popB, value = 2, alternative='larger')\n",
    "print(Z_score, pval)"
   ]
  },
  {
   "cell_type": "markdown",
   "metadata": {
    "slideshow": {
     "slide_type": "slide"
    }
   },
   "source": [
    "#### Doing a left sided test \n",
    "My hypothesis for sample B is:\n",
    "\n",
    "- I believe this sample mean is drawn from a population mean less than 2. Yes or no?\n",
    "\n",
    "$H_0$ is $\\mu = 2$. <br>\n",
    "$H_a$ is $\\mu < 2$."
   ]
  },
  {
   "cell_type": "code",
   "execution_count": 34,
   "metadata": {
    "slideshow": {
     "slide_type": "fragment"
    }
   },
   "outputs": [
    {
     "data": {
      "text/plain": [
       "(array([1.12217302]), array([0.86910556]))"
      ]
     },
     "execution_count": 34,
     "metadata": {},
     "output_type": "execute_result"
    }
   ],
   "source": [
    "ztest(popB, value = 2, alternative='smaller')"
   ]
  }
 ],
 "metadata": {
  "celltoolbar": "Slideshow",
  "kernelspec": {
   "display_name": "Python (learn-env)",
   "language": "python",
   "name": "learn-env"
  },
  "language_info": {
   "codemirror_mode": {
    "name": "ipython",
    "version": 3
   },
   "file_extension": ".py",
   "mimetype": "text/x-python",
   "name": "python",
   "nbconvert_exporter": "python",
   "pygments_lexer": "ipython3",
   "version": "3.8.5"
  }
 },
 "nbformat": 4,
 "nbformat_minor": 4
}
