{
 "cells": [
  {
   "cell_type": "markdown",
   "id": "f928ad70",
   "metadata": {
    "slideshow": {
     "slide_type": "slide"
    }
   },
   "source": [
    "<div style=\"color:white;\n",
    "           display:fill;\n",
    "           border-radius:5px;\n",
    "           background-color:#5642C5;\n",
    "           font-size:200%;\n",
    "           font-family:Arial;letter-spacing:0.5px\">\n",
    "\n",
    "<p width = 20%, style=\"padding: 10px;\n",
    "              color:white;\">\n",
    "Pandas: Basic Manipulation of Series/DataFrames\n",
    "</p>\n",
    "</div>\n",
    "\n",
    "Data Science Cohort Live NYC Nov 2023\n",
    "<p>Phase 1</p>\n",
    "<br>\n",
    "<br>\n",
    "\n",
    "<div align = \"right\">\n",
    "<img src=\"Images/flatiron-school-logo.png\" align = \"right\" width=\"200\"/>\n",
    "</div>\n",
    "    "
   ]
  },
  {
   "cell_type": "markdown",
   "id": "91d9ebda",
   "metadata": {
    "slideshow": {
     "slide_type": "slide"
    }
   },
   "source": [
    "#### pandas Series and DataFrames: changing attributes and values\n",
    "- Cleaning and altering column/index names\n",
    "- Creating and removing columns/rows\n",
    "- Altering values \n",
    "- Changing datatypes\n"
   ]
  },
  {
   "cell_type": "markdown",
   "id": "aa2c9855",
   "metadata": {
    "slideshow": {
     "slide_type": "slide"
    }
   },
   "source": [
    "Import our libraries:"
   ]
  },
  {
   "cell_type": "code",
   "execution_count": 2,
   "id": "788f5ba6",
   "metadata": {
    "slideshow": {
     "slide_type": "-"
    }
   },
   "outputs": [],
   "source": [
    "import numpy as np\n",
    "import pandas as pd"
   ]
  },
  {
   "cell_type": "markdown",
   "id": "590a55b5",
   "metadata": {
    "slideshow": {
     "slide_type": "slide"
    }
   },
   "source": [
    "Load in our trusty cereal dataset again:"
   ]
  },
  {
   "cell_type": "code",
   "execution_count": 3,
   "id": "8b98315e",
   "metadata": {
    "slideshow": {
     "slide_type": "-"
    }
   },
   "outputs": [
    {
     "ename": "FileNotFoundError",
     "evalue": "[Errno 2] No such file or directory: 'Data/cereal.csv'",
     "output_type": "error",
     "traceback": [
      "\u001b[1;31m---------------------------------------------------------------------------\u001b[0m",
      "\u001b[1;31mFileNotFoundError\u001b[0m                         Traceback (most recent call last)",
      "\u001b[1;32m<ipython-input-3-f8698d2b38a8>\u001b[0m in \u001b[0;36m<module>\u001b[1;34m\u001b[0m\n\u001b[1;32m----> 1\u001b[1;33m \u001b[0mcereal_df\u001b[0m \u001b[1;33m=\u001b[0m \u001b[0mpd\u001b[0m\u001b[1;33m.\u001b[0m\u001b[0mread_csv\u001b[0m\u001b[1;33m(\u001b[0m\u001b[1;34m'Data/cereal.csv'\u001b[0m\u001b[1;33m)\u001b[0m\u001b[1;33m\u001b[0m\u001b[1;33m\u001b[0m\u001b[0m\n\u001b[0m\u001b[0;32m      2\u001b[0m \u001b[0mcereal_df\u001b[0m\u001b[1;33m.\u001b[0m\u001b[0mcolumns\u001b[0m\u001b[1;33m\u001b[0m\u001b[1;33m\u001b[0m\u001b[0m\n",
      "\u001b[1;32mc:\\Users\\maktr\\anaconda3\\envs\\learn-env\\lib\\site-packages\\pandas\\io\\parsers.py\u001b[0m in \u001b[0;36mread_csv\u001b[1;34m(filepath_or_buffer, sep, delimiter, header, names, index_col, usecols, squeeze, prefix, mangle_dupe_cols, dtype, engine, converters, true_values, false_values, skipinitialspace, skiprows, skipfooter, nrows, na_values, keep_default_na, na_filter, verbose, skip_blank_lines, parse_dates, infer_datetime_format, keep_date_col, date_parser, dayfirst, cache_dates, iterator, chunksize, compression, thousands, decimal, lineterminator, quotechar, quoting, doublequote, escapechar, comment, encoding, dialect, error_bad_lines, warn_bad_lines, delim_whitespace, low_memory, memory_map, float_precision)\u001b[0m\n\u001b[0;32m    684\u001b[0m     )\n\u001b[0;32m    685\u001b[0m \u001b[1;33m\u001b[0m\u001b[0m\n\u001b[1;32m--> 686\u001b[1;33m     \u001b[1;32mreturn\u001b[0m \u001b[0m_read\u001b[0m\u001b[1;33m(\u001b[0m\u001b[0mfilepath_or_buffer\u001b[0m\u001b[1;33m,\u001b[0m \u001b[0mkwds\u001b[0m\u001b[1;33m)\u001b[0m\u001b[1;33m\u001b[0m\u001b[1;33m\u001b[0m\u001b[0m\n\u001b[0m\u001b[0;32m    687\u001b[0m \u001b[1;33m\u001b[0m\u001b[0m\n\u001b[0;32m    688\u001b[0m \u001b[1;33m\u001b[0m\u001b[0m\n",
      "\u001b[1;32mc:\\Users\\maktr\\anaconda3\\envs\\learn-env\\lib\\site-packages\\pandas\\io\\parsers.py\u001b[0m in \u001b[0;36m_read\u001b[1;34m(filepath_or_buffer, kwds)\u001b[0m\n\u001b[0;32m    450\u001b[0m \u001b[1;33m\u001b[0m\u001b[0m\n\u001b[0;32m    451\u001b[0m     \u001b[1;31m# Create the parser.\u001b[0m\u001b[1;33m\u001b[0m\u001b[1;33m\u001b[0m\u001b[1;33m\u001b[0m\u001b[0m\n\u001b[1;32m--> 452\u001b[1;33m     \u001b[0mparser\u001b[0m \u001b[1;33m=\u001b[0m \u001b[0mTextFileReader\u001b[0m\u001b[1;33m(\u001b[0m\u001b[0mfp_or_buf\u001b[0m\u001b[1;33m,\u001b[0m \u001b[1;33m**\u001b[0m\u001b[0mkwds\u001b[0m\u001b[1;33m)\u001b[0m\u001b[1;33m\u001b[0m\u001b[1;33m\u001b[0m\u001b[0m\n\u001b[0m\u001b[0;32m    453\u001b[0m \u001b[1;33m\u001b[0m\u001b[0m\n\u001b[0;32m    454\u001b[0m     \u001b[1;32mif\u001b[0m \u001b[0mchunksize\u001b[0m \u001b[1;32mor\u001b[0m \u001b[0miterator\u001b[0m\u001b[1;33m:\u001b[0m\u001b[1;33m\u001b[0m\u001b[1;33m\u001b[0m\u001b[0m\n",
      "\u001b[1;32mc:\\Users\\maktr\\anaconda3\\envs\\learn-env\\lib\\site-packages\\pandas\\io\\parsers.py\u001b[0m in \u001b[0;36m__init__\u001b[1;34m(self, f, engine, **kwds)\u001b[0m\n\u001b[0;32m    944\u001b[0m             \u001b[0mself\u001b[0m\u001b[1;33m.\u001b[0m\u001b[0moptions\u001b[0m\u001b[1;33m[\u001b[0m\u001b[1;34m\"has_index_names\"\u001b[0m\u001b[1;33m]\u001b[0m \u001b[1;33m=\u001b[0m \u001b[0mkwds\u001b[0m\u001b[1;33m[\u001b[0m\u001b[1;34m\"has_index_names\"\u001b[0m\u001b[1;33m]\u001b[0m\u001b[1;33m\u001b[0m\u001b[1;33m\u001b[0m\u001b[0m\n\u001b[0;32m    945\u001b[0m \u001b[1;33m\u001b[0m\u001b[0m\n\u001b[1;32m--> 946\u001b[1;33m         \u001b[0mself\u001b[0m\u001b[1;33m.\u001b[0m\u001b[0m_make_engine\u001b[0m\u001b[1;33m(\u001b[0m\u001b[0mself\u001b[0m\u001b[1;33m.\u001b[0m\u001b[0mengine\u001b[0m\u001b[1;33m)\u001b[0m\u001b[1;33m\u001b[0m\u001b[1;33m\u001b[0m\u001b[0m\n\u001b[0m\u001b[0;32m    947\u001b[0m \u001b[1;33m\u001b[0m\u001b[0m\n\u001b[0;32m    948\u001b[0m     \u001b[1;32mdef\u001b[0m \u001b[0mclose\u001b[0m\u001b[1;33m(\u001b[0m\u001b[0mself\u001b[0m\u001b[1;33m)\u001b[0m\u001b[1;33m:\u001b[0m\u001b[1;33m\u001b[0m\u001b[1;33m\u001b[0m\u001b[0m\n",
      "\u001b[1;32mc:\\Users\\maktr\\anaconda3\\envs\\learn-env\\lib\\site-packages\\pandas\\io\\parsers.py\u001b[0m in \u001b[0;36m_make_engine\u001b[1;34m(self, engine)\u001b[0m\n\u001b[0;32m   1176\u001b[0m     \u001b[1;32mdef\u001b[0m \u001b[0m_make_engine\u001b[0m\u001b[1;33m(\u001b[0m\u001b[0mself\u001b[0m\u001b[1;33m,\u001b[0m \u001b[0mengine\u001b[0m\u001b[1;33m=\u001b[0m\u001b[1;34m\"c\"\u001b[0m\u001b[1;33m)\u001b[0m\u001b[1;33m:\u001b[0m\u001b[1;33m\u001b[0m\u001b[1;33m\u001b[0m\u001b[0m\n\u001b[0;32m   1177\u001b[0m         \u001b[1;32mif\u001b[0m \u001b[0mengine\u001b[0m \u001b[1;33m==\u001b[0m \u001b[1;34m\"c\"\u001b[0m\u001b[1;33m:\u001b[0m\u001b[1;33m\u001b[0m\u001b[1;33m\u001b[0m\u001b[0m\n\u001b[1;32m-> 1178\u001b[1;33m             \u001b[0mself\u001b[0m\u001b[1;33m.\u001b[0m\u001b[0m_engine\u001b[0m \u001b[1;33m=\u001b[0m \u001b[0mCParserWrapper\u001b[0m\u001b[1;33m(\u001b[0m\u001b[0mself\u001b[0m\u001b[1;33m.\u001b[0m\u001b[0mf\u001b[0m\u001b[1;33m,\u001b[0m \u001b[1;33m**\u001b[0m\u001b[0mself\u001b[0m\u001b[1;33m.\u001b[0m\u001b[0moptions\u001b[0m\u001b[1;33m)\u001b[0m\u001b[1;33m\u001b[0m\u001b[1;33m\u001b[0m\u001b[0m\n\u001b[0m\u001b[0;32m   1179\u001b[0m         \u001b[1;32melse\u001b[0m\u001b[1;33m:\u001b[0m\u001b[1;33m\u001b[0m\u001b[1;33m\u001b[0m\u001b[0m\n\u001b[0;32m   1180\u001b[0m             \u001b[1;32mif\u001b[0m \u001b[0mengine\u001b[0m \u001b[1;33m==\u001b[0m \u001b[1;34m\"python\"\u001b[0m\u001b[1;33m:\u001b[0m\u001b[1;33m\u001b[0m\u001b[1;33m\u001b[0m\u001b[0m\n",
      "\u001b[1;32mc:\\Users\\maktr\\anaconda3\\envs\\learn-env\\lib\\site-packages\\pandas\\io\\parsers.py\u001b[0m in \u001b[0;36m__init__\u001b[1;34m(self, src, **kwds)\u001b[0m\n\u001b[0;32m   2006\u001b[0m         \u001b[0mkwds\u001b[0m\u001b[1;33m[\u001b[0m\u001b[1;34m\"usecols\"\u001b[0m\u001b[1;33m]\u001b[0m \u001b[1;33m=\u001b[0m \u001b[0mself\u001b[0m\u001b[1;33m.\u001b[0m\u001b[0musecols\u001b[0m\u001b[1;33m\u001b[0m\u001b[1;33m\u001b[0m\u001b[0m\n\u001b[0;32m   2007\u001b[0m \u001b[1;33m\u001b[0m\u001b[0m\n\u001b[1;32m-> 2008\u001b[1;33m         \u001b[0mself\u001b[0m\u001b[1;33m.\u001b[0m\u001b[0m_reader\u001b[0m \u001b[1;33m=\u001b[0m \u001b[0mparsers\u001b[0m\u001b[1;33m.\u001b[0m\u001b[0mTextReader\u001b[0m\u001b[1;33m(\u001b[0m\u001b[0msrc\u001b[0m\u001b[1;33m,\u001b[0m \u001b[1;33m**\u001b[0m\u001b[0mkwds\u001b[0m\u001b[1;33m)\u001b[0m\u001b[1;33m\u001b[0m\u001b[1;33m\u001b[0m\u001b[0m\n\u001b[0m\u001b[0;32m   2009\u001b[0m         \u001b[0mself\u001b[0m\u001b[1;33m.\u001b[0m\u001b[0munnamed_cols\u001b[0m \u001b[1;33m=\u001b[0m \u001b[0mself\u001b[0m\u001b[1;33m.\u001b[0m\u001b[0m_reader\u001b[0m\u001b[1;33m.\u001b[0m\u001b[0munnamed_cols\u001b[0m\u001b[1;33m\u001b[0m\u001b[1;33m\u001b[0m\u001b[0m\n\u001b[0;32m   2010\u001b[0m \u001b[1;33m\u001b[0m\u001b[0m\n",
      "\u001b[1;32mpandas\\_libs\\parsers.pyx\u001b[0m in \u001b[0;36mpandas._libs.parsers.TextReader.__cinit__\u001b[1;34m()\u001b[0m\n",
      "\u001b[1;32mpandas\\_libs\\parsers.pyx\u001b[0m in \u001b[0;36mpandas._libs.parsers.TextReader._setup_parser_source\u001b[1;34m()\u001b[0m\n",
      "\u001b[1;31mFileNotFoundError\u001b[0m: [Errno 2] No such file or directory: 'Data/cereal.csv'"
     ]
    }
   ],
   "source": [
    "cereal_df = pd.read_csv('Data/cereal.csv')\n",
    "cereal_df.columns "
   ]
  },
  {
   "cell_type": "markdown",
   "id": "b9c0688c",
   "metadata": {
    "slideshow": {
     "slide_type": "fragment"
    }
   },
   "source": [
    "Want to rename some of these columns."
   ]
  },
  {
   "cell_type": "markdown",
   "id": "7f24c0c6",
   "metadata": {
    "slideshow": {
     "slide_type": "slide"
    }
   },
   "source": [
    "#### Renaming columns \n",
    "\n",
    "- DataFrame.rename(columns = ___)\n",
    "- columns takes in a dict that maps column names."
   ]
  },
  {
   "cell_type": "code",
   "execution_count": null,
   "id": "22144711",
   "metadata": {
    "slideshow": {
     "slide_type": "subslide"
    }
   },
   "outputs": [],
   "source": [
    "cereal_df.rename(columns = {'mfr': 'manufacturer', 'carbo': 'carbohydate', 'potass': 'potassium  '})"
   ]
  },
  {
   "cell_type": "code",
   "execution_count": null,
   "id": "cdcfb768",
   "metadata": {
    "slideshow": {
     "slide_type": "subslide"
    }
   },
   "outputs": [],
   "source": [
    "cereal_df.head(2)"
   ]
  },
  {
   "cell_type": "markdown",
   "id": "ffd941a9",
   "metadata": {
    "slideshow": {
     "slide_type": "fragment"
    }
   },
   "source": [
    "Column names are still the same. What gives?"
   ]
  },
  {
   "cell_type": "markdown",
   "id": "c8039ac4",
   "metadata": {
    "slideshow": {
     "slide_type": "slide"
    }
   },
   "source": [
    "Dataframe.rename() method creates new dataframe by default."
   ]
  },
  {
   "cell_type": "code",
   "execution_count": null,
   "id": "d7a12eb7",
   "metadata": {
    "cell_style": "center"
   },
   "outputs": [],
   "source": [
    "cereal_df = cereal_df.rename(columns = {'mfr': 'manufacturer', 'carbo': 'carbohydate', 'potass': 'potassium  '})"
   ]
  },
  {
   "cell_type": "markdown",
   "id": "567f1f63",
   "metadata": {
    "slideshow": {
     "slide_type": "fragment"
    }
   },
   "source": [
    "This is equivalent to reassigning (inplace = ... argument)"
   ]
  },
  {
   "cell_type": "code",
   "execution_count": null,
   "id": "5465c579",
   "metadata": {},
   "outputs": [],
   "source": [
    "cereal_df.rename(columns = {'mfr': 'manufacturer', 'carbo': 'carbohydate', 'potass': 'potassium  '}, inplace = True)"
   ]
  },
  {
   "cell_type": "code",
   "execution_count": null,
   "id": "b410f1ec",
   "metadata": {
    "slideshow": {
     "slide_type": "subslide"
    }
   },
   "outputs": [],
   "source": [
    "cereal_df.head(2)"
   ]
  },
  {
   "cell_type": "markdown",
   "id": "d3e05fcb",
   "metadata": {
    "slideshow": {
     "slide_type": "slide"
    }
   },
   "source": [
    "Let's take a look at the potassium column."
   ]
  },
  {
   "cell_type": "code",
   "execution_count": null,
   "id": "16f05863",
   "metadata": {
    "scrolled": true,
    "slideshow": {
     "slide_type": "subslide"
    }
   },
   "outputs": [],
   "source": [
    "cereal_df['potassium']"
   ]
  },
  {
   "cell_type": "markdown",
   "id": "6de94dd3",
   "metadata": {
    "slideshow": {
     "slide_type": "subslide"
    }
   },
   "source": [
    "What happened?"
   ]
  },
  {
   "cell_type": "code",
   "execution_count": null,
   "id": "53199d4d",
   "metadata": {
    "slideshow": {
     "slide_type": "slide"
    }
   },
   "outputs": [],
   "source": [
    "cereal_df.columns"
   ]
  },
  {
   "cell_type": "markdown",
   "id": "c5ddd00c",
   "metadata": {
    "slideshow": {
     "slide_type": "fragment"
    }
   },
   "source": [
    "Note the trailing white space. Many imports from files have this problem.\n",
    "\n",
    "What string command do we need to trim white space?"
   ]
  },
  {
   "cell_type": "markdown",
   "id": "6f55da1d",
   "metadata": {
    "slideshow": {
     "slide_type": "slide"
    }
   },
   "source": [
    "The way NOT to do it (works but not efficient):"
   ]
  },
  {
   "cell_type": "code",
   "execution_count": null,
   "id": "4601190b",
   "metadata": {
    "slideshow": {
     "slide_type": "fragment"
    }
   },
   "outputs": [],
   "source": [
    "[col.strip() for col in cereal_df.columns]"
   ]
  },
  {
   "cell_type": "markdown",
   "id": "5f72aac4",
   "metadata": {
    "slideshow": {
     "slide_type": "slide"
    }
   },
   "source": [
    "The way to take advantage of Pandas speed (vectorized str method):"
   ]
  },
  {
   "cell_type": "code",
   "execution_count": null,
   "id": "201b6c78",
   "metadata": {
    "slideshow": {
     "slide_type": "fragment"
    }
   },
   "outputs": [],
   "source": [
    "cereal_df.columns = cereal_df.columns.str.strip()\n",
    "print(cereal_df.columns)"
   ]
  },
  {
   "cell_type": "markdown",
   "id": "6f4f41a5",
   "metadata": {
    "slideshow": {
     "slide_type": "fragment"
    }
   },
   "source": [
    "Now look at potassium column:"
   ]
  },
  {
   "cell_type": "code",
   "execution_count": null,
   "id": "2fad96ec",
   "metadata": {
    "slideshow": {
     "slide_type": "-"
    }
   },
   "outputs": [],
   "source": [
    "cereal_df['potassium'].head(3)"
   ]
  },
  {
   "cell_type": "markdown",
   "id": "144d221b",
   "metadata": {
    "slideshow": {
     "slide_type": "slide"
    }
   },
   "source": [
    "#### Removing Columns\n",
    "\n",
    "The `shelf` column: shelf in cereal aisle of particular grocery store.\n",
    "\n",
    "- We dont care about this column.   "
   ]
  },
  {
   "cell_type": "code",
   "execution_count": null,
   "id": "63601d29",
   "metadata": {
    "slideshow": {
     "slide_type": "subslide"
    }
   },
   "outputs": [],
   "source": [
    "cereal_df.drop(columns = ['shelf'], inplace = True)\n",
    "cereal_df.columns"
   ]
  },
  {
   "cell_type": "markdown",
   "id": "fbff757f",
   "metadata": {
    "slideshow": {
     "slide_type": "slide"
    }
   },
   "source": [
    "#### Creating new columns\n",
    "\n",
    "The 'type' column has only two unique entries 'C' and 'H' (cold or hot cereal?):\n",
    "\n",
    "- Can use Boolean condition to create a series (Pandas magic)."
   ]
  },
  {
   "cell_type": "markdown",
   "id": "a767cbd5",
   "metadata": {
    "slideshow": {
     "slide_type": "subslide"
    }
   },
   "source": [
    "Is this a hot cereal? Convert Boolean to integer.\n",
    "\n",
    "- False = 0\n",
    "- True = 1"
   ]
  },
  {
   "cell_type": "code",
   "execution_count": null,
   "id": "67ccae38",
   "metadata": {
    "scrolled": false,
    "slideshow": {
     "slide_type": "-"
    }
   },
   "outputs": [],
   "source": [
    "is_hot = (cereal_df.type == 'H').astype('int')\n",
    "\n",
    "\n",
    "print(is_hot)\n",
    "print(is_hot.value_counts())"
   ]
  },
  {
   "cell_type": "markdown",
   "id": "2d55b4b9",
   "metadata": {
    "slideshow": {
     "slide_type": "slide"
    }
   },
   "source": [
    "Store this as a new column by:\n",
    "- DataFrame[new_column_name] = series"
   ]
  },
  {
   "cell_type": "code",
   "execution_count": null,
   "id": "842d9b6c",
   "metadata": {
    "slideshow": {
     "slide_type": "subslide"
    }
   },
   "outputs": [],
   "source": [
    "cereal_df['is_hot'] = is_hot\n",
    "cereal_df.head()"
   ]
  },
  {
   "cell_type": "markdown",
   "id": "de9506b8",
   "metadata": {
    "slideshow": {
     "slide_type": "slide"
    }
   },
   "source": [
    "#### Dealing with the index and rows:\n",
    "- Clearly, the 'name' column should be our index.\n",
    "- .set_index(col_name) will set that column to the row index.\n",
    "- .set_index() can also take in a list or an index object."
   ]
  },
  {
   "cell_type": "code",
   "execution_count": null,
   "id": "e6b738a7",
   "metadata": {
    "slideshow": {
     "slide_type": "subslide"
    }
   },
   "outputs": [],
   "source": [
    "cereal_df.set_index('name', inplace = True)\n",
    "cereal_df.head()"
   ]
  },
  {
   "cell_type": "markdown",
   "id": "e320b23d",
   "metadata": {
    "slideshow": {
     "slide_type": "slide"
    }
   },
   "source": [
    "- Sometimes we want to reset the index.\n",
    "- This takes index to a column again.\n",
    "- Dataframe index is integer-indexed."
   ]
  },
  {
   "cell_type": "code",
   "execution_count": null,
   "id": "76357ddc",
   "metadata": {
    "slideshow": {
     "slide_type": "subslide"
    }
   },
   "outputs": [],
   "source": [
    "cereal_df.reset_index(inplace = True)\n",
    "cereal_df.head()"
   ]
  },
  {
   "cell_type": "markdown",
   "id": "9377c31c",
   "metadata": {
    "slideshow": {
     "slide_type": "slide"
    }
   },
   "source": [
    "Dropping rows by index name:"
   ]
  },
  {
   "cell_type": "code",
   "execution_count": null,
   "id": "e4d8f5b3",
   "metadata": {
    "scrolled": true,
    "slideshow": {
     "slide_type": "subslide"
    }
   },
   "outputs": [],
   "source": [
    "cereal_df.set_index('name', inplace = True)\n",
    "allbran_dropped = cereal_df.drop('All-Bran') # can also take a list of index names or an index object\n",
    "allbran_dropped.head(4)"
   ]
  },
  {
   "cell_type": "code",
   "execution_count": null,
   "id": "fab78002",
   "metadata": {
    "slideshow": {
     "slide_type": "subslide"
    }
   },
   "outputs": [],
   "source": [
    "two_dropped = cereal_df.drop(['100% Bran', 'Almond Delight'])\n",
    "two_dropped.head()"
   ]
  },
  {
   "cell_type": "markdown",
   "id": "dbfc3c63",
   "metadata": {
    "slideshow": {
     "slide_type": "slide"
    }
   },
   "source": [
    "#### Altering dataframe/series values\n",
    "\n",
    "- It's really important to use the .loc[] accessor when assigning data to dataframe/series selections.\n",
    "- Here's why:"
   ]
  },
  {
   "cell_type": "markdown",
   "id": "42d28458",
   "metadata": {
    "slideshow": {
     "slide_type": "subslide"
    }
   },
   "source": [
    "Select all cold cereals and look at their rating:"
   ]
  },
  {
   "cell_type": "code",
   "execution_count": null,
   "id": "087bf2b2",
   "metadata": {
    "slideshow": {
     "slide_type": "-"
    }
   },
   "outputs": [],
   "source": [
    "cereal_df[cereal_df[\"type\"] == 'C'][\"rating\"] "
   ]
  },
  {
   "cell_type": "markdown",
   "id": "d009df38",
   "metadata": {
    "slideshow": {
     "slide_type": "subslide"
    }
   },
   "source": [
    "Now, add 5 to this selection."
   ]
  },
  {
   "cell_type": "code",
   "execution_count": null,
   "id": "8bc80662",
   "metadata": {
    "slideshow": {
     "slide_type": "-"
    }
   },
   "outputs": [],
   "source": [
    "cereal_df[cereal_df[\"type\"] == 'C'][\"rating\"] + 5"
   ]
  },
  {
   "cell_type": "markdown",
   "id": "aa5f7d21",
   "metadata": {
    "slideshow": {
     "slide_type": "subslide"
    }
   },
   "source": [
    "Assign this modification to our original selection:"
   ]
  },
  {
   "cell_type": "code",
   "execution_count": null,
   "id": "8dcda1f0",
   "metadata": {
    "slideshow": {
     "slide_type": "-"
    }
   },
   "outputs": [],
   "source": [
    "cereal_df[cereal_df[\"type\"] == 'C'][\"rating\"] = cereal_df[cereal_df[\"type\"] == 'C'][\"rating\"] + 5 "
   ]
  },
  {
   "cell_type": "markdown",
   "id": "851b2b79",
   "metadata": {},
   "source": [
    "Uh...oh. A warning was issued. Let's see what our assignment did:"
   ]
  },
  {
   "cell_type": "code",
   "execution_count": null,
   "id": "dde3ff79",
   "metadata": {
    "slideshow": {
     "slide_type": "subslide"
    }
   },
   "outputs": [],
   "source": [
    "cereal_df[cereal_df[\"type\"] == 'C'][\"rating\"]"
   ]
  },
  {
   "cell_type": "markdown",
   "id": "d76ae62c",
   "metadata": {
    "slideshow": {
     "slide_type": "slide"
    }
   },
   "source": [
    "No change was made to original dataframe.\n",
    "\n",
    ".loc accessor[] accesses original dataframe in memory. Thus:"
   ]
  },
  {
   "cell_type": "code",
   "execution_count": null,
   "id": "b20336f6",
   "metadata": {
    "slideshow": {
     "slide_type": "subslide"
    }
   },
   "outputs": [],
   "source": [
    "cereal_df.loc[cereal_df[\"type\"] == 'C', \"rating\"] += 5\n",
    "cereal_df.loc[cereal_df[\"type\"] == 'C', \"rating\"]"
   ]
  },
  {
   "cell_type": "markdown",
   "id": "df40b70e",
   "metadata": {
    "cell_style": "center",
    "slideshow": {
     "slide_type": "slide"
    }
   },
   "source": [
    "#### Datetime indices\n",
    "- Pandas supports datetime types\n",
    "- Series/DataFrame index: special operations/functionality for datetimes\n",
    "\n",
    "Load MTA turnsile maintenance dataset to see pandas datetimes in action!"
   ]
  },
  {
   "cell_type": "code",
   "execution_count": null,
   "id": "f4352d1d",
   "metadata": {
    "slideshow": {
     "slide_type": "slide"
    }
   },
   "outputs": [],
   "source": [
    "turnstile_df = pd.read_csv('Data/turnstile_180901.txt')\n",
    "turnstile_df.head(2)"
   ]
  },
  {
   "cell_type": "code",
   "execution_count": null,
   "id": "fa88048d",
   "metadata": {
    "cell_style": "split",
    "slideshow": {
     "slide_type": "slide"
    }
   },
   "outputs": [],
   "source": [
    "turnstile_df['DATE']"
   ]
  },
  {
   "cell_type": "code",
   "execution_count": null,
   "id": "902f2a52",
   "metadata": {
    "cell_style": "split",
    "slideshow": {
     "slide_type": "fragment"
    }
   },
   "outputs": [],
   "source": [
    "turnstile_df['TIME']"
   ]
  },
  {
   "cell_type": "markdown",
   "id": "228ff257",
   "metadata": {
    "slideshow": {
     "slide_type": "fragment"
    }
   },
   "source": [
    "Both in string format."
   ]
  },
  {
   "cell_type": "markdown",
   "id": "3e99dab2",
   "metadata": {
    "slideshow": {
     "slide_type": "slide"
    }
   },
   "source": [
    "- Join date and time.\n",
    "- Assign to new column."
   ]
  },
  {
   "cell_type": "code",
   "execution_count": null,
   "id": "ff21a0fe",
   "metadata": {
    "scrolled": true,
    "slideshow": {
     "slide_type": "fragment"
    }
   },
   "outputs": [],
   "source": [
    "    turnstile_df['DATETIME'] = turnstile_df['DATE'] + ' ' + turnstile_df['TIME']\n",
    "    turnstile_df.drop(columns = ['DATE', 'TIME'], inplace = True)\n",
    "    turnstile_df['DATETIME'].head()"
   ]
  },
  {
   "cell_type": "code",
   "execution_count": null,
   "id": "3cbbd8ac",
   "metadata": {},
   "outputs": [],
   "source": [
    "turnstile_df.info()"
   ]
  },
  {
   "cell_type": "markdown",
   "id": "15e2f991",
   "metadata": {
    "slideshow": {
     "slide_type": "subslide"
    }
   },
   "source": [
    "- Convert string to datetime type.\n",
    "- pd.to_datetime(): can intelligently parse various common datetime string formats\n",
    "- %m/%d/%Y date format parsing."
   ]
  },
  {
   "cell_type": "code",
   "execution_count": null,
   "id": "27d8efc4",
   "metadata": {
    "slideshow": {
     "slide_type": "fragment"
    }
   },
   "outputs": [],
   "source": [
    " turnstile_df['DATETIME'] = pd.to_datetime(turnstile_df['DATETIME'])"
   ]
  },
  {
   "cell_type": "code",
   "execution_count": null,
   "id": "fa9b29fe",
   "metadata": {
    "slideshow": {
     "slide_type": "slide"
    }
   },
   "outputs": [],
   "source": [
    "turnstile_df.head()"
   ]
  },
  {
   "cell_type": "code",
   "execution_count": null,
   "id": "b45b8be3",
   "metadata": {
    "slideshow": {
     "slide_type": "slide"
    }
   },
   "outputs": [],
   "source": [
    "turnstile_df['DATETIME']"
   ]
  },
  {
   "cell_type": "markdown",
   "id": "c8efc58f",
   "metadata": {
    "slideshow": {
     "slide_type": "slide"
    }
   },
   "source": [
    "This is a datetime series. Datetime series have vectorized methods and attributes that are very useful.\n",
    "- Round date to nearest start of week.\n",
    "- Get named day of week for date."
   ]
  },
  {
   "cell_type": "code",
   "execution_count": null,
   "id": "eff7bf1e",
   "metadata": {
    "cell_style": "split",
    "slideshow": {
     "slide_type": "fragment"
    }
   },
   "outputs": [],
   "source": [
    "turnstile_df['DATETIME'].dt.round('7D')"
   ]
  },
  {
   "cell_type": "code",
   "execution_count": null,
   "id": "e8791079",
   "metadata": {
    "cell_style": "split",
    "slideshow": {
     "slide_type": "fragment"
    }
   },
   "outputs": [],
   "source": [
    "turnstile_df['DATETIME'].dt.day_name()"
   ]
  },
  {
   "cell_type": "markdown",
   "id": "98ce70f5",
   "metadata": {
    "slideshow": {
     "slide_type": "slide"
    }
   },
   "source": [
    "Set column to our datetime index."
   ]
  },
  {
   "cell_type": "code",
   "execution_count": null,
   "id": "f0daea5a",
   "metadata": {
    "slideshow": {
     "slide_type": "fragment"
    }
   },
   "outputs": [],
   "source": [
    "turnstile_df.set_index('DATETIME', inplace = True)"
   ]
  },
  {
   "cell_type": "markdown",
   "id": "dcfdc4ad",
   "metadata": {},
   "source": [
    "We now have a datetime index."
   ]
  },
  {
   "cell_type": "code",
   "execution_count": null,
   "id": "c1783ad3",
   "metadata": {
    "slideshow": {
     "slide_type": "subslide"
    }
   },
   "outputs": [],
   "source": [
    "turnstile_df['2018-08-25':'2018-08-27']"
   ]
  },
  {
   "cell_type": "markdown",
   "id": "19907e43",
   "metadata": {
    "slideshow": {
     "slide_type": "fragment"
    }
   },
   "source": [
    "Pandas datetime indexes: nice functionality for transforming time series.\n",
    "\n",
    "- Will get into this later."
   ]
  }
 ],
 "metadata": {
  "celltoolbar": "Slideshow",
  "kernelspec": {
   "display_name": "Python (learn-env)",
   "language": "python",
   "name": "learn-env"
  },
  "language_info": {
   "codemirror_mode": {
    "name": "ipython",
    "version": 3
   },
   "file_extension": ".py",
   "mimetype": "text/x-python",
   "name": "python",
   "nbconvert_exporter": "python",
   "pygments_lexer": "ipython3",
   "version": "3.8.5"
  }
 },
 "nbformat": 4,
 "nbformat_minor": 5
}
