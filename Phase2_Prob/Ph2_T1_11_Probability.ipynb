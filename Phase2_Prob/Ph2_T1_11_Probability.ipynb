{
 "cells": [
  {
   "cell_type": "markdown",
   "metadata": {
    "slideshow": {
     "slide_type": "slide"
    }
   },
   "source": [
    "<div style=\"color:white;\n",
    "           display:fill;\n",
    "           border-radius:5px;\n",
    "           background-color:#5642C5;\n",
    "           font-size:200%;\n",
    "           font-family:Arial;letter-spacing:0.5px\">\n",
    "\n",
    "<p width = 20%, style=\"padding: 10px;\n",
    "              color:white;\">\n",
    "Probability: The Mathematics of Uncertainty\n",
    "              \n",
    "</p>\n",
    "</div>\n",
    "\n",
    "Data Science Cohort Live NYC Jan 2025\n",
    "<p>Phase 2: Topic 1</p>\n",
    "<br>\n",
    "<br>\n",
    "\n",
    "<div align = \"right\">\n",
    "<img src=\"Images/flatiron-school-logo.png\" align = \"right\" width=\"200\"/>\n",
    "</div>\n",
    "    \n",
    "    "
   ]
  },
  {
   "cell_type": "markdown",
   "metadata": {
    "cell_style": "center",
    "hidden": true,
    "slideshow": {
     "slide_type": "slide"
    }
   },
   "source": [
    "#### Probability theory\n",
    "\n",
    "- systematic understanding of processes with uncertainty.\n",
    "- quantification and manipulation of uncertainty\n",
    "\n",
    "\n",
    "\n"
   ]
  },
  {
   "cell_type": "markdown",
   "metadata": {
    "cell_style": "split",
    "slideshow": {
     "slide_type": "subslide"
    }
   },
   "source": [
    "E.g., driving along in the southern Australian outback:\n",
    "\n",
    "- Drive up on an adult koala\n",
    "- Ask if you can measure his/her height (consent is important!)\n",
    "- Measure the height"
   ]
  },
  {
   "cell_type": "markdown",
   "metadata": {
    "cell_style": "split",
    "slideshow": {
     "slide_type": "fragment"
    }
   },
   "source": [
    "<div align = \"center\">\n",
    "<img src=\"Images/surprised_koala.jpg\" align = \"center\" width=\"300\"/>\n",
    "</div>\n",
    "<center> A surprised koala.</center>"
   ]
  },
  {
   "cell_type": "code",
<<<<<<< HEAD
   "execution_count": 45,
=======
   "execution_count": 61,
>>>>>>> upstream/main
   "metadata": {
    "cell_style": "split",
    "slideshow": {
     "slide_type": "slide"
    }
   },
   "outputs": [],
   "source": [
    "from scipy.stats import norm\n",
    "koala_height_gen = \\\n",
    "(norm.rvs(loc = 75, scale = 15, size = 1) \n",
    " for x in range(500) )"
   ]
  },
  {
   "cell_type": "code",
<<<<<<< HEAD
   "execution_count": 46,
=======
   "execution_count": 65,
>>>>>>> upstream/main
   "metadata": {
    "cell_style": "split",
    "slideshow": {
     "slide_type": "fragment"
    }
   },
   "outputs": [
    {
     "data": {
      "text/plain": [
<<<<<<< HEAD
       "array([47.24144177])"
      ]
     },
     "execution_count": 46,
=======
       "array([90.89573032])"
      ]
     },
     "execution_count": 65,
>>>>>>> upstream/main
     "metadata": {},
     "output_type": "execute_result"
    }
   ],
   "source": [
    "# measure that surprised koala's height\n",
    "consenting_koala1 = next(koala_height_gen)\n",
    "consenting_koala1"
   ]
  },
  {
   "cell_type": "markdown",
   "metadata": {
    "slideshow": {
     "slide_type": "slide"
    }
   },
   "source": [
    "Now roll up on another unsuspecting, consenting koala:"
   ]
  },
  {
   "cell_type": "code",
   "execution_count": 47,
   "metadata": {
    "cell_style": "split",
    "slideshow": {
     "slide_type": "fragment"
    }
   },
   "outputs": [
    {
     "data": {
      "text/plain": [
       "array([73.99190794])"
      ]
     },
     "execution_count": 47,
     "metadata": {},
     "output_type": "execute_result"
    }
   ],
   "source": [
    "# Drive up on another koala: \n",
    "consenting_koala2 = next(koala_height_gen)\n",
    "consenting_koala2"
   ]
  },
  {
   "cell_type": "code",
   "execution_count": 48,
   "metadata": {
    "cell_style": "split",
    "slideshow": {
     "slide_type": "fragment"
    }
   },
   "outputs": [
    {
     "data": {
      "text/plain": [
       "array([47.24144177])"
      ]
     },
     "execution_count": 48,
     "metadata": {},
     "output_type": "execute_result"
    }
   ],
   "source": [
    "consenting_koala1"
   ]
  },
  {
   "cell_type": "markdown",
   "metadata": {
    "cell_style": "center",
    "slideshow": {
     "slide_type": "slide"
    }
   },
   "source": [
    "The outcome of the measurement of any given koala's height is unknown\n",
    "- the outcome is a *random* event.\n",
    "- uncertainty in what the value might be for any given koala\n"
   ]
  },
  {
   "cell_type": "markdown",
   "metadata": {
    "cell_style": "split",
    "slideshow": {
     "slide_type": "subslide"
    }
   },
   "source": [
    "But may want to quantify:\n",
    "\n",
    "- what, on the *average*, we might expect\n",
    "- quantify uncertainty (the characteristic range of values)\n",
    "- likelihood that a koala's height falls within a given range"
   ]
  },
  {
   "cell_type": "markdown",
   "metadata": {
    "cell_style": "split",
    "slideshow": {
     "slide_type": "fragment"
    }
   },
   "source": [
    "<div align = \"center\">\n",
    "<img src=\"Images/koala.png\" align = \"center\" width=\"300\"/>\n",
    "</div>\n",
    "<center> Average koala height of 75 cm </center>"
   ]
  },
  {
   "cell_type": "markdown",
   "metadata": {
    "slideshow": {
     "slide_type": "subslide"
    }
   },
   "source": [
    "#### This sort of quantification of uncertainty\n",
    "- Absolutely central to data science\n",
    "- Making predictions and classifications most probable given limited information.\n",
    "    - i.e. in the face of uncertainty"
   ]
  },
  {
   "cell_type": "markdown",
   "metadata": {
    "cell_style": "split",
    "slideshow": {
     "slide_type": "slide"
    }
   },
   "source": [
    "**Building a classifier: a common data science / machine-learning task**\n",
    "\n",
    "<div align = \"center\">\n",
    "<img src=\"Images/southern_vs_northern_koala.jpg\" align = \"center\" width=\"300\"/>\n",
    "</div>\n",
    "<center> Southern vs. northern koala </center>\n"
   ]
  },
  {
   "cell_type": "markdown",
   "metadata": {
    "cell_style": "split",
    "slideshow": {
     "slide_type": "fragment"
    }
   },
   "source": [
    "We are told a koala weighs 22 lbs. Is this a southern or a northern koala?"
   ]
  },
  {
   "cell_type": "markdown",
   "metadata": {
    "cell_style": "split",
    "slideshow": {
     "slide_type": "fragment"
    }
   },
   "source": [
    "A statistically sound determination of subspecies based on weight will depend on:\n",
    "- characteristic range (e.g, mean / standard deviation) of Southern koala\n",
    "- characteristic range (e.g, mean / standard deviation) of northern koala\n",
    "\n",
    "E.g. the statistical distributions of both populations."
   ]
  },
  {
   "cell_type": "code",
   "execution_count": 49,
   "metadata": {
    "slideshow": {
     "slide_type": "skip"
    }
   },
   "outputs": [],
   "source": [
    "%%capture koalaweights\n",
    "\n",
    "# Weight distributions of northern vs southern koalas\n",
    "import matplotlib.pyplot as plt\n",
    "\n",
    "southern_koala = norm.rvs(loc = 24, scale = 2.5, size = 800, random_state = 42)\n",
    "northern_koala = norm.rvs(loc = 14, scale = 3, size = 800, random_state = 42)\n",
    "\n",
    "fig, ax = plt.subplots()\n",
    "\n",
    "ax.hist(southern_koala, color = 'r', histtype = 'step')\n",
    "ax.hist(northern_koala, color = 'b', histtype = 'step')\n",
    "ax.set_xlabel('Koala weight [lbs]')\n",
    "ax.set_ylabel('Counts')\n",
    "ax.axvline(22, c = 'g', linestyle = '--')\n",
    "plt.annotate('Our Koala', xy = (22, 200), xytext = (16.5, 210), size = 11, c = 'g')\n",
    "plt.annotate('Northern Koala', xy = (4, 190), xytext = (4, 190), size = 11, c = 'b')\n",
    "plt.annotate('Southern Koala', xy = (26, 190), xytext = (26, 190), size = 11, c = 'r')\n",
    "\n",
    "plt.show()"
   ]
  },
  {
   "cell_type": "code",
   "execution_count": 50,
   "metadata": {
    "cell_style": "split",
    "slideshow": {
     "slide_type": "slide"
    }
   },
   "outputs": [
    {
     "data": {
      "image/png": "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",
      "text/plain": [
       "<Figure size 432x288 with 1 Axes>"
      ]
     },
     "metadata": {
      "needs_background": "light"
     },
     "output_type": "display_data"
    }
   ],
   "source": [
    "koalaweights()"
   ]
  },
  {
   "cell_type": "markdown",
   "metadata": {
    "cell_style": "split",
    "slideshow": {
     "slide_type": "fragment"
    }
   },
   "source": [
    "Weight measurement:\n",
    "- Is our koala a northern or southern Koala?"
   ]
  },
  {
   "cell_type": "markdown",
   "metadata": {
    "cell_style": "split",
    "slideshow": {
     "slide_type": "fragment"
    }
   },
   "source": [
    "Quantification of: \n",
    "\n",
    "- the sub-population means\n",
    "- their spreads (uncertainty)\n",
    "- probability that a southern (northern) koala would have weight 22"
   ]
  },
  {
   "cell_type": "markdown",
   "metadata": {
    "slideshow": {
     "slide_type": "slide"
    }
   },
   "source": [
    "#### Probability theory: the branch of mathematics \n",
    "- lets us reason and calculate these various quantities derived from random events"
   ]
  },
  {
   "cell_type": "markdown",
   "metadata": {
    "cell_style": "split",
    "slideshow": {
     "slide_type": "slide"
    }
   },
   "source": [
    "#### Random processes, outcomes, and sample spaces:\n",
    "\n",
    "Random process: \n",
    "\n",
    "- repeated query or measurement of given quantity does not produce reproducible outcome\n",
    "\n",
    "\n",
    "\n"
   ]
  },
  {
   "cell_type": "markdown",
   "metadata": {
    "cell_style": "split",
    "slideshow": {
     "slide_type": "fragment"
    }
   },
   "source": [
    "Example: throwing a fair die\n",
    "\n",
    "<center><img src=\"Images/dice.jpg\" width=\"400\"/></center>\n",
    "\n"
   ]
  },
  {
   "cell_type": "markdown",
   "metadata": {
    "cell_style": "center",
    "slideshow": {
     "slide_type": "slide"
    }
   },
   "source": [
    "Result of a given throw? Random process.\n",
    "\n",
    "- Possible outcomes: 1, 2, 3, 4, 5, 6\n",
    "- Sample space $\\Omega$: set of all possible outcomes of a trial:\n",
    "    - $ \\Omega = \\{1, 2, 3, 4, 5, 6\\} $"
   ]
  },
  {
   "cell_type": "markdown",
   "metadata": {
    "slideshow": {
     "slide_type": "subslide"
    }
   },
   "source": [
    "Sample space type: Discrete and finite\n",
    "\n",
    "- outcomes can be represented simply as a finite set."
   ]
  },
  {
   "cell_type": "code",
   "execution_count": 51,
   "metadata": {
    "cell_style": "split",
    "slideshow": {
     "slide_type": "fragment"
    }
   },
   "outputs": [
    {
     "name": "stdout",
     "output_type": "stream",
     "text": [
      "<class 'set'>\n"
     ]
    },
    {
     "data": {
      "text/plain": [
       "{1, 2, 3, 4, 5, 6}"
      ]
     },
     "execution_count": 51,
     "metadata": {},
     "output_type": "execute_result"
    }
   ],
   "source": [
    "die_sample_space = {1, 2, 3, 4, 5, 6}\n",
    "print(type(die_sample_space))\n",
    "die_sample_space"
   ]
  },
  {
   "cell_type": "markdown",
   "metadata": {
    "cell_style": "split",
    "slideshow": {
     "slide_type": "fragment"
    }
   },
   "source": [
    "Python has a special datatype for sets:\n",
    "- many set specific operations:\n",
    "    - intersection\n",
    "    - union\n",
    "    - difference\n",
    "    - etc."
   ]
  },
  {
   "cell_type": "markdown",
   "metadata": {
    "slideshow": {
     "slide_type": "slide"
    }
   },
   "source": [
    "Results for a given throw are drawn **at random** from this sample space set."
   ]
  },
  {
   "cell_type": "code",
<<<<<<< HEAD
   "execution_count": 52,
=======
   "execution_count": 66,
>>>>>>> upstream/main
   "metadata": {
    "cell_style": "split",
    "slideshow": {
     "slide_type": "slide"
    }
   },
   "outputs": [],
   "source": [
    "# base python's library for all thing random\n",
    "import random"
   ]
  },
  {
   "cell_type": "markdown",
   "metadata": {
    "cell_style": "split",
    "slideshow": {
     "slide_type": "fragment"
    }
   },
   "source": [
    "Rolling a fair die: this samples the set evenly."
   ]
  },
  {
   "cell_type": "code",
<<<<<<< HEAD
   "execution_count": 53,
=======
   "execution_count": 71,
>>>>>>> upstream/main
   "metadata": {
    "cell_style": "split",
    "slideshow": {
     "slide_type": "fragment"
    }
   },
   "outputs": [
    {
     "data": {
      "text/plain": [
       "[3]"
      ]
     },
<<<<<<< HEAD
     "execution_count": 53,
=======
     "execution_count": 71,
>>>>>>> upstream/main
     "metadata": {},
     "output_type": "execute_result"
    }
   ],
   "source": [
    "random.sample(list(die_sample_space), 1)"
   ]
  },
  {
   "cell_type": "markdown",
   "metadata": {
    "slideshow": {
     "slide_type": "slide"
    }
   },
   "source": [
    "#### The event space \n",
    "- $ B $, the event space, is the set of all subsets of sample space $\\Omega$."
   ]
  },
  {
   "cell_type": "code",
   "execution_count": 54,
   "metadata": {
    "slideshow": {
     "slide_type": "subslide"
    }
   },
   "outputs": [
    {
     "name": "stdout",
     "output_type": "stream",
     "text": [
      "[set(), {1}, {2}, {1, 2}, {3}, {1, 3}, {2, 3}, {1, 2, 3}, {4}, {1, 4}, {2, 4}, {1, 2, 4}, {3, 4}, {1, 3, 4}, {2, 3, 4}, {1, 2, 3, 4}, {5}, {1, 5}, {2, 5}, {1, 2, 5}, {3, 5}, {1, 3, 5}, {2, 3, 5}, {1, 2, 3, 5}, {4, 5}, {1, 4, 5}, {2, 4, 5}, {1, 2, 4, 5}, {3, 4, 5}, {1, 3, 4, 5}, {2, 3, 4, 5}, {1, 2, 3, 4, 5}, {6}, {1, 6}, {2, 6}, {1, 2, 6}, {3, 6}, {1, 3, 6}, {2, 3, 6}, {1, 2, 3, 6}, {4, 6}, {1, 4, 6}, {2, 4, 6}, {1, 2, 4, 6}, {3, 4, 6}, {1, 3, 4, 6}, {2, 3, 4, 6}, {1, 2, 3, 4, 6}, {5, 6}, {1, 5, 6}, {2, 5, 6}, {1, 2, 5, 6}, {3, 5, 6}, {1, 3, 5, 6}, {2, 3, 5, 6}, {1, 2, 3, 5, 6}, {4, 5, 6}, {1, 4, 5, 6}, {2, 4, 5, 6}, {1, 2, 4, 5, 6}, {3, 4, 5, 6}, {1, 3, 4, 5, 6}, {2, 3, 4, 5, 6}, {1, 2, 3, 4, 5, 6}]\n"
     ]
    }
   ],
   "source": [
    "from functools import reduce\n",
    "\n",
    "ps = lambda s: reduce(lambda P, x: P + [subset | {x} for subset in P], s, [set()])\n",
    "\n",
    "die_event_space = ps(die_sample_space)\n",
    "print(die_event_space)"
   ]
  },
  {
   "cell_type": "markdown",
   "metadata": {
    "cell_style": "split",
    "slideshow": {
     "slide_type": "fragment"
    }
   },
   "source": [
    "Each element of the event space:\n",
    "- a set corresponding to a subset of observations in $\\Omega$"
   ]
  },
  {
   "cell_type": "markdown",
   "metadata": {
    "cell_style": "split"
   },
   "source": [
    "For result of a roll we ask:\n",
    "\n",
    "Did we get either a 1, 2 or 4? Getting a 1, 2 or 4 is an **event**."
   ]
  },
  {
   "cell_type": "code",
   "execution_count": 55,
   "metadata": {
    "cell_style": "split"
   },
   "outputs": [
    {
     "data": {
      "text/plain": [
       "{1, 2, 4}"
      ]
     },
     "execution_count": 55,
     "metadata": {},
     "output_type": "execute_result"
    }
   ],
   "source": [
    "# An event example:\n",
    "die_event_space[11]"
   ]
  },
  {
   "cell_type": "markdown",
   "metadata": {
    "slideshow": {
     "slide_type": "slide"
    }
   },
   "source": [
    "Note that event space contains:\n",
    "- sample space $\\Omega$"
   ]
  },
  {
   "cell_type": "code",
   "execution_count": 56,
   "metadata": {
    "cell_style": "split",
    "slideshow": {
     "slide_type": "fragment"
    }
   },
   "outputs": [
    {
     "data": {
      "text/plain": [
       "True"
      ]
     },
     "execution_count": 56,
     "metadata": {},
     "output_type": "execute_result"
    }
   ],
   "source": [
    "die_sample_space in die_event_space"
   ]
  },
  {
   "cell_type": "code",
   "execution_count": 57,
   "metadata": {
    "cell_style": "split",
    "slideshow": {
     "slide_type": "-"
    }
   },
   "outputs": [
    {
     "data": {
      "text/plain": [
       "{1, 2, 3, 4, 5, 6}"
      ]
     },
     "execution_count": 57,
     "metadata": {},
     "output_type": "execute_result"
    }
   ],
   "source": [
    "die_event_space[-1]"
   ]
  },
  {
   "cell_type": "markdown",
   "metadata": {
    "cell_style": "split",
    "slideshow": {
     "slide_type": "slide"
    }
   },
   "source": [
    "**Probability**\n",
    "\n",
    "A function $$ P: B \\rightarrow \\mathbb{R} $$\n",
    "\n",
    "maps from the event space to a real number."
   ]
  },
  {
   "cell_type": "markdown",
   "metadata": {
    "cell_style": "split",
    "slideshow": {
     "slide_type": "fragment"
    }
   },
   "source": [
    "e.g.:\n",
    "    \n",
    "$$ P(\\{1\\}) = \\frac{1}{6} $$\n",
    "$$ P(\\{1, 2, 4\\}) = \\frac{1}{2} $$ "
   ]
  },
  {
   "cell_type": "markdown",
   "metadata": {
    "cell_style": "center",
    "slideshow": {
     "slide_type": "slide"
    }
   },
   "source": [
    "The probability function must satisfy a few requirements:\n",
    "\n",
    "**Requirement 1**\n",
    "\n",
    "$$ P(b) \\geq 0, \\forall b \\in B $$\n",
    "\n",
    "A probability must be positive."
   ]
  },
  {
   "cell_type": "markdown",
   "metadata": {
    "slideshow": {
     "slide_type": "subslide"
    }
   },
   "source": [
    "**Requirement 2**\n",
    "\n",
    "$$ P(\\Omega) = 1 $$\n",
    "\n",
    "or\n",
    "\n",
    "$$ P(\\{1,2,3,4,5,6\\}) = 1 $$\n",
    "\n",
    "The probability of getting any of the possibility outcomes of a trial must be 1."
   ]
  },
  {
   "cell_type": "markdown",
   "metadata": {
    "cell_style": "split",
    "slideshow": {
     "slide_type": "slide"
    }
   },
   "source": [
    "**Requirement 3**\n",
    "\n",
    "The union of mutually exclusive events must satisfy:\n",
    "\n",
    "$$ P\\Big(\\bigcup_i b_i\\Big) = \\sum_i P(b_i)$$"
   ]
  },
  {
   "cell_type": "markdown",
   "metadata": {
    "cell_style": "split",
    "slideshow": {
     "slide_type": "fragment"
    }
   },
   "source": [
    "Seems abstract but is pretty sensible:\n",
    "\n",
    "$$ P(\\{1,2,3\\})  = P(\\{1\\} \\cup \\{2\\} \\cup \\{3\\} ) \\\\ = P(\\{1\\}) + P(\\{2\\}) + P(\\{3\\}) = \\\\ \\frac{1}{6} + \\frac{1}{6} + \\frac{1}{6} = \\frac{1}{2} $$"
   ]
  },
  {
   "cell_type": "markdown",
   "metadata": {
    "slideshow": {
     "slide_type": "slide"
    }
   },
   "source": [
    "We can define this in code with a function that maps sets to a number:\n",
    "\n",
    "- Do this for a fair die as example."
   ]
  },
  {
   "cell_type": "code",
<<<<<<< HEAD
   "execution_count": 58,
=======
   "execution_count": 72,
>>>>>>> upstream/main
   "metadata": {
    "slideshow": {
     "slide_type": "subslide"
    }
   },
   "outputs": [],
   "source": [
    "from math import isclose\n",
    "\n",
    "def proba(input_event, sample_space, proba_dict = None):\n",
    "    \n",
    "    if proba_dict == None:\n",
    "        # get number of elements (should be 6 for our die)\n",
    "        N = len(sample_space)\n",
    "        \n",
    "        # probabilities for single outcome events assuming uniform distribution\n",
    "        proba_dict = {obs: 1/N for obs in sample_space}\n",
    "        \n",
    "    else:\n",
    "        # values of dict would need to change if not uniform probabilities\n",
    "        proba_dict = proba_dict\n",
    "        \n",
    "    # first check if probabilities are greater than = 0 and probabilities sums to 1.\n",
    "    if isclose(sum(proba_dict.values()), 1) & all(p >= 0 for p in proba_dict.values()):\n",
    "        \n",
    "        event_prob = sum([proba_dict[elem] for elem in input_event])\n",
    "        \n",
    "        return event_prob\n",
    "    else:\n",
    "        print('Probabilities not valid for single outcome events.')\n",
    "        pass"
   ]
  },
  {
   "cell_type": "markdown",
   "metadata": {
    "cell_style": "split",
    "slideshow": {
     "slide_type": "slide"
    }
   },
   "source": [
    "Construct sample space $\\Omega$ for six-sided dice.\n",
    "\n",
    "- Since fair, function assumes uniform probability."
   ]
  },
  {
   "cell_type": "code",
<<<<<<< HEAD
   "execution_count": 59,
=======
   "execution_count": 73,
>>>>>>> upstream/main
   "metadata": {
    "cell_style": "split",
    "slideshow": {
     "slide_type": "fragment"
    }
   },
   "outputs": [],
   "source": [
    "# define sample space\n",
    "S = {1,2,3,4,5,6}"
   ]
  },
  {
   "cell_type": "code",
<<<<<<< HEAD
   "execution_count": 60,
=======
   "execution_count": 74,
>>>>>>> upstream/main
   "metadata": {
    "cell_style": "split",
    "slideshow": {
     "slide_type": "fragment"
    }
   },
   "outputs": [
    {
     "data": {
      "text/plain": [
       "0.16666666666666666"
      ]
     },
<<<<<<< HEAD
     "execution_count": 60,
=======
     "execution_count": 74,
>>>>>>> upstream/main
     "metadata": {},
     "output_type": "execute_result"
    }
   ],
   "source": [
    "# evaluate probability for throwing a 3\n",
    "proba({6}, S)"
   ]
  },
  {
   "cell_type": "markdown",
   "metadata": {
    "slideshow": {
     "slide_type": "slide"
    }
   },
   "source": [
    "Does this function satisfy requirements?"
   ]
  },
  {
   "cell_type": "markdown",
   "metadata": {
    "slideshow": {
     "slide_type": "slide"
    }
   },
   "source": [
    "**Requirement 1**"
   ]
  },
  {
   "cell_type": "code",
   "execution_count": 61,
   "metadata": {
    "cell_style": "split",
    "slideshow": {
     "slide_type": "fragment"
    }
   },
   "outputs": [
    {
     "data": {
      "text/plain": [
       "1.0"
      ]
     },
     "execution_count": 61,
     "metadata": {},
     "output_type": "execute_result"
    }
   ],
   "source": [
    "proba_dict2 = {1: .1, 2: -.1, 3: .4,\n",
    "               4: .1, 5: .25, 6: .25}\n",
    "sum(proba_dict2.values())"
   ]
  },
  {
   "cell_type": "code",
   "execution_count": 62,
   "metadata": {
    "cell_style": "split",
    "slideshow": {
     "slide_type": "fragment"
    }
   },
   "outputs": [
    {
     "name": "stdout",
     "output_type": "stream",
     "text": [
      "Probabilities not valid for single outcome events.\n"
     ]
    }
   ],
   "source": [
    "proba({1,2}, S, proba_dict2)"
   ]
  },
  {
   "cell_type": "markdown",
   "metadata": {
    "cell_style": "split",
    "slideshow": {
     "slide_type": "fragment"
    }
   },
   "source": [
    "Probabilities must be greater than zero."
   ]
  },
  {
   "cell_type": "markdown",
   "metadata": {
    "slideshow": {
     "slide_type": "slide"
    }
   },
   "source": [
    "**Requirement 2**"
   ]
  },
  {
   "cell_type": "code",
   "execution_count": 63,
   "metadata": {
    "cell_style": "split",
    "scrolled": true,
    "slideshow": {
     "slide_type": "fragment"
    }
   },
   "outputs": [
    {
     "data": {
      "text/plain": [
       "0.9999999999999999"
      ]
     },
     "execution_count": 63,
     "metadata": {},
     "output_type": "execute_result"
    }
   ],
   "source": [
    "# the probability when the event \n",
    "# is the entire sample space\n",
    "proba(S, S)"
   ]
  },
  {
   "cell_type": "markdown",
   "metadata": {
    "cell_style": "split",
    "slideshow": {
     "slide_type": "fragment"
    }
   },
   "source": [
    "Apart from an issue with floats:\n",
    "- Yes this satisfies axiom 2."
   ]
  },
  {
   "cell_type": "markdown",
   "metadata": {
    "slideshow": {
     "slide_type": "slide"
    }
   },
   "source": [
    "**Requirement 3**"
   ]
  },
  {
   "cell_type": "code",
   "execution_count": 64,
   "metadata": {
    "cell_style": "split",
    "slideshow": {
     "slide_type": "slide"
    }
   },
   "outputs": [
    {
     "data": {
      "text/plain": [
       "{2, 3, 5}"
      ]
     },
     "execution_count": 64,
     "metadata": {},
     "output_type": "execute_result"
    }
   ],
   "source": [
    "event_A = {2}\n",
    "event_B = {5}\n",
    "event_C = {3}\n",
    "nonoverlap_union = \\\n",
    "event_A.union(event_B).union(event_C)\n",
    "nonoverlap_union"
   ]
  },
  {
   "cell_type": "code",
   "execution_count": 65,
   "metadata": {
    "cell_style": "split",
    "slideshow": {
     "slide_type": "fragment"
    }
   },
   "outputs": [
    {
     "data": {
      "text/plain": [
       "0.5"
      ]
     },
     "execution_count": 65,
     "metadata": {},
     "output_type": "execute_result"
    }
   ],
   "source": [
    "proba(nonoverlap_union, S)"
   ]
  },
  {
   "cell_type": "code",
   "execution_count": 66,
   "metadata": {
    "cell_style": "split",
    "slideshow": {
     "slide_type": "fragment"
    }
   },
   "outputs": [
    {
     "data": {
      "text/plain": [
       "0.5"
      ]
     },
     "execution_count": 66,
     "metadata": {},
     "output_type": "execute_result"
    }
   ],
   "source": [
    "proba(event_A, S) + proba(event_B, S) + proba(event_C, S) "
   ]
  },
  {
   "cell_type": "markdown",
   "metadata": {
    "slideshow": {
     "slide_type": "slide"
    }
   },
   "source": [
    "These three axioms, the notion of sample space $\\Omega$ and the event space $B$ define the **probability space**:\n",
    "    $$ (\\Omega, B, P) $$\n",
    "- Armed with this, notions from set theory, and other branches of math:\n",
    "    - entire framework for quantifying chance and uncertainty\n",
    "    - deriving relationships between random events/uncertainties "
   ]
  },
  {
   "cell_type": "markdown",
   "metadata": {
    "slideshow": {
     "slide_type": "slide"
    }
   },
   "source": [
    "An example of such a relation:"
   ]
  },
  {
   "cell_type": "markdown",
   "metadata": {
    "cell_style": "split",
    "slideshow": {
     "slide_type": "fragment"
    }
   },
   "source": [
    "If events $A$ and $B$ are NOT mutually exclusive:\n",
    "\n",
    "$$P(\\{A\\}\\cup\\{B\\}) = P(\\{A\\}) + P(\\{B\\})  \\\\ - P(A\\cap B)$$\n",
    "\n",
    "where $\\cap$ denotes intersection of sets."
   ]
  },
  {
   "cell_type": "markdown",
   "metadata": {
    "cell_style": "split",
    "slideshow": {
     "slide_type": "fragment"
    }
   },
   "source": [
    "<center><img src=\"Images/aunionB.png\" width=\"400\"/></center>\n"
   ]
  },
  {
   "cell_type": "markdown",
   "metadata": {
    "slideshow": {
     "slide_type": "subslide"
    }
   },
   "source": [
    "Reasonable, but can also be proved from first three axioms and notions from set theory."
   ]
  },
  {
   "cell_type": "markdown",
   "metadata": {
    "cell_style": "center",
    "slideshow": {
     "slide_type": "slide"
    }
   },
   "source": [
    "**A concrete example**\n",
    "- Calculating probabilities for union of two non-mutually exclusive events"
   ]
  },
  {
   "cell_type": "code",
   "execution_count": 67,
   "metadata": {
    "cell_style": "split",
    "slideshow": {
     "slide_type": "fragment"
    }
   },
   "outputs": [
    {
     "data": {
      "text/plain": [
       "{1, 2, 3, 4}"
      ]
     },
     "execution_count": 67,
     "metadata": {},
     "output_type": "execute_result"
    }
   ],
   "source": [
    "A = {1,2,3}\n",
    "B = {2,3,4}\n",
    "\n",
    "A.union(B)"
   ]
  },
  {
   "cell_type": "code",
   "execution_count": 68,
   "metadata": {
    "cell_style": "split",
    "slideshow": {
     "slide_type": "fragment"
    }
   },
   "outputs": [
    {
     "data": {
      "text/plain": [
       "0.6666666666666667"
      ]
     },
     "execution_count": 68,
     "metadata": {},
     "output_type": "execute_result"
    }
   ],
   "source": [
    "proba(A, S) + proba(B, S) - proba(A.intersection(B), S)"
   ]
  },
  {
   "cell_type": "code",
   "execution_count": 69,
   "metadata": {
    "cell_style": "split",
    "slideshow": {
     "slide_type": "fragment"
    }
   },
   "outputs": [
    {
     "data": {
      "text/plain": [
       "0.6666666666666666"
      ]
     },
     "execution_count": 69,
     "metadata": {},
     "output_type": "execute_result"
    }
   ],
   "source": [
    "proba(A.union(B), S)"
   ]
  },
  {
   "cell_type": "markdown",
   "metadata": {
    "slideshow": {
     "slide_type": "slide"
    }
   },
   "source": [
    " Many other interesting relations and inequalities between probabilities of elements in an event space.\n",
    " \n",
    " **The province of probability theory**"
   ]
  },
  {
   "cell_type": "markdown",
   "metadata": {
    "cell_style": "split",
    "slideshow": {
     "slide_type": "slide"
    }
   },
   "source": [
    "#### Connection with statistics\n",
    "\n",
    " probabilities to elements of event space:\n",
    "- corresponding to result of single outcome\n",
    "\n",
    "e.g. Assigned $\\{1\\}$, $\\{2\\}$, $ \\{3\\} $ ..."
   ]
  },
  {
   "cell_type": "markdown",
   "metadata": {
    "cell_style": "split",
    "slideshow": {
     "slide_type": "fragment"
    }
   },
   "source": [
    "Did this with proba_dict:"
   ]
  },
  {
   "cell_type": "code",
   "execution_count": 70,
   "metadata": {
    "cell_style": "split",
    "slideshow": {
     "slide_type": "fragment"
    }
   },
   "outputs": [
    {
     "data": {
      "text/plain": [
       "1.0000000000000002"
      ]
     },
     "execution_count": 70,
     "metadata": {},
     "output_type": "execute_result"
    }
   ],
   "source": [
    "# values for a loaded die\n",
    "proba_dict3 = {1: .1, 2: .1, 3: .4,\n",
    "               4: .1, 5: .2, 6: .1}\n",
    "sum(proba_dict3.values())"
   ]
  },
  {
   "cell_type": "markdown",
   "metadata": {
    "slideshow": {
     "slide_type": "fragment"
    }
   },
   "source": [
    "But how do we actually get these probability values?"
   ]
  },
  {
   "cell_type": "markdown",
   "metadata": {
    "cell_style": "split",
    "slideshow": {
     "slide_type": "slide"
    }
   },
   "source": [
    "<center><img src=\"Images/throwing-dice-quavo.gif\" width=\"400\"/></center>\n",
    "\n",
    "<center> Quavo knows the importance of repeated, statistical trials. </center>"
   ]
  },
  {
   "cell_type": "markdown",
   "metadata": {
    "cell_style": "split",
    "slideshow": {
     "slide_type": "fragment"
    }
   },
   "source": [
    "Statistics: where the real world meets probability theory.\n",
    "\n",
    "Repeat trial on die:\n",
    "- Tabulate frequencies"
   ]
  },
  {
   "cell_type": "markdown",
   "metadata": {
    "slideshow": {
     "slide_type": "slide"
    }
   },
   "source": [
    "We will do this by simulation:"
   ]
  },
  {
   "cell_type": "code",
<<<<<<< HEAD
   "execution_count": 71,
=======
   "execution_count": 77,
>>>>>>> upstream/main
   "metadata": {
    "cell_style": "split",
    "slideshow": {
     "slide_type": "fragment"
    }
   },
   "outputs": [
    {
     "name": "stdout",
     "output_type": "stream",
     "text": [
<<<<<<< HEAD
      "0     5\n",
      "1     5\n",
      "2     1\n",
      "3     1\n",
      "4     5\n",
      "5     4\n",
      "6     1\n",
      "7     4\n",
      "8     1\n",
      "9     3\n",
      "10    6\n",
      "11    2\n",
      "12    4\n",
      "13    1\n",
      "14    3\n",
      "15    5\n",
      "16    6\n",
      "17    5\n",
      "18    5\n",
      "19    2\n",
      "dtype: int32\n"
=======
      "0     1\n",
      "1     6\n",
      "2     1\n",
      "3     4\n",
      "4     5\n",
      "5     6\n",
      "6     3\n",
      "7     5\n",
      "8     6\n",
      "9     3\n",
      "10    1\n",
      "11    4\n",
      "12    5\n",
      "13    3\n",
      "14    1\n",
      "15    3\n",
      "16    3\n",
      "17    3\n",
      "18    3\n",
      "19    4\n",
      "dtype: int64\n"
>>>>>>> upstream/main
     ]
    }
   ],
   "source": [
    "# randint is the discrete uniform distribution\n",
    "from scipy.stats import randint\n",
    "import pandas as pd\n",
    "\n",
    "# generates samples from integers \n",
    "# between 1 to 6\n",
    "dice_sides = 6\n",
    "N = 20\n",
    "trial_results = pd.Series(\n",
    "    randint.rvs(1, dice_sides+1, size = N))\n",
    "print(trial_results)"
   ]
  },
  {
   "cell_type": "code",
<<<<<<< HEAD
   "execution_count": 72,
=======
   "execution_count": 78,
>>>>>>> upstream/main
   "metadata": {
    "cell_style": "split",
    "slideshow": {
     "slide_type": "fragment"
    }
   },
   "outputs": [],
   "source": [
    "rel_frequency = trial_results.value_counts(\n",
    "    normalize = True).sort_index()\n"
   ]
  },
  {
   "cell_type": "code",
<<<<<<< HEAD
   "execution_count": 73,
=======
   "execution_count": 79,
>>>>>>> upstream/main
   "metadata": {
    "cell_style": "split",
    "slideshow": {
     "slide_type": "subslide"
    }
   },
   "outputs": [
    {
     "data": {
<<<<<<< HEAD
      "image/png": "iVBORw0KGgoAAAANSUhEUgAAAYgAAAEDCAYAAAAvNJM9AAAAOXRFWHRTb2Z0d2FyZQBNYXRwbG90bGliIHZlcnNpb24zLjMuMSwgaHR0cHM6Ly9tYXRwbG90bGliLm9yZy/d3fzzAAAACXBIWXMAAAsTAAALEwEAmpwYAAAWe0lEQVR4nO3df5RfdX3n8eeL0FSgKLUE9RCGoEZpqkBxAD3guqhQflSjri1Yj1orppyVo67rrtGlaLvbs7Br6+opbYwsVugiLlZqrBHEusJphZKglF9KNwtxmUaKICvyQ0LgvX98b+TL5GZyZzJ3vpP4fJwzZ+793M/nft/3MOH1vb9TVUiSNNkeoy5AkjQ/GRCSpFYGhCSplQEhSWplQEiSWhkQkqRWe466gNm0//7715IlS0ZdhiTtMm644YZ7q2pR27LdKiCWLFnC+vXrR12GJO0yknxve8s8xCRJamVASJJaGRCSpFYGhCSplQEhSWrVa0AkOSnJ7Uk2JFnZsnx5kpuS3JhkfZLjuo6VJPWrt4BIsgA4HzgZWAa8KcmySd3+Bji8qo4Afge4YBpjJUk96nMP4mhgQ1XdUVWbgUuB5cMdqurBevKFFPsA1XWsJKlffd4odyBw19D8BHDM5E5JXg/8Z+AA4NTpjG3GrwBWAIyNje100ZLmzpKVX57Tz9t47qk77qSf6nMPIi1t27y+rqour6pDgdcB/3E6Y5vxq6tqvKrGFy1qvVtckjQDfQbEBHDQ0PxiYNP2OlfVNcDzkuw/3bGSpNnXZ0CsA5YmOSTJQuB0YM1whyTPT5Jm+khgIXBfl7GSpH71dg6iqrYkOQu4ElgAXFhVtyY5s1m+CvhXwFuTPAY8ApzWnLRuHdtXrZKkbfX6NNeqWgusndS2amj6POC8rmMlSXPHO6klSa0MCElSKwNCktTKgJAktTIgJEmtDAhJUisDQpLUyoCQJLUyICRJrQwISVIrA0KS1MqAkCS1MiAkSa0MCElSKwNCktTKgJAktTIgJEmtDAhJUisDQpLUyoCQJLUyICRJrQwISVIrA0KS1MqAkCS1MiAkSa16DYgkJyW5PcmGJCtblr85yU3NzzeTHD60bGOSm5PcmGR9n3VKkra1Z18rTrIAOB84AZgA1iVZU1W3DXW7E3hFVd2f5GRgNXDM0PLjq+revmqUJG1fn3sQRwMbquqOqtoMXAosH+5QVd+sqvub2euAxT3WI0mahj4D4kDgrqH5iaZte94BfGVovoCvJrkhyYoe6pMkTaG3Q0xAWtqqtWNyPIOAOG6o+diq2pTkAOCqJN+tqmtaxq4AVgCMjY3NqNAlK788o3EzsfHcU+fssyRpZ/S5BzEBHDQ0vxjYNLlTksOAC4DlVXXf1vaq2tT8vge4nMEhq21U1eqqGq+q8UWLFs1i+ZL0s63PgFgHLE1ySJKFwOnAmuEOScaALwBvqap/HGrfJ8m+W6eBE4FbeqxVkjRJb4eYqmpLkrOAK4EFwIVVdWuSM5vlq4BzgF8C/jQJwJaqGgeeBVzetO0JXFJVV/RVqyRpW32eg6Cq1gJrJ7WtGpo+AzijZdwdwOGT2yVJc8c7qSVJrQwISVIrA0KS1MqAkCS1MiAkSa0MCElSKwNCktTKgJAktTIgJEmtDAhJUisDQpLUyoCQJLUyICRJrXYYEEleNBeFSJLmly57EKuSXJ/kXyfZr++CJEnzww4DoqqOA97M4PWh65NckuSE3iuTJI1Up3MQVfW/gbOBDwCvAD6R5LtJ3tBncZKk0elyDuKwJB8DvgO8EnhNVf1yM/2xnuuTJI1Il1eO/gnwKeBDVfXI1saq2pTk7N4qkySNVJeAOAV4pKoeB0iyB/C0qnq4qi7utTpJ0sh0OQfxNWCvofm9mzZJ0m6sS0A8raoe3DrTTO/dX0mSpPmgS0A8lOTIrTNJXgI8MkV/SdJuoMs5iPcClyXZ1Mw/Bzitt4okSfPCDgOiqtYlORR4IRDgu1X1WO+VSZJGqsseBMBRwJKm/68moaou6q0qSdLIdblR7mLgo8BxDILiKGC8y8qTnJTk9iQbkqxsWf7mJDc1P99McnjXsZKkfnXZgxgHllVVTWfFSRYA5wMnABPAuiRrquq2oW53Aq+oqvuTnAysBo7pOFaS1KMuVzHdAjx7Bus+GthQVXdU1WbgUmD5cIeq+mZV3d/MXgcs7jpWktSvLnsQ+wO3JbkeeHRrY1W9dgfjDgTuGpqfAI6Zov87gK9Md2ySFcAKgLGxsR2UJEnqqktAfGSG605LW+thqiTHMwiI46Y7tqpWMzg0xfj4+LQOg0mStq/LZa5XJzkYWFpVX0uyN7Cgw7onGLxDYqvFwKbJnZIcBlwAnFxV901nrCSpP12uYnon8Hngk03TgcBfdVj3OmBpkkOSLAROB9ZMWvcY8AXgLVX1j9MZK0nqV5dDTO9icNL472Hw8qAkB+xoUFVtSXIWcCWDPY4Lq+rWJGc2y1cB5wC/BPxpEoAtVTW+vbHT3zxJ0kx1CYhHq2pz8z9wkuzJds4HTFZVa4G1k9pWDU2fAZzRdawkae50ucz16iQfAvZq3kV9GfClfsuSJI1al4BYCfwAuBn4XQbf6n2TnCTt5rpcxfQEg1eOfqr/ciRJ88UOAyLJnbScc6iq5/ZSkSRpXuj6LKatngb8BvDMfsqRJM0XOzwHUVX3Df38U1X9N+CV/ZcmSRqlLoeYjhya3YPBHsW+vVUkSZoXuhxi+qOh6S3ARuA3e6lGkjRvdLmK6fi5KESSNL90OcT0vqmWV9Ufz145kqT5outVTEfx5MPyXgNcw1Pf1yBJ2s10fWHQkVX1Y4AkHwEua56jJEnaTXV51MYYsHlofjOwpJdqJEnzRpc9iIuB65NczuCO6tcDF/ValSRp5LpcxfSHSb4CvLxpentVfbvfsiRJo9blEBPA3sADVfVxYCLJIT3WJEmaB7q8cvTDwAeADzZNPwf8RZ9FSZJGr8sexOuB1wIPAVTVJnzUhiTt9roExOaqKppHfifZp9+SJEnzQZeA+J9JPgnsl+SdwNfw5UGStNub8iqmJAE+BxwKPAC8EDinqq6ag9okSSM0ZUBUVSX5q6p6CWAoSNLPkC6HmK5LclTvlUiS5pUud1IfD/xuku8xuJIpDHYuDuu1MknSSG03IJIcUlV3AifPYT2SpHliqkNMn29+X1hV35v802XlSU5KcnuSDUlWtiw/NMm1SR5N8v5JyzYmuTnJjUnWd98kSdJsmOoQ0x7NXdQvaHtp0I5eFJRkAXA+cAIwAaxLsqaqbhvq9kPg3cDrtrOa46vq3qk+R5LUj6n2IE4HfsIgRPZt+dmRo4ENVXVHVW0GLgWWD3eoqnuqah3w2AxqlyT1aLt7EFV1O3Bekpuq6iszWPeBPPWtcxPAMdMYX8BXkxTwyapaPYMaJEkz1OVx3zMJBxhc7bTN6qYx/tiq2pTkAOCqJN+tqmu2+ZBkBbACYGxsbGaVSvPUkpVfntPP23juqXP6eZrfuj7ueyYmgIOG5hcDm7oObh4KSFXdA1zO4JBVW7/VVTVeVeOLFi3aiXIlScP6DIh1wNIkhyRZyOCcxpouA5Psk2TfrdPAicAtvVUqSdrGDg8xJdkb+LfAWFW9M8lS4IVV9ddTjauqLUnOAq4EFjC4XPbWJGc2y1cleTawHng68ESS9wLLgP2BywePgmJP4JKqumKmGylJmr4ud1J/GrgBeFkzPwFcBkwZEABVtRZYO6lt1dD03QwOPU32AHB4h9okST3pcojpeVX1X2guRa2qR2g/AS1J2o10emFQkr148oVBzwMe7bUqSdLIdTnE9BHgCuCgJP8DOBb47R5rkiTNA13ug/hqkhuAlzI4tPQeH38hSbu/LlcxrQE+C6ypqof6L0mSNB90OQfxR8DLgduSXJbkjUme1nNdkqQR63KI6Wrg6ubprK8E3glcyODeBUnSbqrLSWqaq5heA5wGHAl8ps+iJEmj1+UcxOcYPIX1Cgbvd/hGVT3Rd2GSpNHqeif1b1XV430XI0maP6Z6J/Urq+rrwN7A8ua5SD9VVV/ouTZJ0ghNtQfxCuDrDM49TFaAASFJu7Gp3ij34WbyD6rqzuFlSQ7ptSpJ0sh1uQ/iL1vaPj/bhUiS5pepzkEcCvwK8Iwkbxha9HTAG+UkaTc31TmIFwK/DuzHU89D/JjBzXKSpN3YVOcgvgh8McnLquraOaxJkjQPdLkP4ttJ3sXgcNNPDy1V1e/0VpUkaeS6nKS+GHg28GvA1QxeEfrjPouSJI1el4B4flX9HvBQVX0GOBV4cb9lSZJGrUtAPNb8/n9JXgQ8A1jSW0WSpHmhyzmI1Ul+Efg9YA3wC8A5vVYlSRq5Lu+DuKCZvBp4br/lSJLmi6lulHvfVAOr6o9nvxxJ0nwx1R7EvnNWhSRp3pnqRrnfn8tCJEnzyw6vYkrygiR/k+SWZv6wJGd3WXmSk5LcnmRDkpUtyw9Ncm2SR5O8fzpjJUn96nKZ66eAD9Jc7lpVNwGn72hQkgUMXlF6MrAMeFOSZZO6/RB4N/DRGYyVJPWoS0DsXVXXT2rb0mHc0cCGqrqjqjYDlwLLhztU1T1VtY4n77XoPFaS1K8u90Hcm+R5DN4iR5I3At/vMO5A4K6h+QngmI51dR6bZAWwAmBsbKzj6n92LFn55Tn9vI3nnjqnn7e7b592bXP599nH32aXgHgXsBo4NMk/AXcCb+4wLi1t1bGuzmOranVTH+Pj413XL0nagS43yt0BvDrJPgwOST0CnAZ8bwdDJ4CDhuYXA5s61rUzYyVJs2C75yCSPD3JB5P8SZITgIeBtwEbgN/ssO51wNIkhyRZyODE9pqOde3MWEnSLJhqD+Ji4H7gWgZvkPv3wELgdVV1445WXFVbkpwFXAksAC6sqluTnNksX5Xk2cB6Bq8xfSLJe4FlVfVA29gZbqMkaQamCojnVtWLAZJcANwLjFVV53dBVNVaYO2ktlVD03czOHzUaawkae5MdZnrTy89rarHgTunEw6SpF3bVHsQhyd5oJkOsFczH6Cq6um9VydJGpmpnsW0YC4LkSTNL13upJYk/QwyICRJrQwISVIrA0KS1MqAkCS1MiAkSa0MCElSKwNCktTKgJAktTIgJEmtDAhJUisDQpLUyoCQJLUyICRJrQwISVIrA0KS1MqAkCS1MiAkSa0MCElSKwNCktTKgJAktTIgJEmteg2IJCcluT3JhiQrW5YnySea5TclOXJo2cYkNye5Mcn6PuuUJG1rz75WnGQBcD5wAjABrEuypqpuG+p2MrC0+TkG+LPm91bHV9W9fdUoSdq+PvcgjgY2VNUdVbUZuBRYPqnPcuCiGrgO2C/Jc3qsSZLUUZ8BcSBw19D8RNPWtU8BX01yQ5IVvVUpSWrV2yEmIC1tNY0+x1bVpiQHAFcl+W5VXbPNhwzCYwXA2NjYztQrSRrS5x7EBHDQ0PxiYFPXPlW19fc9wOUMDllto6pWV9V4VY0vWrRolkqXJPUZEOuApUkOSbIQOB1YM6nPGuCtzdVMLwV+VFXfT7JPkn0BkuwDnAjc0mOtkqRJejvEVFVbkpwFXAksAC6sqluTnNksXwWsBU4BNgAPA29vhj8LuDzJ1hovqaor+qpVkrStPs9BUFVrGYTAcNuqoekC3tUy7g7g8D5rkyRNzTupJUmtDAhJUisDQpLUyoCQJLUyICRJrQwISVIrA0KS1MqAkCS1MiAkSa0MCElSKwNCktTKgJAktTIgJEmtDAhJUisDQpLUyoCQJLUyICRJrQwISVIrA0KS1MqAkCS1MiAkSa0MCElSKwNCktTKgJAktTIgJEmtDAhJUqteAyLJSUluT7IhycqW5UnyiWb5TUmO7DpWktSv3gIiyQLgfOBkYBnwpiTLJnU7GVja/KwA/mwaYyVJPepzD+JoYENV3VFVm4FLgeWT+iwHLqqB64D9kjyn41hJUo/27HHdBwJ3Dc1PAMd06HNgx7EAJFnBYO8D4MEkt+9EzdOxP3DvdAflvB4q6Yfb18Ltmzd25+2b6207eHsL+gyItLRVxz5dxg4aq1YDq6dX2s5Lsr6qxuf6c+eK27drc/t2XfNp2/oMiAngoKH5xcCmjn0WdhgrSepRn+cg1gFLkxySZCFwOrBmUp81wFubq5leCvyoqr7fcawkqUe97UFU1ZYkZwFXAguAC6vq1iRnNstXAWuBU4ANwMPA26ca21etMzTnh7XmmNu3a3P7dl3zZttS1XpoX5L0M847qSVJrQwISVIrA0KS1MqAEABJDk3yqiS/MKn9pFHVNJuSHJ3kqGZ6WZL3JTll1HX1IclFo66hL0mOa/7bnTjqWmZDkmOSPL2Z3ivJ7yf5UpLzkjxj5PV5knrnJXl7VX161HXMVJJ3A+8CvgMcAbynqr7YLPtWVR05xfB5L8mHGTzXa0/gKgZ35X8DeDVwZVX94eiq2zlJJl/+HeB44OsAVfXaOS9qFiW5vqqObqbfyeDv9HLgROBLVXXuKOvbWUluBQ5vrtxczeBqzs8Dr2ra3zDS+gyInZfk/1bV2KjrmKkkNwMvq6oHkyxh8Ad6cVV9PMm3q+pXR1vhzmm27wjg54G7gcVV9UCSvYC/r6rDRlnfzkjyLeA24AKefArBZxncO0RVXT266nbe8N9fknXAKVX1gyT7ANdV1YtHW+HOSfKdqvrlZvopX8aS3FhVR4ysOPq9k3q3kuSm7S0CnjWXtfRgQVU9CFBVG5P8S+DzSQ6m/bEnu5otVfU48HCS/1NVDwBU1SNJnhhxbTtrHHgP8B+Af1dVNyZ5ZFcPhiF7JPlFBofDU1U/AKiqh5JsGW1ps+KWoSMQ/5BkvKrWJ3kB8NioizMgunsW8GvA/ZPaA3xz7suZVXcnOaKqbgRo9iR+HbgQ2KW/oTU2J9m7qh4GXrK1sTnGu0sHRFU9AXwsyWXN739m9/p3/QzgBgb/zirJs6vq7uZc2e7w5eUM4ONJzmbwgL5rk9zF4GGlZ4y0MjzE1FmS/w58uqr+tmXZJVX1WyMoa1YkWczgW/bdLcuOraq/G0FZsybJz1fVoy3t+wPPqaqbR1BWL5KcChxbVR8adS19SrI38KyqunPUtcyGJPsCz2UQ7hNV9c8jLgkwICRJ2+FlrpKkVgaEJKmVASEBSR5PcmOSW5oblfbbQf8/T/LGZvobSebkBS9JliS5pZk+Yne92U/zgwEhDTxSVUdU1YuAHzK4IWvWJFkwm+trHMHgcflSLwwIaVvXMngv+tZv6dcluSnJ5c01+Z0k2ZjknCR/C/xGkhOTXJvkW0ku2/pYkyTnJrmt+YyPNm0/3UNp5h+ctO6FwB8ApzV7Pqft/GZLT2VASEOab/qv4sk3GF4EfKC52/pm4MPTXOVPquo44GvA2cCrm7tl1wPvS/JM4PXArzSf8Z+6rLSqNgPnAJ9r9nw+N826pB0yIKSBvZLcCNwHPBO4qrmRbr+hu5I/A/yLaa536/+4XwosA/6u+Zy3AQcDDwA/AS5I8gYGz+KR5gUDQhp4pHnuzcHAQmbvHMRDze8AVzXf9o+oqmVV9Y6q2gIcDfwl8Drgiqb/Fpp/n0nS1CTNKQNCGlJVPwLeDbyfwbf5+5O8vFn8FmCmzzi6Djg2yfNhcCdwkhc05yGeUVVrgfcyOPEMsJEnHwuyHPi5lnX+GNh3hvVIO2RASJNU1beBf2DwRNS3Af+1eVjjEQxODM9knT8Afhv4bLOu64BDGfwP/q+btquBf9MM+RTwiiTXM3g8+UPbrBT+F7DMk9Tqi4/akCS1cg9CktTKgJAktTIgJEmtDAhJUisDQpLUyoCQJLUyICRJrQwISVKr/w/L1QHtLj/I0wAAAABJRU5ErkJggg==",
=======
      "image/png": "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",
>>>>>>> upstream/main
      "text/plain": [
       "<Figure size 432x288 with 1 Axes>"
      ]
     },
     "metadata": {
      "needs_background": "light"
     },
     "output_type": "display_data"
    }
   ],
   "source": [
    "fig, ax = plt.subplots()\n",
    "rel_frequency.plot(kind = 'bar',\n",
    "                   ax = ax)\n",
    "\n",
    "ax.set_xlabel('Roll result')\n",
    "ax.set_ylabel('Relative frequency')\n",
    "\n",
    "plt.show()"
   ]
  },
  {
   "cell_type": "markdown",
   "metadata": {
    "cell_style": "split",
    "slideshow": {
     "slide_type": "slide"
    }
   },
   "source": [
    "For a finite number of roles:\n",
    "- relative frequencies on given run not equal to fair die expectations\n",
    "- fluctuations in relative frequencies from run to run"
   ]
  },
  {
   "cell_type": "code",
   "execution_count": 74,
   "metadata": {
    "cell_style": "center",
    "slideshow": {
     "slide_type": "slide"
    }
   },
   "outputs": [],
   "source": [
    "def die_simulator_freq(die_sides, num_trials):\n",
    "    \n",
    "    # generate samples\n",
    "    trial_results = pd.Series(randint.rvs(1, die_sides+1, size = num_trials))\n",
    "    \n",
    "    # create relative frequency series\n",
    "    rel_frequency = pd.DataFrame(trial_results.value_counts(normalize = True).sort_index()).reset_index()\n",
    "    rel_frequency.rename(columns = {'index': 'die_face', 'proportion': 'rel_freq'}, inplace = True)\n",
    "    return rel_frequency"
   ]
  },
  {
   "cell_type": "code",
   "execution_count": 75,
   "metadata": {},
   "outputs": [
    {
     "data": {
      "text/html": [
       "<div>\n",
       "<style scoped>\n",
       "    .dataframe tbody tr th:only-of-type {\n",
       "        vertical-align: middle;\n",
       "    }\n",
       "\n",
       "    .dataframe tbody tr th {\n",
       "        vertical-align: top;\n",
       "    }\n",
       "\n",
       "    .dataframe thead th {\n",
       "        text-align: right;\n",
       "    }\n",
       "</style>\n",
       "<table border=\"1\" class=\"dataframe\">\n",
       "  <thead>\n",
       "    <tr style=\"text-align: right;\">\n",
       "      <th></th>\n",
       "      <th>die_face</th>\n",
       "      <th>0</th>\n",
       "    </tr>\n",
       "  </thead>\n",
       "  <tbody>\n",
       "    <tr>\n",
       "      <th>0</th>\n",
       "      <td>1</td>\n",
       "      <td>0.16</td>\n",
       "    </tr>\n",
       "    <tr>\n",
       "      <th>1</th>\n",
       "      <td>2</td>\n",
       "      <td>0.21</td>\n",
       "    </tr>\n",
       "    <tr>\n",
       "      <th>2</th>\n",
       "      <td>3</td>\n",
       "      <td>0.16</td>\n",
       "    </tr>\n",
       "    <tr>\n",
       "      <th>3</th>\n",
       "      <td>4</td>\n",
       "      <td>0.10</td>\n",
       "    </tr>\n",
       "    <tr>\n",
       "      <th>4</th>\n",
       "      <td>5</td>\n",
       "      <td>0.21</td>\n",
       "    </tr>\n",
       "    <tr>\n",
       "      <th>5</th>\n",
       "      <td>6</td>\n",
       "      <td>0.16</td>\n",
       "    </tr>\n",
       "  </tbody>\n",
       "</table>\n",
       "</div>"
      ],
      "text/plain": [
       "   die_face     0\n",
       "0         1  0.16\n",
       "1         2  0.21\n",
       "2         3  0.16\n",
       "3         4  0.10\n",
       "4         5  0.21\n",
       "5         6  0.16"
      ]
     },
     "execution_count": 75,
     "metadata": {},
     "output_type": "execute_result"
    }
   ],
   "source": [
    "die_simulator_freq(6, 100)"
   ]
  },
  {
   "cell_type": "code",
   "execution_count": 76,
   "metadata": {
    "slideshow": {
     "slide_type": "skip"
    }
   },
   "outputs": [
    {
     "ename": "ModuleNotFoundError",
     "evalue": "No module named 'bokeh'",
     "output_type": "error",
     "traceback": [
      "\u001b[1;31m---------------------------------------------------------------------------\u001b[0m",
      "\u001b[1;31mModuleNotFoundError\u001b[0m                       Traceback (most recent call last)",
      "\u001b[1;32m<ipython-input-76-f1951a1072b5>\u001b[0m in \u001b[0;36m<module>\u001b[1;34m\u001b[0m\n\u001b[1;32m----> 1\u001b[1;33m \u001b[1;32mfrom\u001b[0m \u001b[0mbokeh\u001b[0m\u001b[1;33m.\u001b[0m\u001b[0mlayouts\u001b[0m \u001b[1;32mimport\u001b[0m \u001b[0mcolumn\u001b[0m\u001b[1;33m,\u001b[0m\u001b[0mrow\u001b[0m\u001b[1;33m\u001b[0m\u001b[1;33m\u001b[0m\u001b[0m\n\u001b[0m\u001b[0;32m      2\u001b[0m \u001b[1;32mfrom\u001b[0m \u001b[0mbokeh\u001b[0m\u001b[1;33m.\u001b[0m\u001b[0mmodels\u001b[0m \u001b[1;32mimport\u001b[0m \u001b[0mColumnDataSource\u001b[0m\u001b[1;33m,\u001b[0m \u001b[0mTextInput\u001b[0m\u001b[1;33m,\u001b[0m \u001b[0mButton\u001b[0m\u001b[1;33m\u001b[0m\u001b[1;33m\u001b[0m\u001b[0m\n\u001b[0;32m      3\u001b[0m \u001b[1;32mfrom\u001b[0m \u001b[0mbokeh\u001b[0m\u001b[1;33m.\u001b[0m\u001b[0mplotting\u001b[0m \u001b[1;32mimport\u001b[0m \u001b[0mfigure\u001b[0m\u001b[1;33m,\u001b[0m \u001b[0moutput_file\u001b[0m\u001b[1;33m,\u001b[0m \u001b[0mshow\u001b[0m\u001b[1;33m\u001b[0m\u001b[1;33m\u001b[0m\u001b[0m\n\u001b[0;32m      4\u001b[0m \u001b[1;32mfrom\u001b[0m \u001b[0mbokeh\u001b[0m\u001b[1;33m.\u001b[0m\u001b[0mio\u001b[0m \u001b[1;32mimport\u001b[0m \u001b[0mshow\u001b[0m\u001b[1;33m,\u001b[0m \u001b[0moutput_notebook\u001b[0m\u001b[1;33m\u001b[0m\u001b[1;33m\u001b[0m\u001b[0m\n\u001b[0;32m      5\u001b[0m \u001b[1;32mfrom\u001b[0m \u001b[0mbokeh\u001b[0m\u001b[1;33m.\u001b[0m\u001b[0mthemes\u001b[0m \u001b[1;32mimport\u001b[0m \u001b[0mTheme\u001b[0m\u001b[1;33m\u001b[0m\u001b[1;33m\u001b[0m\u001b[0m\n",
      "\u001b[1;31mModuleNotFoundError\u001b[0m: No module named 'bokeh'"
     ]
    }
   ],
   "source": [
    "\n",
    "from bokeh.layouts import column,row\n",
    "from bokeh.models import ColumnDataSource, TextInput, Button\n",
    "from bokeh.plotting import figure, output_file, show\n",
    "from bokeh.io import show, output_notebook\n",
    "from bokeh.themes import Theme\n",
    "import yaml\n",
    "import numpy as np\n",
    "output_notebook()\n",
    "\n",
    "def bk_app(doc):\n",
    "    \n",
    "    rel_freq = die_simulator_freq(die_sides = 6, num_trials = 30)\n",
    "    \n",
    "    source = ColumnDataSource(rel_freq)\n",
    "    \n",
    "    # Create plots and widgets\n",
    "    plot = figure(title = \"Relative Frequency\" )\n",
    "\n",
    "    plot.vbar(x = 'die_face', top = 'rel_freq', source = source, color = 'lightblue', line_color = 'black' ) \n",
    "\n",
    "\n",
    "    # Create text input object\n",
    "    \n",
    "    n_trial = TextInput(title=\"Number of trials\", value = '30')\n",
    "    refresh = Button(label=\"Update\", button_type=\"success\")\n",
    "\n",
    "\n",
    "    # Adding callback code\n",
    "    def callback(attr, old, new):\n",
    "        N = n_trial.value\n",
    "        rel_freq = die_simulator_freq(die_sides = 6, num_trials = int(N)) \n",
    "        source.data = rel_freq\n",
    "        \n",
    "    def update():\n",
    "        N = n_trial.value\n",
    "        rel_freq = die_simulator_freq(die_sides = 6, num_trials = int(N)) \n",
    "        source.data = rel_freq\n",
    "\n",
    "\n",
    "    n_trial.on_change('value', callback)\n",
    "    refresh.on_click(update)\n",
    "\n",
    "\n",
    "    doc.add_root(row(\n",
    "        plot,\n",
    "        column(n_trial, refresh),\n",
    "    ))\n",
    "\n",
    "    doc.theme = Theme(json=yaml.load(\"\"\"\n",
    "        attrs:\n",
    "            figure:\n",
    "                background_fill_color: white\n",
    "                outline_line_color: white\n",
    "                toolbar_location: above\n",
    "                height: 450\n",
    "                width: 450\n",
    "    \"\"\", Loader=yaml.FullLoader))\n",
    "\n"
   ]
  },
  {
   "cell_type": "code",
   "execution_count": 33,
   "metadata": {
    "scrolled": true,
    "slideshow": {
     "slide_type": "slide"
    }
   },
   "outputs": [
    {
     "data": {
      "application/vnd.bokehjs_exec.v0+json": "",
      "text/html": [
       "<script id=\"p1001\">\n",
       "  (function() {\n",
       "    const xhr = new XMLHttpRequest()\n",
       "    xhr.responseType = 'blob';\n",
       "    xhr.open('GET', \"http://localhost:63946/autoload.js?bokeh-autoload-element=p1001&bokeh-absolute-url=http://localhost:63946&resources=none\", true);\n",
       "    xhr.onload = function (event) {\n",
       "      const script = document.createElement('script');\n",
       "      const src = URL.createObjectURL(event.target.response);\n",
       "      script.src = src;\n",
       "      document.body.appendChild(script);\n",
       "    };\n",
       "    xhr.send();\n",
       "  })();\n",
       "</script>"
      ]
     },
     "metadata": {
      "application/vnd.bokehjs_exec.v0+json": {
       "server_id": "63b15d4207fc449290807d887b79cf71"
      }
     },
     "output_type": "display_data"
    }
   ],
   "source": [
    "show(bk_app, notebook_url=\"http://localhost:8888\")"
   ]
  },
  {
   "cell_type": "markdown",
   "metadata": {
    "slideshow": {
     "slide_type": "slide"
    }
   },
   "source": [
    "#### Random Variables"
   ]
  },
  {
   "cell_type": "markdown",
   "metadata": {
    "cell_style": "center",
    "slideshow": {
     "slide_type": "slide"
    }
   },
   "source": [
    "#### Probability strictly speaking\n",
    "\n",
    "$$P(b) = \\lim_{N\\rightarrow\\infty} \\frac{n_b}{N} $$\n",
    "\n",
    "\n",
    "Idea is that relative frequency get close to probability:\n",
    "- when number of trials ($N$) gets large enough."
   ]
  },
  {
   "cell_type": "markdown",
   "metadata": {
    "cell_style": "split",
    "slideshow": {
     "slide_type": "slide"
    }
   },
   "source": [
    "Often makes sense to represent members of sample space $S$ as numbers:\n",
    "\n",
    "$$ f: S \\rightarrow \\mathbb{R} $$ \n",
    "- want arithmetic and algebraic operations over them"
   ]
  },
  {
   "cell_type": "markdown",
   "metadata": {
    "cell_style": "split",
    "slideshow": {
     "slide_type": "fragment"
    }
   },
   "source": [
    "A sample space $S =\\{L, R \\} $:\n",
    "- random left/right walker in 1D\n",
    "- molecular diffusion in a confined channel"
   ]
  },
  {
   "cell_type": "markdown",
   "metadata": {
    "cell_style": "center",
    "slideshow": {
     "slide_type": "fragment"
    }
   },
   "source": [
    "<center><img src = \"images/molecular_walk.png\" ></center>\n",
    "<center> "
   ]
  },
  {
   "cell_type": "markdown",
   "metadata": {
    "cell_style": "center",
    "slideshow": {
     "slide_type": "subslide"
    }
   },
   "source": [
    "<center><img src = \"images/molecular_walk.png\" ></center>\n",
    "<center> "
   ]
  },
  {
   "cell_type": "markdown",
   "metadata": {
    "cell_style": "split",
    "slideshow": {
     "slide_type": "fragment"
    }
   },
   "source": [
    "Suggests a transformation of sample space:\n",
    "\n",
    "$$ L \\rightarrow X = -1 $$\n",
    "$$ R \\rightarrow X = +1 $$\n",
    "\n",
    "where $X$ is a random variable representing the outcome of taking a step."
   ]
  },
  {
   "cell_type": "markdown",
   "metadata": {
    "cell_style": "split",
    "slideshow": {
     "slide_type": "fragment"
    }
   },
   "source": [
    "That is $X$ could take on either a value $\\pm 1$ on a given trial."
   ]
  },
  {
   "cell_type": "markdown",
   "metadata": {
    "cell_style": "split",
    "slideshow": {
     "slide_type": "fragment"
    }
   },
   "source": [
    "Probability $P$ defined over random variables:\n",
    "- unbiased walker\n",
    "$$ P(X = - 1) = \\frac{1}{2} $$\n",
    "$$ P(X = + 1) = \\frac{1}{2} $$"
   ]
  },
  {
   "cell_type": "markdown",
   "metadata": {
    "cell_style": "split",
    "slideshow": {
     "slide_type": "slide"
    }
   },
   "source": [
    "Naturally define mathematical operations to create new random variables:\n",
    "\n",
    "- Define overall displacement after N steps:\n",
    "$$ D = X_1 + X_2 + ... + X_N = \\\\ \\sum_{i=1}^N X_i $$ with $D$ as well as each $X_i$ random variables."
   ]
  },
  {
   "cell_type": "markdown",
   "metadata": {
    "cell_style": "split",
    "slideshow": {
     "slide_type": "fragment"
    }
   },
   "source": [
    "Deriving quantitative relationships over/between random variables:\n",
    "- will see this a lot in statistics \n",
    "- machine learning\n",
    "- etc."
   ]
  },
  {
   "cell_type": "markdown",
   "metadata": {
    "cell_style": "split",
    "slideshow": {
     "slide_type": "fragment"
    }
   },
   "source": [
    "- Set-theoretic probability not apt for these sorts of calculations.\n",
    "- In general both formulations will be useful throughout course."
   ]
  },
  {
   "cell_type": "markdown",
   "metadata": {
    "cell_style": "center",
    "slideshow": {
     "slide_type": "slide"
    }
   },
   "source": [
    "**Probability with multiple observables** \n",
    "\n",
    "- When two or more observables are measured during a single trial."
   ]
  },
  {
   "cell_type": "code",
   "execution_count": 80,
   "metadata": {
    "slideshow": {
     "slide_type": "skip"
    }
   },
   "outputs": [],
   "source": [
    "x_res = [1,2,3,4,5]\n",
    "y_res = [0,1,2]\n",
    "counts = np.array([[80, 75, 90], [40, 65, 34], [30, 82, 100], [76, 82, 75], [60, 75, 70]]).T\n",
    "\n",
    "gamerating_df = pd.DataFrame(counts, columns = x_res)\n",
    "gamerating_df.index.name = 'GFX rating'\n",
    "gamerating_df.columns.name = 'Gameplay rating'"
   ]
  },
  {
   "cell_type": "markdown",
   "metadata": {
    "cell_style": "split",
    "slideshow": {
     "slide_type": "slide"
    }
   },
   "source": [
    "X and Y correspond to observables.\n",
    "\n",
    "Correspond to two entries in questionaire on a game:\n",
    "\n",
    "- X = Gameplay rating (1-5)\n",
    "- Y = Satisfied with graphics (disagree/ambivalent/agree - 0,1,2)"
   ]
  },
  {
   "cell_type": "markdown",
   "metadata": {
    "cell_style": "split",
    "slideshow": {
     "slide_type": "fragment"
    }
   },
   "source": [
    "Measuring the response of a participant:\n",
    "- X,Y treated as jointly measured random variables."
   ]
  },
  {
   "cell_type": "markdown",
   "metadata": {
    "cell_style": "center",
    "slideshow": {
     "slide_type": "slide"
    }
   },
   "source": [
    "Get count distribution across X,Y for a group of respondents:"
   ]
  },
  {
   "cell_type": "code",
   "execution_count": 81,
   "metadata": {
    "cell_style": "split",
    "slideshow": {
     "slide_type": "slide"
    }
   },
   "outputs": [
    {
     "data": {
      "text/html": [
       "<div>\n",
       "<style scoped>\n",
       "    .dataframe tbody tr th:only-of-type {\n",
       "        vertical-align: middle;\n",
       "    }\n",
       "\n",
       "    .dataframe tbody tr th {\n",
       "        vertical-align: top;\n",
       "    }\n",
       "\n",
       "    .dataframe thead th {\n",
       "        text-align: right;\n",
       "    }\n",
       "</style>\n",
       "<table border=\"1\" class=\"dataframe\">\n",
       "  <thead>\n",
       "    <tr style=\"text-align: right;\">\n",
       "      <th>Gameplay rating</th>\n",
       "      <th>1</th>\n",
       "      <th>2</th>\n",
       "      <th>3</th>\n",
       "      <th>4</th>\n",
       "      <th>5</th>\n",
       "    </tr>\n",
       "    <tr>\n",
       "      <th>GFX rating</th>\n",
       "      <th></th>\n",
       "      <th></th>\n",
       "      <th></th>\n",
       "      <th></th>\n",
       "      <th></th>\n",
       "    </tr>\n",
       "  </thead>\n",
       "  <tbody>\n",
       "    <tr>\n",
       "      <th>0</th>\n",
       "      <td>80</td>\n",
       "      <td>40</td>\n",
       "      <td>30</td>\n",
       "      <td>76</td>\n",
       "      <td>60</td>\n",
       "    </tr>\n",
       "    <tr>\n",
       "      <th>1</th>\n",
       "      <td>75</td>\n",
       "      <td>65</td>\n",
       "      <td>82</td>\n",
       "      <td>82</td>\n",
       "      <td>75</td>\n",
       "    </tr>\n",
       "    <tr>\n",
       "      <th>2</th>\n",
       "      <td>90</td>\n",
       "      <td>34</td>\n",
       "      <td>100</td>\n",
       "      <td>75</td>\n",
       "      <td>70</td>\n",
       "    </tr>\n",
       "  </tbody>\n",
       "</table>\n",
       "</div>"
      ],
      "text/plain": [
       "Gameplay rating   1   2    3   4   5\n",
       "GFX rating                          \n",
       "0                80  40   30  76  60\n",
       "1                75  65   82  82  75\n",
       "2                90  34  100  75  70"
      ]
     },
     "execution_count": 81,
     "metadata": {},
     "output_type": "execute_result"
    }
   ],
   "source": [
    "gamerating_df"
   ]
  },
  {
   "cell_type": "markdown",
   "metadata": {
    "cell_style": "split",
    "slideshow": {
     "slide_type": "slide"
    }
   },
   "source": [
    "Get the relative frequency for a given joint gameplay / GFX rating:\n",
    "\n",
    "- Normalize by number of reviews."
   ]
  },
  {
   "cell_type": "code",
   "execution_count": 83,
   "metadata": {
    "cell_style": "split",
    "slideshow": {
     "slide_type": "fragment"
    }
   },
   "outputs": [
    {
     "name": "stdout",
     "output_type": "stream",
     "text": [
      "1034\n"
     ]
    }
   ],
   "source": [
    "# sums over all values in the table\n",
    "\n",
    "N_reviews = gamerating_df.sum().sum()\n",
    "print(N_reviews)"
   ]
  },
  {
   "cell_type": "markdown",
   "metadata": {
    "slideshow": {
     "slide_type": "slide"
    }
   },
   "source": [
    "Constructing the joint relative frequency table:\n",
    "- The relative frequency as "
   ]
  },
  {
   "cell_type": "code",
   "execution_count": 37,
   "metadata": {
    "cell_style": "split",
    "slideshow": {
     "slide_type": "fragment"
    }
   },
   "outputs": [
    {
     "data": {
      "text/html": [
       "<div>\n",
       "<style scoped>\n",
       "    .dataframe tbody tr th:only-of-type {\n",
       "        vertical-align: middle;\n",
       "    }\n",
       "\n",
       "    .dataframe tbody tr th {\n",
       "        vertical-align: top;\n",
       "    }\n",
       "\n",
       "    .dataframe thead th {\n",
       "        text-align: right;\n",
       "    }\n",
       "</style>\n",
       "<table border=\"1\" class=\"dataframe\">\n",
       "  <thead>\n",
       "    <tr style=\"text-align: right;\">\n",
       "      <th>Gameplay rating</th>\n",
       "      <th>1</th>\n",
       "      <th>2</th>\n",
       "      <th>3</th>\n",
       "      <th>4</th>\n",
       "      <th>5</th>\n",
       "    </tr>\n",
       "    <tr>\n",
       "      <th>GFX rating</th>\n",
       "      <th></th>\n",
       "      <th></th>\n",
       "      <th></th>\n",
       "      <th></th>\n",
       "      <th></th>\n",
       "    </tr>\n",
       "  </thead>\n",
       "  <tbody>\n",
       "    <tr>\n",
       "      <th>0</th>\n",
       "      <td>0.077369</td>\n",
       "      <td>0.038685</td>\n",
       "      <td>0.029014</td>\n",
       "      <td>0.073501</td>\n",
       "      <td>0.058027</td>\n",
       "    </tr>\n",
       "    <tr>\n",
       "      <th>1</th>\n",
       "      <td>0.072534</td>\n",
       "      <td>0.062863</td>\n",
       "      <td>0.079304</td>\n",
       "      <td>0.079304</td>\n",
       "      <td>0.072534</td>\n",
       "    </tr>\n",
       "    <tr>\n",
       "      <th>2</th>\n",
       "      <td>0.087041</td>\n",
       "      <td>0.032882</td>\n",
       "      <td>0.096712</td>\n",
       "      <td>0.072534</td>\n",
       "      <td>0.067698</td>\n",
       "    </tr>\n",
       "  </tbody>\n",
       "</table>\n",
       "</div>"
      ],
      "text/plain": [
       "Gameplay rating         1         2         3         4         5\n",
       "GFX rating                                                       \n",
       "0                0.077369  0.038685  0.029014  0.073501  0.058027\n",
       "1                0.072534  0.062863  0.079304  0.079304  0.072534\n",
       "2                0.087041  0.032882  0.096712  0.072534  0.067698"
      ]
     },
     "execution_count": 37,
     "metadata": {},
     "output_type": "execute_result"
    }
   ],
   "source": [
    "joint_rel_freq = gamerating_df/N_reviews\n",
    "joint_rel_freq"
   ]
  },
  {
   "cell_type": "markdown",
   "metadata": {
    "cell_style": "split",
    "slideshow": {
     "slide_type": "slide"
    }
   },
   "source": [
    "Summing over all rows/columns"
   ]
  },
  {
   "cell_type": "code",
   "execution_count": 38,
   "metadata": {
    "cell_style": "split",
    "slideshow": {
     "slide_type": "fragment"
    }
   },
   "outputs": [
    {
     "data": {
      "text/plain": [
       "0.9999999999999999"
      ]
     },
     "execution_count": 38,
     "metadata": {},
     "output_type": "execute_result"
    }
   ],
   "source": [
    "joint_rel_freq.values.sum()"
   ]
  },
  {
   "cell_type": "code",
   "execution_count": 39,
   "metadata": {
    "cell_style": "split",
    "slideshow": {
     "slide_type": "slide"
    }
   },
   "outputs": [
    {
     "data": {
      "text/html": [
       "<div>\n",
       "<style scoped>\n",
       "    .dataframe tbody tr th:only-of-type {\n",
       "        vertical-align: middle;\n",
       "    }\n",
       "\n",
       "    .dataframe tbody tr th {\n",
       "        vertical-align: top;\n",
       "    }\n",
       "\n",
       "    .dataframe thead th {\n",
       "        text-align: right;\n",
       "    }\n",
       "</style>\n",
       "<table border=\"1\" class=\"dataframe\">\n",
       "  <thead>\n",
       "    <tr style=\"text-align: right;\">\n",
       "      <th>Gameplay rating</th>\n",
       "      <th>1</th>\n",
       "      <th>2</th>\n",
       "      <th>3</th>\n",
       "      <th>4</th>\n",
       "      <th>5</th>\n",
       "    </tr>\n",
       "    <tr>\n",
       "      <th>GFX rating</th>\n",
       "      <th></th>\n",
       "      <th></th>\n",
       "      <th></th>\n",
       "      <th></th>\n",
       "      <th></th>\n",
       "    </tr>\n",
       "  </thead>\n",
       "  <tbody>\n",
       "    <tr>\n",
       "      <th>0</th>\n",
       "      <td>0.077369</td>\n",
       "      <td>0.038685</td>\n",
       "      <td>0.029014</td>\n",
       "      <td>0.073501</td>\n",
       "      <td>0.058027</td>\n",
       "    </tr>\n",
       "    <tr>\n",
       "      <th>1</th>\n",
       "      <td>0.072534</td>\n",
       "      <td>0.062863</td>\n",
       "      <td>0.079304</td>\n",
       "      <td>0.079304</td>\n",
       "      <td>0.072534</td>\n",
       "    </tr>\n",
       "    <tr>\n",
       "      <th>2</th>\n",
       "      <td>0.087041</td>\n",
       "      <td>0.032882</td>\n",
       "      <td>0.096712</td>\n",
       "      <td>0.072534</td>\n",
       "      <td>0.067698</td>\n",
       "    </tr>\n",
       "  </tbody>\n",
       "</table>\n",
       "</div>"
      ],
      "text/plain": [
       "Gameplay rating         1         2         3         4         5\n",
       "GFX rating                                                       \n",
       "0                0.077369  0.038685  0.029014  0.073501  0.058027\n",
       "1                0.072534  0.062863  0.079304  0.079304  0.072534\n",
       "2                0.087041  0.032882  0.096712  0.072534  0.067698"
      ]
     },
     "execution_count": 39,
     "metadata": {},
     "output_type": "execute_result"
    }
   ],
   "source": [
    "joint_rel_freq = gamerating_df/N_reviews\n",
    "joint_rel_freq"
   ]
  },
  {
   "cell_type": "markdown",
   "metadata": {
    "cell_style": "split",
    "slideshow": {
     "slide_type": "fragment"
    }
   },
   "source": [
    "The joint relative frequency of polling a respondent rating the game with:\n",
    "- Gameplay rating 3\n",
    "- Graphics rating 2"
   ]
  },
  {
   "cell_type": "code",
   "execution_count": 40,
   "metadata": {
    "cell_style": "center",
    "slideshow": {
     "slide_type": "fragment"
    }
   },
   "outputs": [
    {
     "data": {
      "text/plain": [
       "0.09671179883945841"
      ]
     },
     "execution_count": 40,
     "metadata": {},
     "output_type": "execute_result"
    }
   ],
   "source": [
    "joint_rel_freq.loc[2, 3]"
   ]
  },
  {
   "cell_type": "markdown",
   "metadata": {
    "cell_style": "center",
    "slideshow": {
     "slide_type": "subslide"
    }
   },
   "source": [
    "#### Joint Probability\n",
    "\n",
    "The probability that a given respondent, drawn at random had $X = x_i$ and $Y = y_j$.\n",
    "\n",
    "In large N limit, we define it as a probability:\n",
    "    \n",
    "\n",
    "$$ P(X = x_i, Y = y_j) = \\lim_{N\\rightarrow\\infty} \\frac{n_{ij}}{N} $$\n"
   ]
  },
  {
   "cell_type": "markdown",
   "metadata": {
    "cell_style": "split",
    "slideshow": {
     "slide_type": "subslide"
    }
   },
   "source": [
    "Can also define joint probability in terms of set elements of the event space:\n",
    "\n",
    "$$ P(A,B) = P(A \\cap B) $$\n",
    "\n",
    "<center><img src=\"Images/aunionB.png\" width=\"400\"/></center>"
   ]
  },
  {
   "cell_type": "markdown",
   "metadata": {
    "cell_style": "split",
    "slideshow": {
     "slide_type": "fragment"
    }
   },
   "source": [
    "- If $A$ represents $X = x_i$\n",
    "- and $B$ represents $Y = y_j$\n",
    "- then $$ P(A \\cap B) $$\n",
    "\n",
    "represents $P(X=x_i, Y = y_j)$"
   ]
  },
  {
   "cell_type": "markdown",
   "metadata": {
    "slideshow": {
     "slide_type": "slide"
    }
   },
   "source": [
    "#### The marginal probability\n",
    "- just the probabilities for each variable individually\n",
    "- irrespective of other vriable"
   ]
  },
  {
   "cell_type": "code",
   "execution_count": 41,
   "metadata": {
    "cell_style": "split",
    "slideshow": {
     "slide_type": "-"
    }
   },
   "outputs": [
    {
     "data": {
      "text/html": [
       "<div>\n",
       "<style scoped>\n",
       "    .dataframe tbody tr th:only-of-type {\n",
       "        vertical-align: middle;\n",
       "    }\n",
       "\n",
       "    .dataframe tbody tr th {\n",
       "        vertical-align: top;\n",
       "    }\n",
       "\n",
       "    .dataframe thead th {\n",
       "        text-align: right;\n",
       "    }\n",
       "</style>\n",
       "<table border=\"1\" class=\"dataframe\">\n",
       "  <thead>\n",
       "    <tr style=\"text-align: right;\">\n",
       "      <th>Gameplay rating</th>\n",
       "      <th>1</th>\n",
       "      <th>2</th>\n",
       "      <th>3</th>\n",
       "      <th>4</th>\n",
       "      <th>5</th>\n",
       "    </tr>\n",
       "    <tr>\n",
       "      <th>GFX rating</th>\n",
       "      <th></th>\n",
       "      <th></th>\n",
       "      <th></th>\n",
       "      <th></th>\n",
       "      <th></th>\n",
       "    </tr>\n",
       "  </thead>\n",
       "  <tbody>\n",
       "    <tr>\n",
       "      <th>0</th>\n",
       "      <td>80</td>\n",
       "      <td>40</td>\n",
       "      <td>30</td>\n",
       "      <td>76</td>\n",
       "      <td>60</td>\n",
       "    </tr>\n",
       "    <tr>\n",
       "      <th>1</th>\n",
       "      <td>75</td>\n",
       "      <td>65</td>\n",
       "      <td>82</td>\n",
       "      <td>82</td>\n",
       "      <td>75</td>\n",
       "    </tr>\n",
       "    <tr>\n",
       "      <th>2</th>\n",
       "      <td>90</td>\n",
       "      <td>34</td>\n",
       "      <td>100</td>\n",
       "      <td>75</td>\n",
       "      <td>70</td>\n",
       "    </tr>\n",
       "  </tbody>\n",
       "</table>\n",
       "</div>"
      ],
      "text/plain": [
       "Gameplay rating   1   2    3   4   5\n",
       "GFX rating                          \n",
       "0                80  40   30  76  60\n",
       "1                75  65   82  82  75\n",
       "2                90  34  100  75  70"
      ]
     },
     "execution_count": 41,
     "metadata": {},
     "output_type": "execute_result"
    }
   ],
   "source": [
    "gamerating_df "
   ]
  },
  {
   "cell_type": "markdown",
   "metadata": {
    "cell_style": "split",
    "slideshow": {
     "slide_type": "-"
    }
   },
   "source": [
    "Calculating marginal relative frequency for GFX rating:\n",
    "- Sum over all gameplay rating values"
   ]
  },
  {
   "cell_type": "code",
   "execution_count": 42,
   "metadata": {
    "cell_style": "split",
    "scrolled": true,
    "slideshow": {
     "slide_type": "-"
    }
   },
   "outputs": [
    {
     "data": {
      "text/plain": [
       "GFX rating\n",
       "0    286\n",
       "1    379\n",
       "2    369\n",
       "dtype: int64"
      ]
     },
     "execution_count": 42,
     "metadata": {},
     "output_type": "execute_result"
    }
   ],
   "source": [
    "gamerating_df.sum(axis = 1)"
   ]
  },
  {
   "cell_type": "markdown",
   "metadata": {
    "cell_style": "split",
    "slideshow": {
     "slide_type": "slide"
    }
   },
   "source": [
    "These are counts of respondents:\n",
    "- for each graphics rating (regardless of their gameplay rating)\n",
    "\n",
    "Normalize by total respondent number for marginal relative frequency "
   ]
  },
  {
   "cell_type": "code",
   "execution_count": 43,
   "metadata": {
    "cell_style": "split",
    "slideshow": {
     "slide_type": "fragment"
    }
   },
   "outputs": [
    {
     "name": "stdout",
     "output_type": "stream",
     "text": [
      "GFX rating\n",
      "0    0.276596\n",
      "1    0.366538\n",
      "2    0.356867\n",
      "dtype: float64\n",
      "1.0\n"
     ]
    }
   ],
   "source": [
    "marg_on_Y = \\\n",
    "gamerating_df.sum(axis = 1)/N_reviews\n",
    "\n",
    "print(marg_on_Y)\n",
    "# does it satisfy the axioms?\n",
    "print(marg_on_Y.sum())"
   ]
  },
  {
   "cell_type": "markdown",
   "metadata": {
    "slideshow": {
     "slide_type": "slide"
    }
   },
   "source": [
    "Which can be computed directly from the table of joint relative frequencies:"
   ]
  },
  {
   "cell_type": "code",
   "execution_count": 44,
   "metadata": {
    "cell_style": "split",
    "slideshow": {
     "slide_type": "fragment"
    }
   },
   "outputs": [
    {
     "data": {
      "text/html": [
       "<div>\n",
       "<style scoped>\n",
       "    .dataframe tbody tr th:only-of-type {\n",
       "        vertical-align: middle;\n",
       "    }\n",
       "\n",
       "    .dataframe tbody tr th {\n",
       "        vertical-align: top;\n",
       "    }\n",
       "\n",
       "    .dataframe thead th {\n",
       "        text-align: right;\n",
       "    }\n",
       "</style>\n",
       "<table border=\"1\" class=\"dataframe\">\n",
       "  <thead>\n",
       "    <tr style=\"text-align: right;\">\n",
       "      <th>Gameplay rating</th>\n",
       "      <th>1</th>\n",
       "      <th>2</th>\n",
       "      <th>3</th>\n",
       "      <th>4</th>\n",
       "      <th>5</th>\n",
       "    </tr>\n",
       "    <tr>\n",
       "      <th>GFX rating</th>\n",
       "      <th></th>\n",
       "      <th></th>\n",
       "      <th></th>\n",
       "      <th></th>\n",
       "      <th></th>\n",
       "    </tr>\n",
       "  </thead>\n",
       "  <tbody>\n",
       "    <tr>\n",
       "      <th>0</th>\n",
       "      <td>0.077369</td>\n",
       "      <td>0.038685</td>\n",
       "      <td>0.029014</td>\n",
       "      <td>0.073501</td>\n",
       "      <td>0.058027</td>\n",
       "    </tr>\n",
       "    <tr>\n",
       "      <th>1</th>\n",
       "      <td>0.072534</td>\n",
       "      <td>0.062863</td>\n",
       "      <td>0.079304</td>\n",
       "      <td>0.079304</td>\n",
       "      <td>0.072534</td>\n",
       "    </tr>\n",
       "    <tr>\n",
       "      <th>2</th>\n",
       "      <td>0.087041</td>\n",
       "      <td>0.032882</td>\n",
       "      <td>0.096712</td>\n",
       "      <td>0.072534</td>\n",
       "      <td>0.067698</td>\n",
       "    </tr>\n",
       "  </tbody>\n",
       "</table>\n",
       "</div>"
      ],
      "text/plain": [
       "Gameplay rating         1         2         3         4         5\n",
       "GFX rating                                                       \n",
       "0                0.077369  0.038685  0.029014  0.073501  0.058027\n",
       "1                0.072534  0.062863  0.079304  0.079304  0.072534\n",
       "2                0.087041  0.032882  0.096712  0.072534  0.067698"
      ]
     },
     "execution_count": 44,
     "metadata": {},
     "output_type": "execute_result"
    }
   ],
   "source": [
    "joint_rel_freq"
   ]
  },
  {
   "cell_type": "code",
   "execution_count": 45,
   "metadata": {
    "cell_style": "split",
    "scrolled": true,
    "slideshow": {
     "slide_type": "fragment"
    }
   },
   "outputs": [
    {
     "data": {
      "text/plain": [
       "GFX rating\n",
       "0    0.276596\n",
       "1    0.366538\n",
       "2    0.356867\n",
       "dtype: float64"
      ]
     },
     "execution_count": 45,
     "metadata": {},
     "output_type": "execute_result"
    }
   ],
   "source": [
    "joint_rel_freq.sum(axis = 1)"
   ]
  },
  {
   "cell_type": "code",
   "execution_count": 46,
   "metadata": {
    "cell_style": "split",
    "slideshow": {
     "slide_type": "-"
    }
   },
   "outputs": [
    {
     "data": {
      "text/plain": [
       "GFX rating\n",
       "0    0.276596\n",
       "1    0.366538\n",
       "2    0.356867\n",
       "dtype: float64"
      ]
     },
     "execution_count": 46,
     "metadata": {},
     "output_type": "execute_result"
    }
   ],
   "source": [
    "marg_on_Y"
   ]
  },
  {
   "cell_type": "markdown",
   "metadata": {
    "slideshow": {
     "slide_type": "subslide"
    }
   },
   "source": [
    "#### Marginal Probability\n",
    "\n",
    "Taking this to large $N$ limit to define a probability:\n",
    "\n",
    "$$ P(Y = Y_j) = \\lim_{N\\rightarrow \\infty}\\sum_{i=1}^5\\frac{n_{ij}}{N} $$ \n",
    "<br>\n",
    "<center>OR</center>\n",
    "<br>\n",
    "$$ P(Y = Y_j) = \\sum_{i=1}^5 P(X = x_i, Y=y_j) $$ \n",
    "\n",
    "*Marginal on Y*: $P(Y)$\n"
   ]
  },
  {
   "cell_type": "markdown",
   "metadata": {
    "slideshow": {
     "slide_type": "slide"
    }
   },
   "source": [
    "Can obviously do a similar thing to get marginal on $X$:\n",
    "- $P(X)$"
   ]
  },
  {
   "cell_type": "code",
   "execution_count": 47,
   "metadata": {
    "slideshow": {
     "slide_type": "-"
    }
   },
   "outputs": [
    {
     "data": {
      "text/plain": [
       "Gameplay rating\n",
       "1    0.236944\n",
       "2    0.134429\n",
       "3    0.205029\n",
       "4    0.225338\n",
       "5    0.198259\n",
       "dtype: float64"
      ]
     },
     "execution_count": 47,
     "metadata": {},
     "output_type": "execute_result"
    }
   ],
   "source": [
    "joint_rel_freq.sum(axis = 0)"
   ]
  },
  {
   "cell_type": "markdown",
   "metadata": {
    "slideshow": {
     "slide_type": "slide"
    }
   },
   "source": [
    "#### Conditional Probability"
   ]
  },
  {
   "cell_type": "markdown",
   "metadata": {
    "cell_style": "center",
    "slideshow": {
     "slide_type": "fragment"
    }
   },
   "source": [
    "Often want to know:\n",
    "- probability of one variable **given** that:\n",
    "    - we know that the others already take on a specific value"
   ]
  },
  {
   "cell_type": "code",
   "execution_count": 48,
   "metadata": {
    "cell_style": "split",
    "scrolled": true,
    "slideshow": {
     "slide_type": "slide"
    }
   },
   "outputs": [
    {
     "data": {
      "text/html": [
       "<div>\n",
       "<style scoped>\n",
       "    .dataframe tbody tr th:only-of-type {\n",
       "        vertical-align: middle;\n",
       "    }\n",
       "\n",
       "    .dataframe tbody tr th {\n",
       "        vertical-align: top;\n",
       "    }\n",
       "\n",
       "    .dataframe thead th {\n",
       "        text-align: right;\n",
       "    }\n",
       "</style>\n",
       "<table border=\"1\" class=\"dataframe\">\n",
       "  <thead>\n",
       "    <tr style=\"text-align: right;\">\n",
       "      <th>Gameplay rating</th>\n",
       "      <th>1</th>\n",
       "      <th>2</th>\n",
       "      <th>3</th>\n",
       "      <th>4</th>\n",
       "      <th>5</th>\n",
       "    </tr>\n",
       "    <tr>\n",
       "      <th>GFX rating</th>\n",
       "      <th></th>\n",
       "      <th></th>\n",
       "      <th></th>\n",
       "      <th></th>\n",
       "      <th></th>\n",
       "    </tr>\n",
       "  </thead>\n",
       "  <tbody>\n",
       "    <tr>\n",
       "      <th>0</th>\n",
       "      <td>80</td>\n",
       "      <td>40</td>\n",
       "      <td>30</td>\n",
       "      <td>76</td>\n",
       "      <td>60</td>\n",
       "    </tr>\n",
       "    <tr>\n",
       "      <th>1</th>\n",
       "      <td>75</td>\n",
       "      <td>65</td>\n",
       "      <td>82</td>\n",
       "      <td>82</td>\n",
       "      <td>75</td>\n",
       "    </tr>\n",
       "    <tr>\n",
       "      <th>2</th>\n",
       "      <td>90</td>\n",
       "      <td>34</td>\n",
       "      <td>100</td>\n",
       "      <td>75</td>\n",
       "      <td>70</td>\n",
       "    </tr>\n",
       "  </tbody>\n",
       "</table>\n",
       "</div>"
      ],
      "text/plain": [
       "Gameplay rating   1   2    3   4   5\n",
       "GFX rating                          \n",
       "0                80  40   30  76  60\n",
       "1                75  65   82  82  75\n",
       "2                90  34  100  75  70"
      ]
     },
     "execution_count": 48,
     "metadata": {},
     "output_type": "execute_result"
    }
   ],
   "source": [
    "gamerating_df"
   ]
  },
  {
   "cell_type": "markdown",
   "metadata": {
    "cell_style": "split",
    "slideshow": {
     "slide_type": "-"
    }
   },
   "source": [
    "Given that the respondents rated the GFX rating with a 0"
   ]
  },
  {
   "cell_type": "code",
   "execution_count": 49,
   "metadata": {
    "cell_style": "split",
    "slideshow": {
     "slide_type": "-"
    }
   },
   "outputs": [
    {
     "data": {
      "text/plain": [
       "Gameplay rating\n",
       "1    80\n",
       "2    40\n",
       "3    30\n",
       "4    76\n",
       "5    60\n",
       "Name: 0, dtype: int32"
      ]
     },
     "execution_count": 49,
     "metadata": {},
     "output_type": "execute_result"
    }
   ],
   "source": [
    "gamerating_df.loc[0,:]"
   ]
  },
  {
   "cell_type": "markdown",
   "metadata": {
    "slideshow": {
     "slide_type": "slide"
    }
   },
   "source": [
    "Evaluate relative frequency of a gameplay rating **given** that GFX rating was 0"
   ]
  },
  {
   "cell_type": "code",
   "execution_count": 50,
   "metadata": {
    "cell_style": "split",
    "slideshow": {
     "slide_type": "fragment"
    }
   },
   "outputs": [
    {
     "data": {
      "text/plain": [
       "Gameplay rating\n",
       "1    80\n",
       "2    40\n",
       "3    30\n",
       "4    76\n",
       "5    60\n",
       "Name: 0, dtype: int32"
      ]
     },
     "execution_count": 50,
     "metadata": {},
     "output_type": "execute_result"
    }
   ],
   "source": [
    "givenGFXzero = gamerating_df.loc[0,:]\n",
    "givenGFXzero"
   ]
  },
  {
   "cell_type": "markdown",
   "metadata": {
    "cell_style": "split",
    "slideshow": {
     "slide_type": "slide"
    }
   },
   "source": [
    "Need to normalize by counts:\n",
    "- just where GFX rating was 0."
   ]
  },
  {
   "cell_type": "code",
   "execution_count": 51,
   "metadata": {
    "cell_style": "split",
    "slideshow": {
     "slide_type": "-"
    }
   },
   "outputs": [
    {
     "data": {
      "text/plain": [
       "Gameplay rating\n",
       "1    0.279720\n",
       "2    0.139860\n",
       "3    0.104895\n",
       "4    0.265734\n",
       "5    0.209790\n",
       "Name: 0, dtype: float64"
      ]
     },
     "execution_count": 51,
     "metadata": {},
     "output_type": "execute_result"
    }
   ],
   "source": [
    "relconditional = \\\n",
    "givenGFXzero/givenGFXzero.sum()\n",
    "\n",
    "relconditional"
   ]
  },
  {
   "cell_type": "markdown",
   "metadata": {
    "slideshow": {
     "slide_type": "slide"
    }
   },
   "source": [
    "What we did, more theoretically"
   ]
  },
  {
   "cell_type": "markdown",
   "metadata": {
    "cell_style": "split",
    "slideshow": {
     "slide_type": "fragment"
    }
   },
   "source": [
    "Among the possibilities satisfying condition $Y = y_j $:\n",
    "- the conditional probability that $X = x_i$  is\n",
    "$$ P(X = x_i | Y = y_j ) = \\lim_{N\\rightarrow \\infty}{\\frac{n_{ij}}{r_j}} $$"
   ]
  },
  {
   "cell_type": "markdown",
   "metadata": {
    "cell_style": "split",
    "slideshow": {
     "slide_type": "-"
    }
   },
   "source": [
    "<center><img src=\"Images/joint_table.png\" width=\"400\"/></center>"
   ]
  },
  {
   "cell_type": "markdown",
   "metadata": {
    "slideshow": {
     "slide_type": "slide"
    }
   },
   "source": [
    "The distribution of $X$ (gameplay rating) given that $Y$ (graphics) was 1 will be different:\n",
    "- taking a subset of users satisfying condition on $Y$\n",
    "- calculating proabilities over only those users satisfying condition."
   ]
  },
  {
   "cell_type": "code",
   "execution_count": 52,
   "metadata": {
    "cell_style": "split",
    "slideshow": {
     "slide_type": "subslide"
    }
   },
   "outputs": [
    {
     "data": {
      "text/plain": [
       "Gameplay rating\n",
       "1    0.197889\n",
       "2    0.171504\n",
       "3    0.216359\n",
       "4    0.216359\n",
       "5    0.197889\n",
       "Name: 1, dtype: float64"
      ]
     },
     "execution_count": 52,
     "metadata": {},
     "output_type": "execute_result"
    }
   ],
   "source": [
    "givenGFXone = gamerating_df.loc[1,:]\n",
    "givenGFXone/givenGFXone.sum()"
   ]
  },
  {
   "cell_type": "code",
   "execution_count": 53,
   "metadata": {
    "cell_style": "split",
    "slideshow": {
     "slide_type": "fragment"
    }
   },
   "outputs": [
    {
     "data": {
      "text/plain": [
       "Gameplay rating\n",
       "1    0.279720\n",
       "2    0.139860\n",
       "3    0.104895\n",
       "4    0.265734\n",
       "5    0.209790\n",
       "Name: 0, dtype: float64"
      ]
     },
     "execution_count": 53,
     "metadata": {},
     "output_type": "execute_result"
    }
   ],
   "source": [
    "# compared to conditional when Y = 0\n",
    "\n",
    "relconditional"
   ]
  },
  {
   "cell_type": "markdown",
   "metadata": {
    "cell_style": "split",
    "slideshow": {
     "slide_type": "fragment"
    }
   },
   "source": [
    "$$ P(X | Y = 1) $$"
   ]
  },
  {
   "cell_type": "markdown",
   "metadata": {
    "cell_style": "split",
    "slideshow": {
     "slide_type": "-"
    }
   },
   "source": [
    "$$ P(X | Y = 0) $$"
   ]
  },
  {
   "cell_type": "markdown",
   "metadata": {
    "slideshow": {
     "slide_type": "slide"
    }
   },
   "source": [
    "Obviously we could also relative frequencies / probabilities for $Y$ conditioned on $X$:\n",
    " $$ P(Y | X = x_i) $$"
   ]
  },
  {
   "cell_type": "code",
   "execution_count": 54,
   "metadata": {
    "cell_style": "split",
    "slideshow": {
     "slide_type": "fragment"
    }
   },
   "outputs": [
    {
     "data": {
      "text/html": [
       "<div>\n",
       "<style scoped>\n",
       "    .dataframe tbody tr th:only-of-type {\n",
       "        vertical-align: middle;\n",
       "    }\n",
       "\n",
       "    .dataframe tbody tr th {\n",
       "        vertical-align: top;\n",
       "    }\n",
       "\n",
       "    .dataframe thead th {\n",
       "        text-align: right;\n",
       "    }\n",
       "</style>\n",
       "<table border=\"1\" class=\"dataframe\">\n",
       "  <thead>\n",
       "    <tr style=\"text-align: right;\">\n",
       "      <th>Gameplay rating</th>\n",
       "      <th>1</th>\n",
       "      <th>2</th>\n",
       "      <th>3</th>\n",
       "      <th>4</th>\n",
       "      <th>5</th>\n",
       "    </tr>\n",
       "    <tr>\n",
       "      <th>GFX rating</th>\n",
       "      <th></th>\n",
       "      <th></th>\n",
       "      <th></th>\n",
       "      <th></th>\n",
       "      <th></th>\n",
       "    </tr>\n",
       "  </thead>\n",
       "  <tbody>\n",
       "    <tr>\n",
       "      <th>0</th>\n",
       "      <td>80</td>\n",
       "      <td>40</td>\n",
       "      <td>30</td>\n",
       "      <td>76</td>\n",
       "      <td>60</td>\n",
       "    </tr>\n",
       "    <tr>\n",
       "      <th>1</th>\n",
       "      <td>75</td>\n",
       "      <td>65</td>\n",
       "      <td>82</td>\n",
       "      <td>82</td>\n",
       "      <td>75</td>\n",
       "    </tr>\n",
       "    <tr>\n",
       "      <th>2</th>\n",
       "      <td>90</td>\n",
       "      <td>34</td>\n",
       "      <td>100</td>\n",
       "      <td>75</td>\n",
       "      <td>70</td>\n",
       "    </tr>\n",
       "  </tbody>\n",
       "</table>\n",
       "</div>"
      ],
      "text/plain": [
       "Gameplay rating   1   2    3   4   5\n",
       "GFX rating                          \n",
       "0                80  40   30  76  60\n",
       "1                75  65   82  82  75\n",
       "2                90  34  100  75  70"
      ]
     },
     "execution_count": 54,
     "metadata": {},
     "output_type": "execute_result"
    }
   ],
   "source": [
    "gamerating_df"
   ]
  },
  {
   "cell_type": "markdown",
   "metadata": {
    "cell_style": "split",
    "slideshow": {
     "slide_type": "fragment"
    }
   },
   "source": [
    "Get relative frequencies for $y$:\n",
    "- Given $X = 2$"
   ]
  },
  {
   "cell_type": "code",
   "execution_count": 55,
   "metadata": {
    "cell_style": "split"
   },
   "outputs": [
    {
     "data": {
      "text/plain": [
       "GFX rating\n",
       "0    40\n",
       "1    65\n",
       "2    34\n",
       "Name: 2, dtype: int32"
      ]
     },
     "execution_count": 55,
     "metadata": {},
     "output_type": "execute_result"
    }
   ],
   "source": [
    "gamerating_df.loc[:, 2]"
   ]
  },
  {
   "cell_type": "markdown",
   "metadata": {
    "cell_style": "split",
    "slideshow": {
     "slide_type": "slide"
    }
   },
   "source": [
    "The normalized by dividing out sum over Y values:"
   ]
  },
  {
   "cell_type": "code",
   "execution_count": 56,
   "metadata": {
    "cell_style": "split"
   },
   "outputs": [
    {
     "data": {
      "text/plain": [
       "GFX rating\n",
       "0    0.287770\n",
       "1    0.467626\n",
       "2    0.244604\n",
       "Name: 2, dtype: float64"
      ]
     },
     "execution_count": 56,
     "metadata": {},
     "output_type": "execute_result"
    }
   ],
   "source": [
    "norm = gamerating_df.loc[:,2].sum()\n",
    "rel_freqYonX2 = gamerating_df.loc[:,2]/ norm\n",
    "rel_freqYonX2 "
   ]
  },
  {
   "cell_type": "markdown",
   "metadata": {
    "cell_style": "split",
    "slideshow": {
     "slide_type": "slide"
    }
   },
   "source": [
    "Normalization for conditional: \n",
    "- total counts for which $X = x_i$ \n",
    "\n",
    "with $x_i = 2$"
   ]
  },
  {
   "cell_type": "markdown",
   "metadata": {
    "cell_style": "split",
    "slideshow": {
     "slide_type": "fragment"
    }
   },
   "source": [
    "But this is basically just the marginal:\n",
    "$$ P(X = x_i) = \\frac{n_{X=x_i}}{N} $$\n",
    "\n",
    "where $N$ is total number of responses/trials"
   ]
  },
  {
   "cell_type": "markdown",
   "metadata": {
    "cell_style": "split",
    "slideshow": {
     "slide_type": "slide"
    }
   },
   "source": [
    "The conditional:\n",
    "$$ P(Y| X = x_i) = \\frac{n_{Y = y_j, X = x_i}}{n_{X=x_i}} $$\n",
    "becomes:\n",
    "$$ P(Y| X = x_i) =\\frac{n_{Y = y_j, X = x_i} / N}{P(X=x_i)} $$"
   ]
  },
  {
   "cell_type": "markdown",
   "metadata": {
    "cell_style": "split",
    "slideshow": {
     "slide_type": "-"
    }
   },
   "source": [
    "subbing in the marginal:\n",
    " $$ n_{X=x_i} = NP(X =x_i) $$"
   ]
  },
  {
   "cell_type": "markdown",
   "metadata": {
    "cell_style": "split",
    "slideshow": {
     "slide_type": "subslide"
    }
   },
   "source": [
    "With recognition that:\n",
    "\n",
    "$$ \\frac{n_{Y = y_j, X = x_i}}{N} = P( X = x_i, Y = y_j) $$\n",
    "\n",
    "is the joint probability"
   ]
  },
  {
   "cell_type": "markdown",
   "metadata": {
    "cell_style": "split",
    "slideshow": {
     "slide_type": "fragment"
    }
   },
   "source": [
    "we arrive at a very nice result:\n",
    "$$ P(Y| X = x_i) =\\frac{n_{Y = y_j, X = x_i} / N}{P(X=x_i)} $$\n",
    "\n",
    "becomes\n",
    "\n",
    "$$ P(Y| X = x_i) =\\frac{P(Y = y_j, X = x_i)}{P(X=x_i)} $$"
   ]
  },
  {
   "cell_type": "markdown",
   "metadata": {
    "cell_style": "split",
    "slideshow": {
     "slide_type": "slide"
    }
   },
   "source": [
    "The formula:\n",
    "$$ P(Y| X) =\\frac{P(X, Y)}{P(X)} $$"
   ]
  },
  {
   "cell_type": "markdown",
   "metadata": {
    "cell_style": "split",
    "slideshow": {
     "slide_type": "-"
    }
   },
   "source": [
    "Written in event space notation as:\n",
    "    \n",
    "   $$  P(A | B) = \\frac{ P(A \\cap B)}{P(B)} $$"
   ]
  },
  {
   "cell_type": "markdown",
   "metadata": {
    "slideshow": {
     "slide_type": "-"
    }
   },
   "source": [
    "joins the conditional, the joint, and the marginal probabilities in a single relationship"
   ]
  },
  {
   "cell_type": "markdown",
   "metadata": {
    "slideshow": {
     "slide_type": "slide"
    }
   },
   "source": [
    "Don't believe me?\n",
    "\n",
    "- Get probability that a respondent rated 3 for gameplay given they rated graphics at 0.\n",
    "\n",
    "$$ P(gplay = 3 | gfx = 0) = \\frac{P(gplay = 3 , gfx = 0)}{P(gfx = 0)} $$"
   ]
  },
  {
   "cell_type": "markdown",
   "metadata": {
    "cell_style": "split",
    "slideshow": {
     "slide_type": "subslide"
    }
   },
   "source": [
    "The joint:\n",
    "\n",
    "$$ P(gplay = 3 , gfx = 0) $$\n",
    "\n",
    "probability that a respondent rated 3 for gameplay and rated graphics at 0 **out of all respondents**"
   ]
  },
  {
   "cell_type": "code",
   "execution_count": 57,
   "metadata": {
    "cell_style": "split",
    "slideshow": {
     "slide_type": "slide"
    }
   },
   "outputs": [
    {
     "name": "stdout",
     "output_type": "stream",
     "text": [
      "0.029013539651837523\n"
     ]
    },
    {
     "data": {
      "text/html": [
       "<div>\n",
       "<style scoped>\n",
       "    .dataframe tbody tr th:only-of-type {\n",
       "        vertical-align: middle;\n",
       "    }\n",
       "\n",
       "    .dataframe tbody tr th {\n",
       "        vertical-align: top;\n",
       "    }\n",
       "\n",
       "    .dataframe thead th {\n",
       "        text-align: right;\n",
       "    }\n",
       "</style>\n",
       "<table border=\"1\" class=\"dataframe\">\n",
       "  <thead>\n",
       "    <tr style=\"text-align: right;\">\n",
       "      <th>Gameplay rating</th>\n",
       "      <th>1</th>\n",
       "      <th>2</th>\n",
       "      <th>3</th>\n",
       "      <th>4</th>\n",
       "      <th>5</th>\n",
       "    </tr>\n",
       "    <tr>\n",
       "      <th>GFX rating</th>\n",
       "      <th></th>\n",
       "      <th></th>\n",
       "      <th></th>\n",
       "      <th></th>\n",
       "      <th></th>\n",
       "    </tr>\n",
       "  </thead>\n",
       "  <tbody>\n",
       "    <tr>\n",
       "      <th>0</th>\n",
       "      <td>0.077369</td>\n",
       "      <td>0.038685</td>\n",
       "      <td>0.029014</td>\n",
       "      <td>0.073501</td>\n",
       "      <td>0.058027</td>\n",
       "    </tr>\n",
       "    <tr>\n",
       "      <th>1</th>\n",
       "      <td>0.072534</td>\n",
       "      <td>0.062863</td>\n",
       "      <td>0.079304</td>\n",
       "      <td>0.079304</td>\n",
       "      <td>0.072534</td>\n",
       "    </tr>\n",
       "    <tr>\n",
       "      <th>2</th>\n",
       "      <td>0.087041</td>\n",
       "      <td>0.032882</td>\n",
       "      <td>0.096712</td>\n",
       "      <td>0.072534</td>\n",
       "      <td>0.067698</td>\n",
       "    </tr>\n",
       "  </tbody>\n",
       "</table>\n",
       "</div>"
      ],
      "text/plain": [
       "Gameplay rating         1         2         3         4         5\n",
       "GFX rating                                                       \n",
       "0                0.077369  0.038685  0.029014  0.073501  0.058027\n",
       "1                0.072534  0.062863  0.079304  0.079304  0.072534\n",
       "2                0.087041  0.032882  0.096712  0.072534  0.067698"
      ]
     },
     "execution_count": 57,
     "metadata": {},
     "output_type": "execute_result"
    }
   ],
   "source": [
    "# get the joint\n",
    "joint_03 = joint_rel_freq.loc[0,3]\n",
    "print(joint_03)\n",
    "joint_rel_freq"
   ]
  },
  {
   "cell_type": "markdown",
   "metadata": {
    "cell_style": "split",
    "slideshow": {
     "slide_type": "subslide"
    }
   },
   "source": [
    "The marginal:\n",
    "\n",
    "$$ P(gfx = 0) $$\n",
    "\n",
    "- probability that respondent rated graphics at 0 **out of all respondents** \n",
    "- regardless of what they rated gameplay"
   ]
  },
  {
   "cell_type": "code",
   "execution_count": 58,
   "metadata": {
    "cell_style": "split",
    "slideshow": {
     "slide_type": "fragment"
    }
   },
   "outputs": [
    {
     "name": "stdout",
     "output_type": "stream",
     "text": [
      "0.2765957446808511\n"
     ]
    },
    {
     "data": {
      "text/plain": [
       "GFX rating\n",
       "0    0.276596\n",
       "1    0.366538\n",
       "2    0.356867\n",
       "dtype: float64"
      ]
     },
     "execution_count": 58,
     "metadata": {},
     "output_type": "execute_result"
    }
   ],
   "source": [
    "# get the marginal of graphics\n",
    "marginal_0 = joint_rel_freq.sum(axis = 1)[0]\n",
    "print(marginal_0)\n",
    "joint_rel_freq.sum(axis = 1)"
   ]
  },
  {
   "cell_type": "markdown",
   "metadata": {
    "slideshow": {
     "slide_type": "slide"
    }
   },
   "source": [
    "Recall when we first calculated conditional:\n",
    "- in subset of those who rated $gfx = 0$\n",
    "- probability of different gameplay ratings"
   ]
  },
  {
   "cell_type": "code",
   "execution_count": 59,
   "metadata": {
    "cell_style": "split",
    "scrolled": true,
    "slideshow": {
     "slide_type": "fragment"
    }
   },
   "outputs": [
    {
     "data": {
      "text/plain": [
       "Gameplay rating\n",
       "1    0.279720\n",
       "2    0.139860\n",
       "3    0.104895\n",
       "4    0.265734\n",
       "5    0.209790\n",
       "Name: 0, dtype: float64"
      ]
     },
     "execution_count": 59,
     "metadata": {},
     "output_type": "execute_result"
    }
   ],
   "source": [
    "# compared to conditional for gameplay \n",
    "# given graphics = 0\n",
    "\n",
    "relconditional"
   ]
  },
  {
   "cell_type": "markdown",
   "metadata": {
    "cell_style": "split",
    "slideshow": {
     "slide_type": "fragment"
    }
   },
   "source": [
    "Compare to calculation from formula:\n",
    "\n",
    "$$ P(gplay = 3 | gfx = 0) \\\\\n",
    "= \\frac{P(gplay = 3 , gfx = 0)}{P(gfx = 0)} $$"
   ]
  },
  {
   "cell_type": "code",
   "execution_count": 84,
   "metadata": {
    "cell_style": "split",
    "slideshow": {
     "slide_type": "-"
    }
   },
   "outputs": [
    {
     "data": {
      "text/plain": [
       "0.10489510489510488"
      ]
     },
     "execution_count": 84,
     "metadata": {},
     "output_type": "execute_result"
    }
   ],
   "source": [
    "joint_03/marginal_0"
   ]
  },
  {
   "cell_type": "markdown",
   "metadata": {
    "cell_style": "split",
    "slideshow": {
     "slide_type": "slide"
    }
   },
   "source": [
    "Simple interpretation:\n",
    "\n",
    "$$ P(X = x_i, Y = y_j) = \\\\ P(X = x_i | Y = y_j)P(Y = y_j) $$\n",
    "\n",
    "Probability $X= x_i$ and $Y = y_j$ :\n",
    "- out of **all possibilities for X and Y**"
   ]
  },
  {
   "cell_type": "markdown",
   "metadata": {
    "cell_style": "split",
    "slideshow": {
     "slide_type": "fragment"
    }
   },
   "source": [
    "is product of:\n",
    "$$ P(X = x_i | Y = y_j) $$ \n",
    "\n",
    "Probability $X= x_i$: \n",
    "- out of a  subset: all possibilities for $X$ and where $ Y = y_j$"
   ]
  },
  {
   "cell_type": "markdown",
   "metadata": {
    "cell_style": "split",
    "slideshow": {
     "slide_type": "fragment"
    }
   },
   "source": [
    "$$ P(Y = y_j) $$ \n",
    "\n",
    "- probability that given $ Y = y_j$ out of all possibilities for $Y$"
   ]
  },
  {
   "cell_type": "markdown",
   "metadata": {
    "slideshow": {
     "slide_type": "slide"
    }
   },
   "source": [
    "#### Statistically Independent Events\n",
    "- when random variables independent:\n",
    "- joint probability takes on simple form"
   ]
  },
  {
   "cell_type": "markdown",
   "metadata": {
    "cell_style": "split",
    "slideshow": {
     "slide_type": "subslide"
    }
   },
   "source": [
    "$$ P(X = x_i, Y = y_j) = \\\\ P(X = x_i | Y = y_j)P(Y = y_j) $$\n",
    "\n",
    "Probability $X= x_i$ and $Y = y_j$ :\n",
    "- out of **all possibilities for X and Y**\n",
    "\n"
   ]
  },
  {
   "cell_type": "markdown",
   "metadata": {
    "cell_style": "split",
    "slideshow": {
     "slide_type": "fragment"
    }
   },
   "source": [
    "$$P(X = x_i | Y = y_j) = P(X = x_i)$$\n",
    "\n",
    "- as the probability of getting X value\n",
    "- doesn't depend on Y."
   ]
  },
  {
   "cell_type": "markdown",
   "metadata": {
    "cell_style": "split",
    "slideshow": {
     "slide_type": "subslide"
    }
   },
   "source": [
    "For independent events:\n",
    "    \n",
    "$$ P(X = x_i, Y = y_j) = \\\\ P(X = x_i)P(Y = y_j) $$\n",
    "\n",
    "joint is product of probabilities."
   ]
  },
  {
   "cell_type": "markdown",
   "metadata": {
    "cell_style": "split",
    "slideshow": {
     "slide_type": "fragment"
    }
   },
   "source": [
    "or in set theory notation:\n",
    "\n",
    "$$ P(A \\cap B) = P(A)P(B) $$"
   ]
  },
  {
   "cell_type": "markdown",
   "metadata": {
    "slideshow": {
     "slide_type": "slide"
    }
   },
   "source": [
    "Another consequence of connection between conditionals, marginals, and joint:"
   ]
  },
  {
   "cell_type": "markdown",
   "metadata": {
    "cell_style": "split",
    "slideshow": {
     "slide_type": "-"
    }
   },
   "source": [
    "$$ P(X = x_i, Y = y_j) = \\\\ P(X = x_i | Y = y_j)P(Y = y_j) $$"
   ]
  },
  {
   "cell_type": "markdown",
   "metadata": {
    "cell_style": "split",
    "slideshow": {
     "slide_type": "-"
    }
   },
   "source": [
    "$$ P(X = x_i, Y = y_j) = \\\\ P(Y = y_j | X = x_i)P(X = x_i) $$"
   ]
  },
  {
   "cell_type": "markdown",
   "metadata": {
    "slideshow": {
     "slide_type": "-"
    }
   },
   "source": [
    "Doesn't matter which way we go"
   ]
  },
  {
   "cell_type": "markdown",
   "metadata": {
    "slideshow": {
     "slide_type": "slide"
    }
   },
   "source": [
    "Naturally lead to Bayes' theorem: we'll interpret later.\n",
    "\n",
    "$$ P(X = x_i | Y = y_j)P(Y = y_j) = P(Y = y_j | X = x_i)P(X = x_i)$$\n",
    "<br><br>\n",
    "\n",
    "implies:\n",
    "\n",
    "<center><b>Bayes' Theorem</b></center>\n",
    "\n",
    "$$ P(X = x_i | Y = y_j) = \\frac{P(Y = y_j | X = x_i)P(X = x_i)}{P(Y = y_j)} $$"
   ]
  },
  {
   "cell_type": "markdown",
   "metadata": {
    "cell_style": "center",
    "slideshow": {
     "slide_type": "slide"
    }
   },
   "source": [
    "Theorem seems very innocuous: \n",
    "- We will interpret it later..\n",
    "- Of great practical importance in machine learning and statistics.\n",
    "- One of the most important theorems concerning the foundation of knowledge."
   ]
  }
 ],
 "metadata": {
  "celltoolbar": "Slideshow",
  "kernelspec": {
   "display_name": "Python (learn-env)",
   "language": "python",
   "name": "learn-env"
  },
  "language_info": {
   "codemirror_mode": {
    "name": "ipython",
    "version": 3
   },
   "file_extension": ".py",
   "mimetype": "text/x-python",
   "name": "python",
   "nbconvert_exporter": "python",
   "pygments_lexer": "ipython3",
   "version": "3.8.5"
  }
 },
 "nbformat": 4,
 "nbformat_minor": 4
}
