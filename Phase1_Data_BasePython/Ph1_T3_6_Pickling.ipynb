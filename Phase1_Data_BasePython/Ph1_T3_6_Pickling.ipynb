{
 "cells": [
  {
   "cell_type": "markdown",
   "id": "e2e7800a",
   "metadata": {
    "cell_style": "center",
    "slideshow": {
     "slide_type": "slide"
    }
   },
   "source": [
    "<div style=\"color:white;\n",
    "           display:fill;\n",
    "           border-radius:5px;\n",
    "           background-color:#5642C5;\n",
    "           font-size:200%;\n",
    "           font-family:Arial;letter-spacing:0.5px\">\n",
    "\n",
    "<p width = 20%, style=\"padding: 10px;\n",
    "              color:white;\">\n",
    "Base Python: Pickling\n",
    "              \n",
    "</p>\n",
    "</div>\n",
    "\n",
    "Data Science Cohort Live NYC Jan 2025\n",
    "<p>Phase 1</p>\n",
    "<br>\n",
    "<br>\n",
    "\n",
    "<div align = \"right\">\n",
    "<img src=\"Images/flatiron-school-logo.png\" align = \"right\" width=\"200\"/>\n",
    "</div>\n",
    "    \n",
    "    "
   ]
  },
  {
   "cell_type": "markdown",
   "id": "af4ba17d",
   "metadata": {
    "cell_style": "split",
    "slideshow": {
     "slide_type": "slide"
    }
   },
   "source": [
    "#### Pickling\n",
    "Save Python objects for later use:\n",
    "- Files/images.\n",
    "- Instances of class objects with saved state:\n",
    "    - Trained machine learning models.\n",
    "    - Data and ML pipelines."
   ]
  },
  {
   "cell_type": "markdown",
   "id": "4533188c",
   "metadata": {
    "cell_style": "split",
    "slideshow": {
     "slide_type": "fragment"
    }
   },
   "source": [
    "#### What it does:\n",
    "\n",
    "- Transform and save object into binary file.\n",
    "- Not human readable.\n",
    "- Pickled file can be loaded into Python: \n",
    "    - Loads object\n",
    "    - Has saved attributes ready to go."
   ]
  },
  {
   "cell_type": "markdown",
   "id": "e8e483e8",
   "metadata": {
    "slideshow": {
     "slide_type": "slide"
    }
   },
   "source": [
    "#### DANGER: Only load pickled files from trusted sources. Can have executable code!"
   ]
  },
  {
   "cell_type": "markdown",
   "id": "098acf1a",
   "metadata": {
    "slideshow": {
     "slide_type": "slide"
    }
   },
   "source": [
    "You'll be using this later in the course:\n",
    "- to save your own models.\n",
    "- load/use them in other parts of a project.\n",
    "\n",
    "Let's see some simple examples:"
   ]
  },
  {
   "cell_type": "markdown",
   "id": "a1b591de",
   "metadata": {
    "slideshow": {
     "slide_type": "slide"
    }
   },
   "source": [
    "#### Pickling an object"
   ]
  },
  {
   "cell_type": "code",
   "execution_count": 2,
   "id": "63d183c8",
   "metadata": {
    "slideshow": {
     "slide_type": "fragment"
    }
   },
   "outputs": [],
   "source": [
    "# necessary to pickle files\n",
    "import pickle\n",
    "# let's load a csv file\n",
    "import csv"
   ]
  },
  {
   "cell_type": "markdown",
   "id": "9495427e",
   "metadata": {
    "slideshow": {
     "slide_type": "slide"
    }
   },
   "source": [
    "Load our old track meet data via csv dict reader:"
   ]
  },
  {
   "cell_type": "code",
<<<<<<< HEAD
   "execution_count": 6,
=======
   "execution_count": 4,
>>>>>>> upstream/main
   "id": "fa824279",
   "metadata": {
    "cell_style": "center",
    "slideshow": {
     "slide_type": "fragment"
    }
   },
   "outputs": [],
   "source": [
    "with open('Data/track_times_header.csv') as f:\n",
    "    colnames = next(f).strip().split(\",\")\n",
    "    csv_reader = csv.DictReader(f, fieldnames = colnames,  quoting=csv.QUOTE_NONNUMERIC)\n",
    "    data = list(csv_reader)\n",
    "    data"
   ]
  },
  {
   "cell_type": "markdown",
   "id": "cfa6fe15",
   "metadata": {
    "slideshow": {
     "slide_type": "slide"
    }
   },
   "source": [
    "Python object with our track meet data in dict form with correct types:"
   ]
  },
  {
   "cell_type": "code",
   "execution_count": 7,
   "id": "e93c7a93",
   "metadata": {
    "slideshow": {
     "slide_type": "fragment"
    }
   },
   "outputs": [
    {
     "data": {
      "text/plain": [
       "[{'Meet 1': 13.1, 'Meet 2': 13.59, 'Meet 3': 13.44},\n",
       " {'Meet 1': 13.93, 'Meet 2': 13.85, 'Meet 3': 13.47},\n",
       " {'Meet 1': 14.12, 'Meet 2': 14.41, 'Meet 3': 13.89},\n",
       " {'Meet 1': 14.42, 'Meet 2': 13.55, 'Meet 3': 13.43}]"
      ]
     },
     "execution_count": 7,
     "metadata": {},
     "output_type": "execute_result"
    }
   ],
   "source": [
    "data"
   ]
  },
  {
   "cell_type": "markdown",
   "id": "42009614",
   "metadata": {
    "slideshow": {
     "slide_type": "slide"
    }
   },
   "source": [
    "Imagine:\n",
    "- Don't want to save this to text.\n",
    "- Want to load back directly as previous Python dict."
   ]
  },
  {
   "cell_type": "markdown",
   "id": "01f25b51",
   "metadata": {
    "slideshow": {
     "slide_type": "slide"
    }
   },
   "source": [
    "Serializing an object via pickling:\n",
    "- Saving object in binary file\n",
    "- pickle.dump(object, open(filename, \"wb\") )\n",
    "- \"wb\" = write binary"
   ]
  },
  {
   "cell_type": "code",
   "execution_count": 8,
   "id": "44a9e738",
   "metadata": {
    "slideshow": {
     "slide_type": "fragment"
    }
   },
   "outputs": [],
   "source": [
    "    #this is the pickling step\n",
    "    pickle.dump(data, open( \"Data/data_save.pkl\", \"wb\" ) )"
   ]
  },
  {
   "cell_type": "code",
<<<<<<< HEAD
   "execution_count": 9,
   "metadata": {},
   "outputs": [
    {
     "ename": "SyntaxError",
     "evalue": "invalid syntax (<ipython-input-9-f0a43d025dc3>, line 1)",
     "output_type": "error",
     "traceback": [
      "\u001b[1;36m  File \u001b[1;32m\"<ipython-input-9-f0a43d025dc3>\"\u001b[1;36m, line \u001b[1;32m1\u001b[0m\n\u001b[1;33m    with open(\"\")\u001b[0m\n\u001b[1;37m                 ^\u001b[0m\n\u001b[1;31mSyntaxError\u001b[0m\u001b[1;31m:\u001b[0m invalid syntax\n"
     ]
    }
   ],
   "source": [
    "with open(\"\")"
=======
   "execution_count": null,
   "id": "8da3c16e",
   "metadata": {},
   "outputs": [],
   "source": [
    "with open(\"Data/data_save.pkl\", \"wb\") as f:\n",
    "    pickle.dump(data, f)\n",
    "    "
>>>>>>> upstream/main
   ]
  },
  {
   "cell_type": "markdown",
   "id": "7e4df6fd",
   "metadata": {
    "slideshow": {
     "slide_type": "slide"
    }
   },
   "source": [
    "#### Loading pickled object:\n",
    "- pickle.load(open(filename, \"rb\") )\n",
    "- \"rb\" = read binary"
   ]
  },
  {
   "cell_type": "code",
   "execution_count": 10,
   "id": "4d2bad84",
   "metadata": {
    "slideshow": {
     "slide_type": "slide"
    }
   },
   "outputs": [
    {
     "data": {
      "text/plain": [
       "[{'Meet 1': 13.1, 'Meet 2': 13.59, 'Meet 3': 13.44},\n",
       " {'Meet 1': 13.93, 'Meet 2': 13.85, 'Meet 3': 13.47},\n",
       " {'Meet 1': 14.12, 'Meet 2': 14.41, 'Meet 3': 13.89},\n",
       " {'Meet 1': 14.42, 'Meet 2': 13.55, 'Meet 3': 13.43}]"
      ]
     },
     "execution_count": 10,
     "metadata": {},
     "output_type": "execute_result"
    }
   ],
   "source": [
    "#### Load pickled object:\n",
    "loaded_data = pickle.load(open('Data/data_save.pkl', 'rb'))\n",
    "loaded_data"
   ]
  },
  {
   "cell_type": "markdown",
   "id": "705ad70d",
   "metadata": {
    "slideshow": {
     "slide_type": "slide"
    }
   },
   "source": [
    "The loaded pickled file is a Python object: \n",
    "- A dict with our keys and values in the right type format.\n",
    "\n",
    "Can save/load all kinds of Python objects:\n",
    "- matplotlib image objects.\n",
    "- Scikit-learn/statsmodel model instances.\n",
    "- Bokeh/plotly interactive plots, etc."
   ]
  },
  {
   "cell_type": "markdown",
   "id": "17c36148",
   "metadata": {
    "slideshow": {
     "slide_type": "slide"
    }
   },
   "source": [
    "Dont believe me?\n",
    "- Unpickle plot.pkl"
   ]
  },
  {
   "cell_type": "code",
   "execution_count": 11,
   "id": "449f805e",
   "metadata": {
    "scrolled": true,
    "slideshow": {
     "slide_type": "subslide"
    }
   },
   "outputs": [
    {
     "data": {
      "text/plain": [
       "<matplotlib.collections.PathCollection at 0x1491b61e700>"
      ]
     },
     "execution_count": 11,
     "metadata": {},
     "output_type": "execute_result"
    },
    {
     "data": {
      "image/png": "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\n",
      "text/plain": [
       "<Figure size 432x288 with 1 Axes>"
      ]
     },
     "metadata": {
      "needs_background": "light"
     },
     "output_type": "display_data"
    }
   ],
   "source": [
    "import matplotlib.pyplot as plt\n",
    "\n",
    "fig, ax = plt.subplots()\n",
    "ax.scatter(x = [1,2,3], y = [0.5, .4, 1])"
   ]
  },
  {
   "cell_type": "code",
   "execution_count": 12,
   "id": "6365de8b",
   "metadata": {},
   "outputs": [],
   "source": [
    "pickle.dump(fig, open(\"new_plot.pkl\", \"wb\"))"
   ]
  },
  {
   "cell_type": "code",
   "execution_count": 13,
   "id": "ae7b578a",
   "metadata": {},
   "outputs": [],
   "source": [
    "fig2 = pickle.load(open(\"new_plot.pkl\", \"rb\"))"
   ]
  },
  {
   "cell_type": "code",
   "execution_count": 14,
   "id": "469c3889",
   "metadata": {
    "slideshow": {
     "slide_type": "fragment"
    }
   },
   "outputs": [
    {
     "data": {
      "text/plain": [
       "matplotlib.figure.Figure"
      ]
     },
     "execution_count": 14,
     "metadata": {},
     "output_type": "execute_result"
    }
   ],
   "source": [
    "type(fig2)"
   ]
  },
  {
   "cell_type": "code",
   "execution_count": null,
   "id": "8f1e0cca",
   "metadata": {},
   "outputs": [],
   "source": []
  }
 ],
 "metadata": {
  "celltoolbar": "Slideshow",
  "kernelspec": {
   "display_name": "Python 3",
   "language": "python",
   "name": "python3"
  },
  "language_info": {
   "codemirror_mode": {
    "name": "ipython",
    "version": 3
   },
   "file_extension": ".py",
   "mimetype": "text/x-python",
   "name": "python",
   "nbconvert_exporter": "python",
   "pygments_lexer": "ipython3",
   "version": "3.8.5"
  }
 },
 "nbformat": 4,
 "nbformat_minor": 5
}
